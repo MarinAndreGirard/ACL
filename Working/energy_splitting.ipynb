{
 "cells": [
  {
   "cell_type": "markdown",
   "metadata": {},
   "source": [
    "This document is to study the phenomena of energy splitting\n",
    "Show in a very clear way how branching causes the space in which the worlds are defined to not split in 2.\n",
    "Show how this responds to adding a self interaction term."
   ]
  },
  {
   "cell_type": "code",
   "execution_count": 1,
   "metadata": {},
   "outputs": [],
   "source": [
    "import sys\n",
    "import os\n",
    "\n",
    "# modify syspath directory to sys.path\n",
    "\n",
    "package_path = os.path.abspath(os.path.join('..','core'))\n",
    "if package_path not in sys.path:\n",
    "    sys.path.append(package_path)\n",
    "\n",
    "package_path = os.path.abspath(os.path.join('..','utils'))\n",
    "if package_path not in sys.path:\n",
    "    sys.path.append(package_path)\n",
    "\n",
    "package_path = os.path.abspath(os.path.join('..'))\n",
    "if package_path not in sys.path:\n",
    "    sys.path.append(package_path)\n",
    "\n",
    "import numpy as np\n",
    "import qutip as qt\n",
    "import math\n",
    "import matplotlib.pyplot as plt\n",
    "\n",
    "from IPython.display import HTML # both needed to disply gifs\n",
    "from PIL import Image\n",
    "\n",
    "# Import modules from the package\n",
    "from core import create_hamiltonian as ch\n",
    "from core import create_state as cs\n",
    "from core import create_coherent_state\n",
    "from core import time_evo\n",
    "from core import time_evo_new\n",
    "from core import time_evo_from_state\n",
    "from core import load_param\n",
    "from core import load_H_list\n",
    "from core import load_result\n",
    "from core import load_tlist\n",
    "from core import operators\n",
    "from core.schmidt_solve import compute_schmidt_states_all_time\n",
    "from core.eigen_ener_states import eigen_ener_states as eig\n",
    "from core import annihilation_operator\n",
    "from utils.entropy import compute_VN, plot_VN, compute_VN_time\n",
    "from utils import collapse_gif\n",
    "from utils.collapse_gif import collapse_gif\n",
    "from utils.display_gif import display_gif\n",
    "from utils.distribution_gif import gif_distribution_eig_total\n",
    "from utils.distribution_gif import prob_gif\n",
    "from utils.distribution_gif import gif_distrib_H_s_int\n",
    "from utils.distribution_gif import gif_distrib_system_first_eig\n",
    "from utils.plot import plot_basic\n",
    "from utils.plot import plot_with_binning\n",
    "from utils.basic_functions import state_distribution_eig_tot\n",
    "from utils.basic_functions import random_dephasing\n",
    "from utils.basic_functions import get_state_probabilities\n",
    "from utils.basic_functions import position\n",
    "from utils.basic_functions import copy_cat\n",
    "from utils.overlap import overlap\n",
    "from utils.overlap import gif_schmidt_overlap\n",
    "from utils.interference import interference_plot\n",
    "from utils.expectations import exp_val_time\n",
    "from utils.plot_hamiltonians import plot_hamiltonians\n",
    "\n"
   ]
  },
  {
   "cell_type": "markdown",
   "metadata": {},
   "source": [
    "<h3>Exploring energy splitting in the context of a coherent state<h3>"
   ]
  },
  {
   "cell_type": "code",
   "execution_count": 2,
   "metadata": {},
   "outputs": [],
   "source": [
    "file_name = \"coherent_state_decoherence\"\n",
    "\n",
    "d1, d2, E_s, E_s2, E_int_s, E_int_e, E_int_s2, E_int_e2, E_e, E_e2, envi, tmax, ind_nb, log = load_param(file_name)\n",
    "info = load_param(file_name)\n",
    "H_list=load_H_list(file_name)\n",
    "result=load_result(file_name)\n",
    "tlist=load_tlist(file_name)\n"
   ]
  },
  {
   "cell_type": "code",
   "execution_count": 3,
   "metadata": {},
   "outputs": [],
   "source": [
    "eigen = eig(H_list)\n"
   ]
  },
  {
   "cell_type": "code",
   "execution_count": 4,
   "metadata": {},
   "outputs": [],
   "source": [
    "s_list = compute_schmidt_states_all_time(result, ind_nb)\n",
    "ss_list = s_list[0]\n",
    "se_list= s_list[1]\n",
    "sv_list = s_list[2]\n",
    "s_full_list=s_list[3]"
   ]
  },
  {
   "cell_type": "code",
   "execution_count": 12,
   "metadata": {},
   "outputs": [],
   "source": [
    "from matplotlib.animation import FuncAnimation\n",
    "from IPython.display import HTML\n",
    "from PIL import Image\n",
    "\n",
    "def update(frames,result,eigenstates_total,eigenenergies_total,s_full_list,zoom,x,y):\n",
    "    \n",
    "    # Clear previous plot\n",
    "    frames=frames+1\n",
    "    plt.clf()\n",
    "\n",
    "    state = s_full_list[frames][0]\n",
    "    state2 = s_full_list[frames][1]\n",
    "    energy_coeff=[abs(np.vdot(state, eigenstate)) ** 2 for eigenstate in eigenstates_total]\n",
    "    energy_coeff2=[abs(np.vdot(state2, eigenstate)) ** 2 for eigenstate in eigenstates_total]\n",
    "    if zoom == True:\n",
    "        plt.plot(eigenenergies_total, energy_coeff)\n",
    "        plt.plot(eigenenergies_total, energy_coeff2)\n",
    "        plt.title(f\"Plot of the probability that Schmidt1 and 2 are in the total energy eigenstates\")\n",
    "        plt.xlabel(\"Eigenenergies of H_total\")\n",
    "        plt.ylabel(\"Probabilities\")\n",
    "        plt.ylim(y[0], y[1])\n",
    "        plt.xlim(x[0], x[1])\n",
    "    else:\n",
    "        plt.plot(eigenenergies_total, energy_coeff)\n",
    "        plt.plot(eigenenergies_total, energy_coeff2)\n",
    "        plt.title(f\"Plot of the probability that Schmidt1 and 2 are in the total energy eigenstates\")\n",
    "        plt.xlabel(\"Eigenenergies of H_total\")\n",
    "        plt.ylabel(\"Probabilities\")\n",
    "        plt.ylim(0, 0.35)\n",
    "    \n",
    "    # Calculate the mean\n",
    "    mean1 = np.sum(np.array(energy_coeff) * np.array(eigenenergies_total))\n",
    "    mean2 = np.sum(np.array(energy_coeff2) * np.array(eigenenergies_total))\n",
    "    st1_tst1 = np.mean((np.array(energy_coeff) * np.array(eigenenergies_total)-mean1)**2)\n",
    "    st1_tst2 = np.mean((np.array(energy_coeff2) * np.array(eigenenergies_total)-mean2)**2)\n",
    "    std1 = np.std(np.array(energy_coeff) * np.array(eigenenergies_total))\n",
    "    std2 = np.std(np.array(energy_coeff2) * np.array(eigenenergies_total))\n",
    "    # Add a vertical line at the mean for energy_coeff\n",
    "    plt.axvline(x=mean1, color='b', linestyle='--')\n",
    "    # Add a vertical line at the mean for energy_coeff2\n",
    "    plt.axvline(x=mean2, color='r', linestyle='--')\n",
    "    # Add a vertical line at the mean plus one standard deviation for energy_coeff\n",
    "    plt.axvline(x=mean1 + st1_tst1, color='g', linestyle='--')\n",
    "    # Add a vertical line at the mean minus one standard deviation for energy_coeff\n",
    "    plt.axvline(x=mean1 - st1_tst1, color='g', linestyle='--')\n",
    "    # Add a vertical line at the mean plus one standard deviation for energy_coeff2\n",
    "    plt.axvline(x=mean2 + st1_tst2, color='c', linestyle='--')\n",
    "    # Add a vertical line at the mean minus one standard deviation for energy_coeff2\n",
    "    plt.axvline(x=mean2 - st1_tst2, color='c', linestyle='--')\n",
    "    plt.legend([\"Schmidt1\", \"Schmidt2\", \"Mean1\", \"Mean2\", \"Mean1 + Std1\", \"Mean1 - Std1\", \"Mean2 + Std2\", \"Mean2 - Std2\"])\n",
    "    # Add clock\n",
    "    plt.text(0.95, 0.95, f\"Frame: {frames}\", horizontalalignment='left', verticalalignment='top', transform=plt.gca().transAxes)\n",
    "\n",
    "def gif_distribution_eig_total(result,eig,s_list, name,ind_nb, zoom=False,x=[0,2],y=[0,0.05]): #EI,w,result,eigenstates_total,eigenenergies_total,env,d1,d2,E_spacing,tmax,ind_nb\n",
    "    \n",
    "    #Get the necessary information\n",
    "    eigenstates_total=eig[1]\n",
    "    eigenenergies_total=eig[0]\n",
    "\n",
    "    s_full_list=s_list[3]\n",
    "    \n",
    "    # Create a figure\n",
    "    fig = plt.figure(figsize=(10, 5))\n",
    "\n",
    "    # Create the animation\n",
    "    ani = FuncAnimation(fig, update,fargs=(result,eigenstates_total,eigenenergies_total,s_full_list,zoom,x,y), frames=ind_nb-1, interval=100)\n",
    "\n",
    "    # Save the animation as a GIF\n",
    "    path = f'../outputs/gifs/distrib_eig_total_{name}_zoom_{zoom}.gif'\n",
    "    ani.save(path, writer='pillow')\n",
    "    plt.close()\n",
    "\n",
    "    return path\n"
   ]
  },
  {
   "cell_type": "code",
   "execution_count": 13,
   "metadata": {},
   "outputs": [
    {
     "data": {
      "text/html": [
       "<img src=\"../outputs/gifs/distrib_eig_total_coherent_state_decoherence_zoom_False.gif\">"
      ],
      "text/plain": [
       "<IPython.core.display.HTML object>"
      ]
     },
     "metadata": {},
     "output_type": "display_data"
    }
   ],
   "source": [
    "path = gif_distribution_eig_total(result,eigen,s_list,file_name,ind_nb, zoom=False,x=[0,2],y=[0,0.05])\n",
    "display_gif(path)"
   ]
  },
  {
   "cell_type": "code",
   "execution_count": null,
   "metadata": {},
   "outputs": [],
   "source": []
  },
  {
   "cell_type": "code",
   "execution_count": 14,
   "metadata": {},
   "outputs": [
    {
     "data": {
      "text/html": [
       "<img src=\"../outputs/gifs/distrib_eig_total_coherent_state_decoherence_zoom_True.gif\">"
      ],
      "text/plain": [
       "<IPython.core.display.HTML object>"
      ]
     },
     "metadata": {},
     "output_type": "display_data"
    }
   ],
   "source": [
    "path = gif_distribution_eig_total(result,eigen,s_list,file_name,ind_nb, zoom=True,x=[0,2],y=[0,0.05])\n",
    "display_gif(path)"
   ]
  },
  {
   "cell_type": "code",
   "execution_count": 16,
   "metadata": {},
   "outputs": [],
   "source": [
    "o1,o2,o3=overlap(tlist,result,H_list,s_list,eigen,info)"
   ]
  },
  {
   "cell_type": "code",
   "execution_count": 17,
   "metadata": {},
   "outputs": [
    {
     "data": {
      "text/plain": [
       "[<matplotlib.lines.Line2D at 0x129ff8b90>]"
      ]
     },
     "execution_count": 17,
     "metadata": {},
     "output_type": "execute_result"
    },
    {
     "data": {
      "image/png": "[encoded data removed]",
      "text/plain": [
       "<Figure size 640x480 with 1 Axes>"
      ]
     },
     "metadata": {},
     "output_type": "display_data"
    }
   ],
   "source": [
    "plt.plot(o1)\n",
    "plt.plot(o2)\n",
    "plt.plot(o3)"
   ]
  },
  {
   "cell_type": "markdown",
   "metadata": {},
   "source": [
    "Start with finding a set of parameters where we get very clear and clean collapse."
   ]
  },
  {
   "cell_type": "code",
   "execution_count": 2,
   "metadata": {},
   "outputs": [
    {
     "ename": "IndexError",
     "evalue": "list index out of range",
     "output_type": "error",
     "traceback": [
      "\u001b[0;31m---------------------------------------------------------------------------\u001b[0m",
      "\u001b[0;31mIndexError\u001b[0m                                Traceback (most recent call last)",
      "Cell \u001b[0;32mIn[2], line 8\u001b[0m\n\u001b[1;32m      6\u001b[0m result, tlist, H_list, ket_list, info \u001b[38;5;241m=\u001b[39m time_evo(d1,d2,E_spacing, E_int, E_int2, E_env, E_env2,w,envi, tmax, ind_nb,log)\n\u001b[1;32m      7\u001b[0m eigen \u001b[38;5;241m=\u001b[39m eig(H_list)\n\u001b[0;32m----> 8\u001b[0m s_list \u001b[38;5;241m=\u001b[39m \u001b[43mcompute_schmidt_states_all_time\u001b[49m\u001b[43m(\u001b[49m\u001b[43mresult\u001b[49m\u001b[43m,\u001b[49m\u001b[43m \u001b[49m\u001b[43mind_nb\u001b[49m\u001b[43m)\u001b[49m\n\u001b[1;32m      9\u001b[0m ss_list \u001b[38;5;241m=\u001b[39m s_list[\u001b[38;5;241m0\u001b[39m]\n\u001b[1;32m     10\u001b[0m se_list\u001b[38;5;241m=\u001b[39m s_list[\u001b[38;5;241m1\u001b[39m]\n",
      "File \u001b[0;32m~/Dev/ACL/core/schmidt_solve.py:103\u001b[0m, in \u001b[0;36mcompute_schmidt_states_all_time\u001b[0;34m(result, ind_nb)\u001b[0m\n\u001b[1;32m    101\u001b[0m a2 \u001b[38;5;241m=\u001b[39m np\u001b[38;5;241m.\u001b[39msqueeze(a2)\n\u001b[1;32m    102\u001b[0m \u001b[38;5;28;01mif\u001b[39;00m time_index \u001b[38;5;241m!=\u001b[39m \u001b[38;5;241m0\u001b[39m:\n\u001b[0;32m--> 103\u001b[0m     b2 \u001b[38;5;241m=\u001b[39m \u001b[43mse\u001b[49m\u001b[43m[\u001b[49m\u001b[38;5;241;43m1\u001b[39;49m\u001b[43m]\u001b[49m\u001b[38;5;241m.\u001b[39mflatten() \u001b[38;5;66;03m#schmidt 2 on system 2\u001b[39;00m\n\u001b[1;32m    104\u001b[0m     b2\u001b[38;5;241m=\u001b[39mnp\u001b[38;5;241m.\u001b[39msqueeze(b2)\n\u001b[1;32m    105\u001b[0m \u001b[38;5;28;01melse\u001b[39;00m:\n",
      "\u001b[0;31mIndexError\u001b[0m: list index out of range"
     ]
    }
   ],
   "source": [
    "# Setting parameters for simulation TODO make a config file for this.\n",
    "\n",
    "d1 = 10; d2 = 200; E_spacing = 1.0; E_int = 0.075; E_int2 = 0; E_env = 1; E_env2 = 0; w = [0,0,0,np.sqrt(0.3),0,0,0,np.sqrt(0.7),0,0]; envi=[0]; tmax = 20; ind_nb = 100; log = 0\n",
    "env_sys=0\n",
    "# Running the simulation and running the core functions\n",
    "result, tlist, H_list, ket_list, info = time_evo(d1,d2,E_spacing, E_int, E_int2, E_env, E_env2,w,envi, tmax, ind_nb,log)\n",
    "eigen = eig(H_list)\n",
    "s_list = compute_schmidt_states_all_time(result, ind_nb)\n",
    "ss_list = s_list[0]\n",
    "se_list= s_list[1]\n",
    "sv_list = s_list[2]\n",
    "s_full_list=s_list[3]"
   ]
  },
  {
   "cell_type": "markdown",
   "metadata": {},
   "source": [
    "These parameters correspond to a system + environment that has a decent collapse, as seen in the following gif"
   ]
  },
  {
   "cell_type": "code",
   "execution_count": 3,
   "metadata": {},
   "outputs": [
    {
     "data": {
      "text/html": [
       "<img src=\"../outputs/gifs/collapse_param_[10, 200, 1.0, 0.075, 0, 1, 0, [0, 0, 0, 0.5477225575051661, 0, 0, 0, 0.8366600265340756, 0, 0], [0], 20, 100, 0, 0].gif\">"
      ],
      "text/plain": [
       "<IPython.core.display.HTML object>"
      ]
     },
     "metadata": {},
     "output_type": "display_data"
    }
   ],
   "source": [
    "gif_path = collapse_gif(eigen, s_list, info,env_sys)\n",
    "display_gif(gif_path)\n"
   ]
  },
  {
   "cell_type": "markdown",
   "metadata": {},
   "source": [
    "We now see the variation in time of the distribution of the probabilities of Schmidt state 1 and 2 of being in the total energy eigenstates."
   ]
  },
  {
   "cell_type": "code",
   "execution_count": null,
   "metadata": {},
   "outputs": [
    {
     "data": {
      "text/html": [
       "<img src=\"../outputs/gifs/distrib_param_[10, 200, 1.0, 0.075, 0, 1, 0, [0, 0, 0, 0.5477225575051661, 0, 0, 0, 0.8366600265340756, 0, 0], [0], 20, 100, 0, 0]_zoom_False.gif\">"
      ],
      "text/plain": [
       "<IPython.core.display.HTML object>"
      ]
     },
     "metadata": {},
     "output_type": "display_data"
    }
   ],
   "source": [
    "path = gif_distribution_eig_total(result,eigen,s_list, info)\n",
    "print(path)\n",
    "display_gif(path)"
   ]
  },
  {
   "cell_type": "markdown",
   "metadata": {},
   "source": [
    "The reason why we suspect that energy splitting is happening can be seen in a zoomed version of this gif. The initially overlapping distributions os Schmidt 1 and 2 evolve to barely share the energy eigenstates at all."
   ]
  },
  {
   "cell_type": "code",
   "execution_count": null,
   "metadata": {},
   "outputs": [
    {
     "data": {
      "text/html": [
       "<img src=\"../outputs/gifs/distrib_param_[10, 200, 1.0, 0.075, 0, 1, 0, [0, 0, 0, 0.5477225575051661, 0, 0, 0, 0.8366600265340756, 0, 0], [0], 20, 100, 0, 0]_zoom_True.gif\">"
      ],
      "text/plain": [
       "<IPython.core.display.HTML object>"
      ]
     },
     "metadata": {},
     "output_type": "display_data"
    }
   ],
   "source": [
    "path = gif_distribution_eig_total(result,eigen,s_list, info,True)\n",
    "display_gif(path)"
   ]
  },
  {
   "cell_type": "markdown",
   "metadata": {},
   "source": [
    "Another way of observing this is by looking at a plot of the sum of the product of the probabilities visible in the gif above. A set of 0's where the other is not zero would lead to a zero overlap.  "
   ]
  },
  {
   "cell_type": "code",
   "execution_count": null,
   "metadata": {},
   "outputs": [],
   "source": []
  },
  {
   "cell_type": "code",
   "execution_count": 7,
   "metadata": {},
   "outputs": [
    {
     "ename": "NameError",
     "evalue": "name 'mean' is not defined",
     "output_type": "error",
     "traceback": [
      "\u001b[0;31m---------------------------------------------------------------------------\u001b[0m",
      "\u001b[0;31mNameError\u001b[0m                                 Traceback (most recent call last)",
      "Cell \u001b[0;32mIn[7], line 8\u001b[0m\n\u001b[1;32m      6\u001b[0m plt\u001b[38;5;241m.\u001b[39mplot(tlist[\u001b[38;5;241m0\u001b[39m:\u001b[38;5;28mlen\u001b[39m(tlist)\u001b[38;5;241m-\u001b[39m\u001b[38;5;241m2\u001b[39m],o02)\n\u001b[1;32m      7\u001b[0m plt\u001b[38;5;241m.\u001b[39mplot(tlist[\u001b[38;5;241m0\u001b[39m:\u001b[38;5;28mlen\u001b[39m(tlist)\u001b[38;5;241m-\u001b[39m\u001b[38;5;241m2\u001b[39m],o12)\n\u001b[0;32m----> 8\u001b[0m plt\u001b[38;5;241m.\u001b[39maxhline(y\u001b[38;5;241m=\u001b[39m\u001b[43mmean\u001b[49m, color\u001b[38;5;241m=\u001b[39m\u001b[38;5;124m'\u001b[39m\u001b[38;5;124mred\u001b[39m\u001b[38;5;124m'\u001b[39m, linestyle\u001b[38;5;241m=\u001b[39m\u001b[38;5;124m'\u001b[39m\u001b[38;5;124m--\u001b[39m\u001b[38;5;124m'\u001b[39m)\n\u001b[1;32m      9\u001b[0m plt\u001b[38;5;241m.\u001b[39mtitle(\u001b[38;5;124m\"\u001b[39m\u001b[38;5;124mGraph of the overlap of probabilities in the total energy eigenbasis\u001b[39m\u001b[38;5;124m\"\u001b[39m)\n\u001b[1;32m     10\u001b[0m plt\u001b[38;5;241m.\u001b[39mxlabel(\u001b[38;5;124m\"\u001b[39m\u001b[38;5;124mTime\u001b[39m\u001b[38;5;124m\"\u001b[39m)\n",
      "\u001b[0;31mNameError\u001b[0m: name 'mean' is not defined"
     ]
    },
    {
     "data": {
      "image/png": "[encoded data removed]",
      "text/plain": [
       "<Figure size 700x400 with 1 Axes>"
      ]
     },
     "metadata": {},
     "output_type": "display_data"
    }
   ],
   "source": [
    "o01, o02, o12= overlap(tlist,result,H_list,s_list,eigen,info)\n",
    "plt.figure(figsize=(7, 4))\n",
    "plt.xscale(\"log\")\n",
    "plt.yscale(\"log\")\n",
    "plt.plot(tlist[0:len(tlist)-2],o01)\n",
    "plt.plot(tlist[0:len(tlist)-2],o02)\n",
    "plt.plot(tlist[0:len(tlist)-2],o12)\n",
    "plt.title(\"Graph of the overlap of probabilities in the total energy eigenbasis\")\n",
    "plt.xlabel(\"Time\")\n",
    "plt.ylabel(r\"$\\vec{p}_i \\cdot \\vec{p}_j$\")\n",
    "plt.legend(['overlap Global-Schmidt 1', 'overlap Global-Schmidt 2', 'overlap Schmidt 1-Schmidt 2'])\n"
   ]
  },
  {
   "cell_type": "markdown",
   "metadata": {},
   "source": [
    "Note, schmidrt states do have to be orthogonal, but they dont have to live in different subspaces to do so, and they usually wont. But here they do. there is a factor of 10 difference post decoherence in teh overlap between the 2 schmdit states when compared to the overlap between them and the environment. One would expect that E_env the environment self interaction if higher would cause better decoherence, leading to lower overlap, but no, it seems to become worse when going above 2. changing the dimension of the environment also does not seem to cause a lower overlap. Continue investigating the parameters.\n",
    "\n"
   ]
  },
  {
   "cell_type": "code",
   "execution_count": null,
   "metadata": {},
   "outputs": [],
   "source": [
    "I will try to gif the overlaps. I should also add an averaging method to the overlap function"
   ]
  },
  {
   "cell_type": "code",
   "execution_count": null,
   "metadata": {},
   "outputs": [],
   "source": []
  },
  {
   "cell_type": "code",
   "execution_count": null,
   "metadata": {},
   "outputs": [
    {
     "name": "stdout",
     "output_type": "stream",
     "text": [
      "0.004903784237150637\n",
      "0.004903784237150637\n",
      "0.006731864963410276\n",
      "0.006763115854857064\n",
      "0.006012961732613416\n",
      "0.004785404583264309\n",
      "0.0033865834609741923\n",
      "0.0025522156246268963\n",
      "0.002029543805083897\n",
      "0.0017339779167547661\n",
      "0.0016374958572942864\n",
      "0.0014519067902638795\n",
      "0.0013541666174872367\n",
      "0.0009704467869420056\n",
      "0.0007446192569827239\n",
      "0.0007617245443936731\n",
      "0.00079329678534532\n",
      "0.0006462681213500067\n",
      "0.0003670225565492865\n",
      "0.00019461032265417606\n",
      "0.00012884057134097482\n",
      "0.00015232902661832545\n",
      "0.00014606720291155209\n",
      "7.715163403771951e-05\n",
      "4.7876832393507434e-06\n",
      "4.067748989239713e-05\n",
      "4.396659974772344e-05\n",
      "6.562748914093328e-05\n",
      "0.0003026712341295211\n",
      "0.000553474581598297\n",
      "0.0007786990426783071\n",
      "0.0010104669020283862\n",
      "0.001122179024026834\n",
      "0.0011452658775465239\n",
      "0.0010285690401174285\n",
      "0.000637301335477591\n",
      "0.0002237666377912337\n",
      "8.38916075020162e-05\n",
      "0.00014839845591826264\n",
      "0.0002964772779391634\n",
      "0.00034144775185564923\n",
      "0.0002835847355348826\n",
      "0.0002645108792613173\n",
      "0.00041567964891970396\n",
      "0.0006211994155580059\n",
      "0.000587518266226938\n",
      "0.0005330118405851869\n",
      "0.00043519137773007186\n",
      "0.0003567971628875071\n",
      "0.000286179012018609\n",
      "0.00015778989182070493\n",
      "7.45992148064222e-05\n",
      "7.576514352033024e-05\n",
      "0.000121323281666576\n",
      "0.00013990669580770377\n",
      "0.000133090081645\n",
      "6.86741299284444e-05\n",
      "3.065262704547909e-05\n",
      "6.990276390483371e-05\n",
      "4.162226415296476e-05\n",
      "8.280240122815412e-05\n",
      "0.00016389645029088844\n",
      "0.0003201147461691801\n",
      "0.00042595132535283835\n",
      "0.000530973186494085\n",
      "0.0006339370800876459\n",
      "0.0005666189265253933\n",
      "0.0005651013472115856\n",
      "0.0004759186519928588\n",
      "0.00035278317672244556\n",
      "0.00034217983578692\n",
      "0.00021196133384913262\n",
      "0.00018049217763202072\n",
      "0.0002831767791551905\n",
      "0.0003866385670390719\n",
      "0.0002644672158326599\n",
      "0.00022892902090248\n",
      "0.00011872548904135866\n",
      "1.7335336677682972e-05\n",
      "3.3448986085436994e-05\n",
      "0.0001629040701612379\n",
      "0.0003258150683748702\n",
      "0.0005770418647348037\n",
      "0.000763294346688714\n",
      "0.0008123299115659742\n",
      "0.0008778233071444488\n",
      "0.0009570909298527387\n",
      "0.0011131785167840932\n",
      "0.0011377758399340827\n",
      "0.0014795305318568096\n",
      "0.0016976498759550302\n",
      "0.0018082163234506418\n",
      "0.0016223108791692889\n",
      "0.0016271593338690062\n",
      "0.0022201200544090752\n",
      "0.0021470702598482745\n",
      "0.0016689890183163947\n",
      "0.0016630304021364051\n",
      "0.0014573010621882355\n",
      "0.001119637910864575\n"
     ]
    },
    {
     "data": {
      "text/html": [
       "<img src=\"../outputs/gifs/overlap_schmidts_param_[10, 200, 1.0, 0.075, 0, 1, 0, [0, 0, 0, 0.5477225575051661, 0, 0, 0, 0.8366600265340756, 0, 0], [0], 20, 100, 0, 0]_zoom_False.gif\">"
      ],
      "text/plain": [
       "<IPython.core.display.HTML object>"
      ]
     },
     "metadata": {},
     "output_type": "display_data"
    }
   ],
   "source": [
    "path = gif_schmidt_overlap(eigen,s_list, info)\n",
    "display_gif(path)"
   ]
  },
  {
   "cell_type": "code",
   "execution_count": null,
   "metadata": {},
   "outputs": [],
   "source": []
  },
  {
   "cell_type": "code",
   "execution_count": null,
   "metadata": {},
   "outputs": [],
   "source": []
  },
  {
   "cell_type": "code",
   "execution_count": null,
   "metadata": {},
   "outputs": [],
   "source": []
  },
  {
   "cell_type": "code",
   "execution_count": null,
   "metadata": {},
   "outputs": [],
   "source": []
  },
  {
   "cell_type": "code",
   "execution_count": null,
   "metadata": {},
   "outputs": [],
   "source": []
  },
  {
   "cell_type": "code",
   "execution_count": null,
   "metadata": {},
   "outputs": [],
   "source": []
  },
  {
   "cell_type": "code",
   "execution_count": null,
   "metadata": {},
   "outputs": [],
   "source": []
  },
  {
   "cell_type": "code",
   "execution_count": null,
   "metadata": {},
   "outputs": [],
   "source": []
  },
  {
   "cell_type": "code",
   "execution_count": null,
   "metadata": {},
   "outputs": [],
   "source": []
  },
  {
   "cell_type": "code",
   "execution_count": null,
   "metadata": {},
   "outputs": [],
   "source": []
  },
  {
   "cell_type": "code",
   "execution_count": null,
   "metadata": {},
   "outputs": [],
   "source": []
  },
  {
   "cell_type": "code",
   "execution_count": null,
   "metadata": {},
   "outputs": [],
   "source": []
  },
  {
   "cell_type": "code",
   "execution_count": null,
   "metadata": {},
   "outputs": [],
   "source": []
  },
  {
   "cell_type": "code",
   "execution_count": null,
   "metadata": {},
   "outputs": [],
   "source": []
  },
  {
   "cell_type": "code",
   "execution_count": null,
   "metadata": {},
   "outputs": [],
   "source": []
  }
 ],
 "metadata": {
  "kernelspec": {
   "display_name": "Python 3",
   "language": "python",
   "name": "python3"
  },
  "language_info": {
   "codemirror_mode": {
    "name": "ipython",
    "version": 3
   },
   "file_extension": ".py",
   "mimetype": "text/x-python",
   "name": "python",
   "nbconvert_exporter": "python",
   "pygments_lexer": "ipython3",
   "version": "3.11.7"
  }
 },
 "nbformat": 4,
 "nbformat_minor": 2
}
