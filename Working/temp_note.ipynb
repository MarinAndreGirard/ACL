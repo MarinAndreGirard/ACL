{
 "cells": [
  {
   "cell_type": "code",
   "execution_count": 24,
   "metadata": {},
   "outputs": [],
   "source": [
    "import numpy as np\n",
    "import math \n",
    "import qutip as qt"
   ]
  },
  {
   "cell_type": "code",
   "execution_count": 25,
   "metadata": {},
   "outputs": [],
   "source": [
    "A=qt.rand_herm(4,1).full()"
   ]
  },
  {
   "cell_type": "code",
   "execution_count": 26,
   "metadata": {},
   "outputs": [
    {
     "data": {
      "text/plain": [
       "array([[ 0.33913946+0.j        , -0.06220078+0.04649991j,\n",
       "         0.28905076-0.01358472j, -0.31678594-0.07683136j],\n",
       "       [-0.06220078-0.04649991j,  0.87560224+0.j        ,\n",
       "         0.25490048+0.06796975j, -0.22763731-0.020448j  ],\n",
       "       [ 0.28905076+0.01358472j,  0.25490048-0.06796975j,\n",
       "         0.        +0.j        ,  0.3648712 -0.91743068j],\n",
       "       [-0.31678594+0.07683136j, -0.22763731+0.020448j  ,\n",
       "         0.3648712 +0.91743068j,  0.81060554+0.j        ]])"
      ]
     },
     "execution_count": 26,
     "metadata": {},
     "output_type": "execute_result"
    }
   ],
   "source": [
    "A"
   ]
  },
  {
   "cell_type": "code",
   "execution_count": 32,
   "metadata": {},
   "outputs": [],
   "source": [
    "np.set_printoptions(precision=4, suppress = True)"
   ]
  },
  {
   "cell_type": "code",
   "execution_count": 33,
   "metadata": {},
   "outputs": [
    {
     "data": {
      "text/plain": [
       "array([[ 0.+0.j,  0.-0.j, -0.+0.j,  0.+0.j],\n",
       "       [ 0.-0.j,  0.+0.j,  0.+0.j,  0.+0.j],\n",
       "       [ 0.+0.j, -0.+0.j,  0.-0.j, -0.+0.j],\n",
       "       [-0.+0.j, -0.+0.j,  0.+0.j,  0.+0.j]])"
      ]
     },
     "execution_count": 33,
     "metadata": {},
     "output_type": "execute_result"
    }
   ],
   "source": [
    "A @ A @ A @ A - (A @ A @ A @ A).T.conj()"
   ]
  },
  {
   "cell_type": "code",
   "execution_count": 22,
   "metadata": {},
   "outputs": [
    {
     "ename": "NameError",
     "evalue": "name 'j' is not defined",
     "output_type": "error",
     "traceback": [
      "\u001b[0;31m---------------------------------------------------------------------------\u001b[0m",
      "\u001b[0;31mNameError\u001b[0m                                 Traceback (most recent call last)",
      "Cell \u001b[0;32mIn[22], line 1\u001b[0m\n\u001b[0;32m----> 1\u001b[0m A \u001b[38;5;241m=\u001b[39m np\u001b[38;5;241m.\u001b[39mrandom\u001b[38;5;241m.\u001b[39mrandom((\u001b[38;5;241m4\u001b[39m, \u001b[38;5;241m4\u001b[39m))\u001b[38;5;241m+\u001b[39m\u001b[43mj\u001b[49m\u001b[38;5;241m*\u001b[39mnp\u001b[38;5;241m.\u001b[39mrandom\u001b[38;5;241m.\u001b[39mrandom((\u001b[38;5;241m4\u001b[39m, \u001b[38;5;241m4\u001b[39m))\n",
      "\u001b[0;31mNameError\u001b[0m: name 'j' is not defined"
     ]
    }
   ],
   "source": [
    "A = np.random.random((4, 4))+*np.random.random((4, 4))"
   ]
  },
  {
   "cell_type": "code",
   "execution_count": 14,
   "metadata": {},
   "outputs": [
    {
     "data": {
      "text/plain": [
       "array([[0.71161532, 0.51897553, 0.57043842, 0.32544563],\n",
       "       [0.849258  , 0.58824014, 0.89129835, 0.02951041],\n",
       "       [0.80827633, 0.39676733, 0.46007702, 0.59611441],\n",
       "       [0.68920974, 0.73138838, 0.95368586, 0.93760929]])"
      ]
     },
     "execution_count": 14,
     "metadata": {},
     "output_type": "execute_result"
    }
   ],
   "source": [
    "A"
   ]
  },
  {
   "cell_type": "code",
   "execution_count": 15,
   "metadata": {},
   "outputs": [],
   "source": [
    "sym_A = A + A.transpose()"
   ]
  },
  {
   "cell_type": "code",
   "execution_count": 16,
   "metadata": {},
   "outputs": [
    {
     "data": {
      "text/plain": [
       "array([[1.42323064, 1.36823354, 1.37871476, 1.01465537],\n",
       "       [1.36823354, 1.17648028, 1.28806568, 0.76089879],\n",
       "       [1.37871476, 1.28806568, 0.92015404, 1.54980027],\n",
       "       [1.01465537, 0.76089879, 1.54980027, 1.87521857]])"
      ]
     },
     "execution_count": 16,
     "metadata": {},
     "output_type": "execute_result"
    }
   ],
   "source": [
    "sym_A"
   ]
  },
  {
   "cell_type": "code",
   "execution_count": 17,
   "metadata": {},
   "outputs": [
    {
     "data": {
      "text/plain": [
       "array([[6.82802837, 6.10493686, 6.56574686, 6.52460896],\n",
       "       [6.10493686, 5.49424901, 5.76624762, 5.70656401],\n",
       "       [6.56574686, 5.76624762, 6.8085319 , 6.71127718],\n",
       "       [6.52460896, 5.70656401, 6.71127718, 7.52681807]])"
      ]
     },
     "execution_count": 17,
     "metadata": {},
     "output_type": "execute_result"
    }
   ],
   "source": [
    "sym_A @ sym_A"
   ]
  },
  {
   "cell_type": "code",
   "execution_count": 18,
   "metadata": {},
   "outputs": [
    {
     "data": {
      "text/plain": [
       "array([[33.74336016, 29.94635547, 33.43080233, 33.98399891],\n",
       "       [29.94635547, 26.58627826, 29.6437906 , 30.01256136],\n",
       "       [33.43080233, 29.6437906 , 33.14563503, 34.18647735],\n",
       "       [33.98399891, 30.01256136, 34.18647735, 35.4779154 ]])"
      ]
     },
     "execution_count": 18,
     "metadata": {},
     "output_type": "execute_result"
    }
   ],
   "source": [
    "sym_A @ sym_A @ sym_A"
   ]
  },
  {
   "cell_type": "code",
   "execution_count": 19,
   "metadata": {},
   "outputs": [
    {
     "data": {
      "text/plain": [
       "array([[169.57177949, 150.31954635, 168.52523967, 172.56251976],\n",
       "       [150.31954635, 133.27151076, 149.32268402, 152.8367646 ],\n",
       "       [168.52523967, 149.32268402, 167.75599144, 171.952899  ],\n",
       "       [172.56251976, 152.8367646 , 171.952899  , 176.82962644]])"
      ]
     },
     "execution_count": 19,
     "metadata": {},
     "output_type": "execute_result"
    }
   ],
   "source": [
    "sym_A @ sym_A @ sym_A @ sym_A"
   ]
  },
  {
   "cell_type": "code",
   "execution_count": null,
   "metadata": {},
   "outputs": [],
   "source": []
  }
 ],
 "metadata": {
  "kernelspec": {
   "display_name": "Python 3",
   "language": "python",
   "name": "python3"
  },
  "language_info": {
   "codemirror_mode": {
    "name": "ipython",
    "version": 3
   },
   "file_extension": ".py",
   "mimetype": "text/x-python",
   "name": "python",
   "nbconvert_exporter": "python",
   "pygments_lexer": "ipython3",
   "version": "3.11.7"
  }
 },
 "nbformat": 4,
 "nbformat_minor": 2
}
