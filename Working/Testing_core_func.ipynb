{
 "cells": [
  {
   "cell_type": "code",
   "execution_count": 1,
   "metadata": {},
   "outputs": [],
   "source": [
    "import sys\n",
    "import os\n",
    "\n",
    "# modify syspath directory to sys.path\n",
    "\n",
    "package_path = os.path.abspath(os.path.join('..','core'))\n",
    "if package_path not in sys.path:\n",
    "    sys.path.append(package_path)\n",
    "\n",
    "package_path = os.path.abspath(os.path.join('..','utils'))\n",
    "if package_path not in sys.path:\n",
    "    sys.path.append(package_path)\n",
    "\n",
    "package_path = os.path.abspath(os.path.join('..'))\n",
    "if package_path not in sys.path:\n",
    "    sys.path.append(package_path)\n"
   ]
  },
  {
   "cell_type": "code",
   "execution_count": 2,
   "metadata": {},
   "outputs": [
    {
     "name": "stdout",
     "output_type": "stream",
     "text": [
      "['/Users/maringirard/Dev/ACL/Working', '/usr/local/Cellar/python@3.11/3.11.7_1/Frameworks/Python.framework/Versions/3.11/lib/python311.zip', '/usr/local/Cellar/python@3.11/3.11.7_1/Frameworks/Python.framework/Versions/3.11/lib/python3.11', '/usr/local/Cellar/python@3.11/3.11.7_1/Frameworks/Python.framework/Versions/3.11/lib/python3.11/lib-dynload', '', '/usr/local/lib/python3.11/site-packages', '/Users/maringirard/Dev/ACL/core', '/Users/maringirard/Dev/ACL/utils', '/Users/maringirard/Dev/ACL']\n"
     ]
    }
   ],
   "source": [
    "print(sys.path)"
   ]
  },
  {
   "cell_type": "code",
   "execution_count": 3,
   "metadata": {},
   "outputs": [],
   "source": [
    "import numpy as np\n",
    "import qutip as qt\n",
    "import math\n",
    "import matplotlib.pyplot as plt"
   ]
  },
  {
   "cell_type": "code",
   "execution_count": 7,
   "metadata": {},
   "outputs": [],
   "source": [
    "# Import modules from the package\n",
    "from core import create_hamiltonian as ch\n",
    "from core import create_state as cs\n",
    "from core import time_evo as time_evo\n",
    "from utils.entropy import compute_VN, plot_VN, compute_VN_time\n",
    "from utils.eigen_ener_states import eigen_ener_states as eig\n"
   ]
  },
  {
   "cell_type": "code",
   "execution_count": 8,
   "metadata": {},
   "outputs": [],
   "source": [
    "# Setting parameters for simulation TODO make a config file for this.\n",
    "\n",
    "d1 = 10; d2 = 200; E_spacing = 1.0; E_int = 0.03; E_int2 = 0; E_env = 1; E_env2 = 0; w = [0.3]; tmax = 10; ind_nb = 100; log = 0\n",
    "\n",
    "# Running the simulation\n",
    "\n",
    "result, tlist, H_list, ket_list = time_evo(d1,d2,E_spacing, E_int, E_int2, E_env, E_env2,w, tmax, ind_nb,log)\n"
   ]
  },
  {
   "cell_type": "code",
   "execution_count": 9,
   "metadata": {},
   "outputs": [],
   "source": [
    "# Eigenstates and eigenenergies \n",
    "eig = eig(H_list)"
   ]
  },
  {
   "cell_type": "code",
   "execution_count": 12,
   "metadata": {},
   "outputs": [
    {
     "name": "stderr",
     "output_type": "stream",
     "text": [
      "/Users/maringirard/Dev/ACL/utils/entropy.py:8: RuntimeWarning: divide by zero encountered in log2\n",
      "  entropy = -np.sum(np.nan_to_num(np.log2(np.linalg.eigvals(density_matrix.full())) * np.linalg.eigvals(density_matrix.full())))\n",
      "/Users/maringirard/Dev/ACL/utils/entropy.py:8: RuntimeWarning: invalid value encountered in multiply\n",
      "  entropy = -np.sum(np.nan_to_num(np.log2(np.linalg.eigvals(density_matrix.full())) * np.linalg.eigvals(density_matrix.full())))\n",
      "/usr/local/lib/python3.11/site-packages/matplotlib/cbook.py:1699: ComplexWarning: Casting complex values to real discards the imaginary part\n",
      "  return math.isfinite(val)\n",
      "/usr/local/lib/python3.11/site-packages/matplotlib/cbook.py:1345: ComplexWarning: Casting complex values to real discards the imaginary part\n",
      "  return np.asarray(x, float)\n"
     ]
    },
    {
     "data": {
      "image/png": "[encoded data removed]",
      "text/plain": [
       "<Figure size 1000x200 with 1 Axes>"
      ]
     },
     "metadata": {},
     "output_type": "display_data"
    }
   ],
   "source": [
    "plot_VN(result,tlist,log=0)"
   ]
  },
  {
   "cell_type": "code",
   "execution_count": null,
   "metadata": {},
   "outputs": [],
   "source": [
    "\n",
    "\n",
    "\n",
    "\n",
    "eigenenergies_system_2, eigenstates_system_2 = H_list[5].eigenstates() \n",
    "    eigenenergies_system_total, eigenstates_system_total = H_total.eigenstates() \n",
    "    eigenenergies_system_1, eigenstates_system_1 = H_q.eigenstates() \n",
    "    # Create a 2x2 grid of plots\n",
    "    fig, axes = plt.subplots(2, 2, figsize=(15, 10))\n",
    "    v2 = compute_VN_time(result,tlist)\n",
    "    \n",
    "    # Plot 1: VN entropy over time\n",
    "    axes[0, 0].plot(tlist, v2)\n",
    "    axes[0, 0].set_title(\"VN entropy over time\")\n",
    "    axes[0, 0].set_xlabel(\"time index\")\n",
    "    axes[0, 0].set_ylabel(\"VN entropy\")\n",
    "    \n",
    "    # Plot 2: Distribution of the Environment state over the environment energy eigenstates\n",
    "    time_index = 0  # Define the time index\n",
    "    s0 = compute_schmidt_states(result, time_index, 1)[0]\n",
    "    schmidt_coefficients0 = [abs(np.vdot(s0, eigenstate)) ** 2 for eigenstate in eigenstates_system_2]\n",
    "    axes[0, 1].plot(eigenenergies_system_2, schmidt_coefficients0, marker='o', label=f'Energy {eigenenergies_system_2}')\n",
    "    axes[0, 1].set_title(\"Distribution of the Environment state over the environment energy eigenstates\")\n",
    "    axes[0, 1].set_xlabel(\"Energy Eigenstates\")\n",
    "    axes[0, 1].set_ylabel(\"Schmidt Coefficients\")\n",
    "    \n",
    "    \n",
    "    \n",
    "    # Plot 3: Distribution of the System state over the system energy eigenstates\n",
    "    s0 = compute_schmidt_states(result, time_index, 0)[0]\n",
    "    schmidt_coefficients0 = [abs(np.vdot(s0, eigenstate)) ** 2 for eigenstate in eigenstates_system_1]\n",
    "    axes[1, 0].plot(eigenenergies_system_1, schmidt_coefficients0, marker='o', label=f'Energy {eigenenergies_system_1}')\n",
    "    axes[1, 0].set_title(\"Distribution of the System state over the system energy eigenstates\")\n",
    "    axes[1, 0].set_xlabel(\"Energy Eigenstates\")\n",
    "    axes[1, 0].set_ylabel(\"Schmidt Coefficients\")\n",
    "    \n",
    "    # Plot 4: Distribution of the state over the energy eigenstates\n",
    "    s0 = result.states[0]\n",
    "    schmidt_coefficients0 = [abs(np.vdot(s0, eigenstate)) ** 2 for eigenstate in eigenstates_system_total]\n",
    "    axes[1, 1].plot(eigenenergies_system_total, schmidt_coefficients0, marker='o', label=f'Energy {eigenenergies_system_total}')\n",
    "    axes[1, 1].set_title(\"Distribution of the state over the energy eigenstates\")\n",
    "    axes[1, 1].set_xlabel(\"Energy Eigenstates\")\n",
    "    axes[1, 1].set_ylabel(\"Schmidt Coefficients\")\n",
    "    \n",
    "    plt.tight_layout()  # Adjust spacing between subplots\n",
    "    plt.show()"
   ]
  },
  {
   "cell_type": "code",
   "execution_count": null,
   "metadata": {},
   "outputs": [],
   "source": []
  },
  {
   "cell_type": "code",
   "execution_count": null,
   "metadata": {},
   "outputs": [],
   "source": []
  },
  {
   "cell_type": "code",
   "execution_count": null,
   "metadata": {},
   "outputs": [],
   "source": []
  }
 ],
 "metadata": {
  "kernelspec": {
   "display_name": "Python 3",
   "language": "python",
   "name": "python3"
  },
  "language_info": {
   "codemirror_mode": {
    "name": "ipython",
    "version": 3
   },
   "file_extension": ".py",
   "mimetype": "text/x-python",
   "name": "python",
   "nbconvert_exporter": "python",
   "pygments_lexer": "ipython3",
   "version": "3.11.7"
  }
 },
 "nbformat": 4,
 "nbformat_minor": 2
}
