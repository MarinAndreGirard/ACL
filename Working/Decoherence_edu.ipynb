{
 "cells": [
  {
   "cell_type": "code",
   "execution_count": 1,
   "metadata": {},
   "outputs": [],
   "source": [
    "import sys\n",
    "import os\n",
    "\n",
    "# modify syspath directory to sys.path\n",
    "\n",
    "package_path = os.path.abspath(os.path.join('..','core'))\n",
    "if package_path not in sys.path:\n",
    "    sys.path.append(package_path)\n",
    "\n",
    "package_path = os.path.abspath(os.path.join('..','utils'))\n",
    "if package_path not in sys.path:\n",
    "    sys.path.append(package_path)\n",
    "\n",
    "package_path = os.path.abspath(os.path.join('..'))\n",
    "if package_path not in sys.path:\n",
    "    sys.path.append(package_path)\n",
    "\n",
    "import numpy as np\n",
    "import qutip as qt\n",
    "import math\n",
    "import matplotlib.pyplot as plt\n",
    "\n",
    "from IPython.display import HTML # both needed to disply gifs\n",
    "from PIL import Image\n",
    "\n",
    "# Import modules from the package\n",
    "from core import create_hamiltonian as ch\n",
    "from core import create_state as cs\n",
    "from core import create_coherent_state\n",
    "from core import time_evo\n",
    "from core import time_evo_new\n",
    "from core import time_evo_from_state\n",
    "from core import load_param\n",
    "from core import load_H_list\n",
    "from core import load_result\n",
    "from core import load_tlist\n",
    "from core import operators\n",
    "from core.schmidt_solve import compute_schmidt_states_all_time\n",
    "from core.eigen_ener_states import eigen_ener_states as eig\n",
    "from core import annihilation_operator\n",
    "from utils.entropy import compute_VN, plot_VN, compute_VN_time\n",
    "from utils import collapse_gif\n",
    "from utils.collapse_gif import collapse_gif\n",
    "from utils.display_gif import display_gif\n",
    "from utils.distribution_gif import gif_distribution_eig_total\n",
    "from utils.distribution_gif import prob_gif\n",
    "from utils.distribution_gif import gif_distrib_H_s_int\n",
    "from utils.distribution_gif import gif_distrib_system_first_eig\n",
    "from utils.plot import plot_basic\n",
    "from utils.plot import plot_with_binning\n",
    "from utils.basic_functions import state_distribution_eig_tot\n",
    "from utils.basic_functions import random_dephasing\n",
    "from utils.basic_functions import get_state_probabilities\n",
    "from utils.basic_functions import position\n",
    "from utils.basic_functions import copy_cat\n",
    "from utils.basic_functions import plot_einselection\n",
    "from utils.overlap import overlap\n",
    "from utils.overlap import gif_schmidt_overlap\n",
    "from utils.interference import interference_plot\n",
    "from utils.expectations import exp_val_time\n",
    "from utils.plot_hamiltonians import plot_hamiltonians\n",
    "\n",
    "plt.rcParams['font.family'] = 'serif'\n",
    "plt.rcParams['font.serif'] = ['Times New Roman']\n",
    "plt.rcParams['axes.titlesize'] = 16             # Title font size\n",
    "plt.rcParams['axes.titleweight'] = 'bold'       # Title font weight\n",
    "plt.rcParams['axes.labelsize'] = 14             # X and Y label font size\n",
    "plt.rcParams['axes.labelweight'] = 'bold'       # X and Y label font weight\n",
    "#plt.rcParams['axes.grid'] = True                # Enable grid\n",
    "#plt.rcParams['grid.alpha'] = 0.7                # Grid transparency\n",
    "#plt.rcParams['grid.linestyle'] = '--'           # Grid line style\n",
    "#plt.rcParams['grid.color'] = 'gray'             # Grid color\n",
    "\n",
    "# Tick settings\n",
    "plt.rcParams['xtick.labelsize'] = 12            # X tick label size\n",
    "plt.rcParams['ytick.labelsize'] = 12            # Y tick label size\n",
    "plt.rcParams['xtick.direction'] = 'in'          # X tick direction\n",
    "plt.rcParams['ytick.direction'] = 'in'          # Y tick direction\n",
    "plt.rcParams['xtick.major.size'] = 6            # X major tick size\n",
    "plt.rcParams['ytick.major.size'] = 6            # Y major tick size\n",
    "\n",
    "# Legend settings\n",
    "plt.rcParams['legend.fontsize'] = 12            # Legend font size\n",
    "plt.rcParams['legend.frameon'] = True           # Enable legend frame\n",
    "plt.rcParams['legend.framealpha'] = 0.9         # Legend frame transparency\n",
    "plt.rcParams['legend.loc'] = 'best'             # Legend location\n",
    "\n",
    "# Line and marker settings\n",
    "plt.rcParams['lines.linewidth'] = 2             # Line width\n",
    "plt.rcParams['lines.markersize'] = 6            # Marker size\n",
    "\n",
    "custom_colors = ['#1c4587', '#e6194B', '#2ca02c', '#d62728', '#9467bd', \n",
    "                 '#8c564b', '#e377c2', '#7f7f7f', '#bcbd22', '#17becf']\n",
    "\n",
    "plt.rcParams['axes.prop_cycle'] = plt.cycler(color=custom_colors)\n",
    "\n",
    "\n"
   ]
  },
  {
   "cell_type": "markdown",
   "metadata": {},
   "source": [
    "The goal of this series of jupyter notebook is to be education on decoherence usin the AC model. So the first one should not focuse on the ACL model, but just introduce decoherence itself. Needs a little bit of preliminary knowledge."
   ]
  },
  {
   "cell_type": "markdown",
   "metadata": {},
   "source": [
    "RESSOURCES I AM BASING IT ALL ON. \n",
    "\n",
    "Note that these notebooks are based on : Lecture notes on quantum decoherence:Jim Al-Khalili, a bunch of Andreas paper.\n",
    "Sean Carroll's paper for the basi decoherence example.\n",
    "\n",
    "PLAN FOR THIS NOTEBOOK:\n",
    "first introduce quantym entanglement\n",
    "Need a super simple theoretical toy model of deochernece from which we can calculate a few basic qtt. ie, decoherence time scale\n",
    "Justification for interest. Coudl do something related to the double slit experiment?\n",
    "Environment causing entanglement for some states, as a selection of pointer states\n",
    "ZUrek’s commutativity criterion.\n",
    "Zurek's random walk and convergence to 0.\n",
    "2 related problems tackeld by decoherence: Preffered basis, non-visibility of quantum interference (ie, prefe basis and classicality.) what about the unicity of measurement results? i feel like it somehow solves it.\n",
    "\n",
    "\n",
    "PLAN FOR NEXT NOTEBOOKS:\n",
    "Can I see Zureks' commutativity criterion in the ACL?\n",
    "ACL model use to talk about decoherence more.\n",
    "See if you can modify it to study more usual models of decoherence.\n",
    "see if you can also go into quatum darwinism.\n",
    "Multiartide version of what I did?\n",
    "Idea of locality/decoherence somehow being linked. The interactions are local, but the states can be non-local (ie entanglement). And decoherence is what makes us not see that at our scale. what are all the hints for this link?\n",
    "Decoherence vs dissipation\n",
    "Decoherence vs classical noise.\n",
    "\n"
   ]
  },
  {
   "cell_type": "markdown",
   "metadata": {},
   "source": [
    "There are many things that we can point to and say, look, thats decoherence"
   ]
  },
  {
   "cell_type": "markdown",
   "metadata": {},
   "source": [
    "LITTLE TRUTHS I WANT TO INCLUDE\n",
    "\n",
    "Decoherence solves the measurement problem as well as helps us understand the behavior of open (and not so open) quantum systems\n",
    "Talk about the einselectyion problem and its solution via pointer states.\n",
    "Decoherence does not destroy superpositions, it simply extends them to include the environment. So, while decoherence is something that happens to the system of interest, what is really going on is that the environment is encoding, via quantum correlations, information about the system.\n",
    "decoherence leads to the decay of the off diagonal terms in a basis defined by your system environment interactions. it results from your environment states becoming correlated with the states of your system (i.e. effectively measuring your system)\n",
    "Basically, the fact that the density matrix diagonalizes in the pointer basis and stay diagonal ensures that we have classicaity in this basis. \n",
    "Decoherence as a time asymmetric process.\n",
    "It causes irreversible loss of coherence from the quantum system 2. It limits/selects a small number of possible observables"
   ]
  },
  {
   "cell_type": "markdown",
   "metadata": {},
   "source": [
    "For the lengh of this notebook, we consider a universe made of 2 subsystems, $S$ and $E$ the system adn the environment.\n",
    "\n",
    "Decoherence, in addition to being important to understand for quantum computing provides a partial solution to 3 problems in the foundations of physics."
   ]
  },
  {
   "cell_type": "markdown",
   "metadata": {},
   "source": [
    "<h1>What is a quantum measurement?\n"
   ]
  },
  {
   "cell_type": "markdown",
   "metadata": {},
   "source": [
    "For our purpous a measurement is an interaction between 2 quantum systems. One large and one small. For it to be an interesting measurement, the small system there must be an increase of entropy as the 2 systems interact. I will sometimes refer to the environment as a measuring device, especially when I want to choose the state it measures."
   ]
  },
  {
   "cell_type": "markdown",
   "metadata": {},
   "source": [
    "Considering a system in state $|\\psi\\rangle=\\frac{1}{\\sqrt{2}}(|0\\rangle+|1\\rangle)$. We also consider a measuring device in state $|READY\\rangle$, as it is ready to measure the system. It is such that feeding it state $|0\\rangle$ makes it evolve to "
   ]
  },
  {
   "cell_type": "markdown",
   "metadata": {},
   "source": [
    "Not here that we where specifying by hand how the measuring device evolves depending on the state of the system, as well as supposing a non-evolving system. But we can also work with an actual hamiltonian and do the evolution that does the measurement for us. This is already touchingr on a fundamenmtal aspect of decohernece as a solution to fondamental problems. Its all unitary QM. No special evolution for the MWs."
   ]
  },
  {
   "cell_type": "markdown",
   "metadata": {},
   "source": [
    "<h1>The prefered basis problem"
   ]
  },
  {
   "cell_type": "markdown",
   "metadata": {},
   "source": [
    "In a basis $\\{|i\\rangle\\}$ the state of the systsem is $|\\psi\\rangle=\\sum_ia_i|i\\rangle$. But the Hilbert space of the system does not have any fundamental structure making basis $\\{|i\\rangle\\}$ preferable over some other basis $\\{|i'\\rangle\\}$. And that basis could even be one such that $|\\psi\\rangle=\\sum_ia_i|i\\rangle=|0'\\rangle$, that is a basis in which we loose the superposition. If that is the case then a lot of quantum mechanics seems meaningless, why not consider the double slit experiment in the basis where the photons are not in a superposition? Does the computational advantage of QM disapeare if we look at our state in another basis? "
   ]
  },
  {
   "cell_type": "markdown",
   "metadata": {},
   "source": [
    "<h1>Where does classicality come from?"
   ]
  },
  {
   "cell_type": "markdown",
   "metadata": {},
   "source": []
  },
  {
   "cell_type": "markdown",
   "metadata": {},
   "source": [
    "<h1>The unicity of measurement outcomes"
   ]
  },
  {
   "cell_type": "markdown",
   "metadata": {},
   "source": [
    "Considering the Stern Gerlach experiement to understand "
   ]
  },
  {
   "cell_type": "markdown",
   "metadata": {},
   "source": []
  },
  {
   "cell_type": "markdown",
   "metadata": {},
   "source": []
  },
  {
   "cell_type": "code",
   "execution_count": null,
   "metadata": {},
   "outputs": [],
   "source": []
  },
  {
   "cell_type": "code",
   "execution_count": null,
   "metadata": {},
   "outputs": [],
   "source": []
  },
  {
   "cell_type": "code",
   "execution_count": null,
   "metadata": {},
   "outputs": [],
   "source": []
  },
  {
   "cell_type": "code",
   "execution_count": null,
   "metadata": {},
   "outputs": [],
   "source": []
  },
  {
   "cell_type": "code",
   "execution_count": null,
   "metadata": {},
   "outputs": [],
   "source": []
  },
  {
   "cell_type": "code",
   "execution_count": null,
   "metadata": {},
   "outputs": [],
   "source": []
  },
  {
   "cell_type": "code",
   "execution_count": null,
   "metadata": {},
   "outputs": [],
   "source": []
  },
  {
   "cell_type": "code",
   "execution_count": null,
   "metadata": {},
   "outputs": [],
   "source": []
  }
 ],
 "metadata": {
  "kernelspec": {
   "display_name": "Python 3",
   "language": "python",
   "name": "python3"
  },
  "language_info": {
   "codemirror_mode": {
    "name": "ipython",
    "version": 3
   },
   "file_extension": ".py",
   "mimetype": "text/x-python",
   "name": "python",
   "nbconvert_exporter": "python",
   "pygments_lexer": "ipython3",
   "version": "3.11.7"
  }
 },
 "nbformat": 4,
 "nbformat_minor": 2
}
