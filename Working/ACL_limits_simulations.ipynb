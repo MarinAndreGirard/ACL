{
 "cells": [
  {
   "cell_type": "code",
   "execution_count": 1,
   "metadata": {},
   "outputs": [],
   "source": [
    "import sys\n",
    "import os\n",
    "\n",
    "# modify syspath directory to sys.path\n",
    "\n",
    "package_path = os.path.abspath(os.path.join('..','core'))\n",
    "if package_path not in sys.path:\n",
    "    sys.path.append(package_path)\n",
    "\n",
    "package_path = os.path.abspath(os.path.join('..','utils'))\n",
    "if package_path not in sys.path:\n",
    "    sys.path.append(package_path)\n",
    "\n",
    "package_path = os.path.abspath(os.path.join('..'))\n",
    "if package_path not in sys.path:\n",
    "    sys.path.append(package_path)\n",
    "\n",
    "import numpy as np\n",
    "import qutip as qt\n",
    "import math\n",
    "import matplotlib.pyplot as plt\n",
    "\n",
    "from IPython.display import HTML # both needed to disply gifs\n",
    "from PIL import Image\n",
    "\n",
    "# Import modules from the package\n",
    "from core import create_hamiltonian as ch\n",
    "from core import create_state as cs\n",
    "from core import create_coherent_state\n",
    "from core import time_evo\n",
    "from core import time_evo_new\n",
    "from core import time_evo_from_state\n",
    "from core import load_param\n",
    "from core import load_H_list\n",
    "from core import load_result\n",
    "from core import load_tlist\n",
    "from core import operators\n",
    "from core.schmidt_solve import compute_schmidt_states_all_time\n",
    "from core.eigen_ener_states import eigen_ener_states as eig\n",
    "from core import annihilation_operator\n",
    "from utils.entropy import compute_VN, plot_VN, compute_VN_time\n",
    "from utils import collapse_gif\n",
    "from utils.collapse_gif import collapse_gif\n",
    "from utils.display_gif import display_gif\n",
    "from utils.distribution_gif import gif_distribution_eig_total\n",
    "from utils.distribution_gif import prob_gif\n",
    "from utils.distribution_gif import gif_distrib_H_s_int\n",
    "from utils.distribution_gif import gif_distrib_system_first_eig\n",
    "from utils.distribution_gif import gif_distrib_system_first_second\n",
    "from utils.plot import plot_basic\n",
    "from utils.plot import plot_with_binning\n",
    "from utils.basic_functions import state_distribution_eig_tot\n",
    "from utils.basic_functions import random_dephasing\n",
    "from utils.basic_functions import get_state_probabilities\n",
    "from utils.basic_functions import position\n",
    "from utils.basic_functions import copy_cat\n",
    "from utils.overlap import overlap\n",
    "from utils.overlap import gif_schmidt_overlap\n",
    "from utils.interference import interference_plot\n",
    "from utils.expectations import exp_val_time\n",
    "from utils.plot_hamiltonians import plot_hamiltonians\n",
    "\n"
   ]
  },
  {
   "cell_type": "code",
   "execution_count": 2,
   "metadata": {},
   "outputs": [],
   "source": [
    "#Strong interaction limit\n",
    "\n",
    "d1=20;d2=200;E_s=0.1; E_s2=0; E_int_s=1; E_int_e=0.5;E_int_s2=0;E_int_e2=0; E_e=0.1; E_e2=0;envi=[0]; tmax= 20; ind_nb = 60;log=1\n",
    "file_name = \"strong_interaction_limit\"\n",
    "\n",
    "coherent_state=create_coherent_state(d1,2)\n",
    "\n",
    "result, tlist, H_list, state, info = time_evo_from_state(coherent_state,d1,d2,E_s,E_s2,E_int_s,E_int_e,E_int_s2,E_int_e2,E_e,E_e2,envi,tmax,ind_nb,log,file_name)\n",
    "\n",
    "d1, d2, E_s, E_s2, E_int_s, E_int_e, E_int_s2, E_int_e2, E_e, E_e2, envi, tmax, ind_nb, log = load_param(file_name)\n",
    "info = load_param(file_name)\n",
    "H_list=load_H_list(file_name)\n",
    "result=load_result(file_name)\n",
    "tlist=load_tlist(file_name)"
   ]
  },
  {
   "cell_type": "code",
   "execution_count": 3,
   "metadata": {},
   "outputs": [
    {
     "name": "stdout",
     "output_type": "stream",
     "text": [
      "../outputs/gifs/rho_s_first_eig_distrib_in_H_int_s_gif_strong_interaction_limit.gif\n"
     ]
    },
    {
     "data": {
      "text/html": [
       "<img src=\"../outputs/gifs/rho_s_first_eig_distrib_in_H_int_s_gif_strong_interaction_limit.gif\">"
      ],
      "text/plain": [
       "<IPython.core.display.HTML object>"
      ]
     },
     "metadata": {},
     "output_type": "display_data"
    },
    {
     "name": "stdout",
     "output_type": "stream",
     "text": [
      "../outputs/gifs/rho_s_first_eig_distrib_in_H_int_s_gif_strong_interaction_limit.gif\n"
     ]
    },
    {
     "data": {
      "text/html": [
       "<img src=\"../outputs/gifs/rho_s_first_eig_distrib_in_H_int_s_gif_strong_interaction_limit.gif\">"
      ],
      "text/plain": [
       "<IPython.core.display.HTML object>"
      ]
     },
     "metadata": {},
     "output_type": "display_data"
    },
    {
     "data": {
      "image/png": "[encoded data removed]",
      "text/plain": [
       "<Figure size 640x480 with 1 Axes>"
      ]
     },
     "metadata": {},
     "output_type": "display_data"
    }
   ],
   "source": [
    "#Visualizing the einselection:\n",
    "\n",
    "eigenenergies1_list=[]\n",
    "eigenenergies2_list=[]\n",
    "\n",
    "for i in range(ind_nb):\n",
    "    rho_s=qt.ptrace(result.states[i], [0])\n",
    "    eigenenergies, eigenstates = rho_s.eigenstates()\n",
    "    eigenenergies1_list.append(eigenenergies[d1-1])\n",
    "    eigenenergies2_list.append(eigenenergies[d1-2])\n",
    "\n",
    "plt.plot(eigenenergies1_list)\n",
    "plt.plot(eigenenergies2_list)\n",
    "plt.xscale('log')\n",
    "\n",
    "\n",
    "path = gif_distrib_system_first_eig(d1,H_list,result,ind_nb, file_name)\n",
    "print(path)\n",
    "display_gif(path)\n",
    "file_name=file_name+\"second\"\n",
    "path = gif_distrib_system_first_second(d1,H_list,result,ind_nb, file_name)\n",
    "print(path)\n",
    "display_gif(path)"
   ]
  },
  {
   "cell_type": "code",
   "execution_count": null,
   "metadata": {},
   "outputs": [],
   "source": [
    "#Weak interaction limit\n",
    "\n",
    "d1=20;d2=200;E_s=1; E_s2=0; E_int_s=0.2; E_int_e=0.2;E_int_s2=0;E_int_e2=0; E_e=1; E_e2=0;envi=[0]; tmax= 20; ind_nb = 60;log=1\n",
    "file_name = \"strong_interaction_limit\"\n",
    "\n",
    "coherent_state=create_coherent_state(d1,2)\n",
    "\n",
    "result, tlist, H_list, state, info = time_evo_from_state(coherent_state,d1,d2,E_s,E_s2,E_int_s,E_int_e,E_int_s2,E_int_e2,E_e,E_e2,envi,tmax,ind_nb,log,file_name)\n",
    "\n",
    "d1, d2, E_s, E_s2, E_int_s, E_int_e, E_int_s2, E_int_e2, E_e, E_e2, envi, tmax, ind_nb, log = load_param(file_name)\n",
    "info = load_param(file_name)\n",
    "H_list=load_H_list(file_name)\n",
    "result=load_result(file_name)\n",
    "tlist=load_tlist(file_name)"
   ]
  },
  {
   "cell_type": "code",
   "execution_count": null,
   "metadata": {},
   "outputs": [],
   "source": []
  },
  {
   "cell_type": "code",
   "execution_count": null,
   "metadata": {},
   "outputs": [],
   "source": []
  },
  {
   "cell_type": "code",
   "execution_count": null,
   "metadata": {},
   "outputs": [],
   "source": []
  },
  {
   "cell_type": "code",
   "execution_count": null,
   "metadata": {},
   "outputs": [],
   "source": []
  }
 ],
 "metadata": {
  "kernelspec": {
   "display_name": "Python 3",
   "language": "python",
   "name": "python3"
  },
  "language_info": {
   "codemirror_mode": {
    "name": "ipython",
    "version": 3
   },
   "file_extension": ".py",
   "mimetype": "text/x-python",
   "name": "python",
   "nbconvert_exporter": "python",
   "pygments_lexer": "ipython3",
   "version": "3.11.7"
  }
 },
 "nbformat": 4,
 "nbformat_minor": 2
}
