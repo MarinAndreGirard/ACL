{
 "cells": [
  {
   "cell_type": "code",
   "execution_count": 1,
   "metadata": {},
   "outputs": [],
   "source": [
    "import sys\n",
    "import os\n",
    "\n",
    "# modify syspath directory to sys.path\n",
    "\n",
    "package_path = os.path.abspath(os.path.join('..','core'))\n",
    "if package_path not in sys.path:\n",
    "    sys.path.append(package_path)\n",
    "\n",
    "package_path = os.path.abspath(os.path.join('..','utils'))\n",
    "if package_path not in sys.path:\n",
    "    sys.path.append(package_path)\n",
    "\n",
    "package_path = os.path.abspath(os.path.join('..'))\n",
    "if package_path not in sys.path:\n",
    "    sys.path.append(package_path)\n",
    "\n",
    "import numpy as np\n",
    "import qutip as qt\n",
    "import math\n",
    "import matplotlib.pyplot as plt\n",
    "\n",
    "from IPython.display import HTML # both needed to disply gifs\n",
    "from PIL import Image\n",
    "\n",
    "# Import modules from the package\n",
    "from core import create_hamiltonian as ch\n",
    "from core import create_state as cs\n",
    "from core import create_coherent_state\n",
    "from core import time_evo\n",
    "from core import time_evo_new\n",
    "from core import time_evo_from_state\n",
    "from core import load_param\n",
    "from core import load_H_list\n",
    "from core import load_result\n",
    "from core import load_tlist\n",
    "from core import operators\n",
    "from core.schmidt_solve import compute_schmidt_states_all_time\n",
    "from core.eigen_ener_states import eigen_ener_states as eig\n",
    "from core import annihilation_operator\n",
    "from utils.entropy import compute_VN, plot_VN, compute_VN_time\n",
    "from utils import collapse_gif\n",
    "from utils.collapse_gif import collapse_gif\n",
    "from utils.display_gif import display_gif\n",
    "from utils.distribution_gif import gif_distribution_eig_total\n",
    "from utils.distribution_gif import prob_gif\n",
    "from utils.distribution_gif import gif_distrib_H_s_int\n",
    "from utils.plot import plot_basic\n",
    "from utils.plot import plot_with_binning\n",
    "from utils.basic_functions import state_distribution_eig_tot\n",
    "from utils.basic_functions import random_dephasing\n",
    "from utils.basic_functions import get_state_probabilities\n",
    "from utils.overlap import overlap\n",
    "from utils.overlap import gif_schmidt_overlap\n",
    "from utils.interference import interference_plot\n",
    "from utils.expectations import exp_val_time\n",
    "from utils.plot_hamiltonians import plot_hamiltonians\n",
    "\n"
   ]
  },
  {
   "cell_type": "code",
   "execution_count": 26,
   "metadata": {},
   "outputs": [
    {
     "name": "stderr",
     "output_type": "stream",
     "text": [
      "/usr/local/lib/python3.11/site-packages/scipy/integrate/_ode.py:431: UserWarning: zvode: Excess work done on this call. (Perhaps wrong MF.)\n",
      "  self._y, self.t = mth(self.f, self.jac or (lambda: None),\n"
     ]
    },
    {
     "ename": "Exception",
     "evalue": "ODE integration error: Try to increase the allowed number of substeps by increasing the nsteps parameter in the Options class.",
     "output_type": "error",
     "traceback": [
      "\u001b[0;31m---------------------------------------------------------------------------\u001b[0m",
      "\u001b[0;31mException\u001b[0m                                 Traceback (most recent call last)",
      "Cell \u001b[0;32mIn[26], line 7\u001b[0m\n\u001b[1;32m      3\u001b[0m \u001b[38;5;66;03m# Running the simulation and running the core functions\u001b[39;00m\n\u001b[1;32m      4\u001b[0m coherent_state\u001b[38;5;241m=\u001b[39mcreate_coherent_state(d1)\n\u001b[0;32m----> 7\u001b[0m result, tlist, H_list, state, info \u001b[38;5;241m=\u001b[39m \u001b[43mtime_evo_from_state\u001b[49m\u001b[43m(\u001b[49m\u001b[43mcoherent_state\u001b[49m\u001b[43m,\u001b[49m\u001b[43md1\u001b[49m\u001b[43m,\u001b[49m\u001b[43md2\u001b[49m\u001b[43m,\u001b[49m\u001b[43mE_s\u001b[49m\u001b[43m,\u001b[49m\u001b[43mE_s2\u001b[49m\u001b[43m,\u001b[49m\u001b[43mE_int_s\u001b[49m\u001b[43m,\u001b[49m\u001b[43mE_int_e\u001b[49m\u001b[43m,\u001b[49m\u001b[43mE_int_s2\u001b[49m\u001b[43m,\u001b[49m\u001b[43mE_int_e2\u001b[49m\u001b[43m,\u001b[49m\u001b[43mE_e\u001b[49m\u001b[43m,\u001b[49m\u001b[43mE_e2\u001b[49m\u001b[43m,\u001b[49m\u001b[43menvi\u001b[49m\u001b[43m,\u001b[49m\u001b[43mtmax\u001b[49m\u001b[43m,\u001b[49m\u001b[43mind_nb\u001b[49m\u001b[43m,\u001b[49m\u001b[43mlog\u001b[49m\u001b[43m,\u001b[49m\u001b[43mfile_name\u001b[49m\u001b[43m)\u001b[49m\n",
      "File \u001b[0;32m~/Dev/ACL/core/time_evo.py:209\u001b[0m, in \u001b[0;36mtime_evo_from_state\u001b[0;34m(state_s, d1, d2, E_s, E_s2, E_int_s, E_int_e, E_int_s2, E_int_e2, E_e, E_e2, envi, tmax, ind_nb, log, file_name)\u001b[0m\n\u001b[1;32m    206\u001b[0m info_list\u001b[38;5;241m=\u001b[39m[d1,d2,E_s, E_s2, E_int_s, E_int_e,E_int_s2,E_int_e2, E_e, E_e2,envi,tmax, ind_nb,log,tlist] \u001b[38;5;66;03m#TODO update info_list and make relevant changes to other functions\u001b[39;00m\n\u001b[1;32m    208\u001b[0m \u001b[38;5;66;03m# Perform time evolution of the combined system\u001b[39;00m\n\u001b[0;32m--> 209\u001b[0m result \u001b[38;5;241m=\u001b[39m \u001b[43mqt\u001b[49m\u001b[38;5;241;43m.\u001b[39;49m\u001b[43mmesolve\u001b[49m\u001b[43m(\u001b[49m\u001b[43mH\u001b[49m\u001b[43m,\u001b[49m\u001b[43m \u001b[49m\u001b[43mstate\u001b[49m\u001b[43m,\u001b[49m\u001b[43m \u001b[49m\u001b[43mtlist\u001b[49m\u001b[43m,\u001b[49m\u001b[43m \u001b[49m\u001b[43m[\u001b[49m\u001b[43m]\u001b[49m\u001b[43m,\u001b[49m\u001b[43m \u001b[49m\u001b[43m[\u001b[49m\u001b[43m]\u001b[49m\u001b[43m)\u001b[49m\n\u001b[1;32m    211\u001b[0m \u001b[38;5;66;03m# Save outputs in a .txt file\u001b[39;00m\n\u001b[1;32m    212\u001b[0m outputs_dir \u001b[38;5;241m=\u001b[39m \u001b[38;5;124m\"\u001b[39m\u001b[38;5;124moutputs/simulation_results\u001b[39m\u001b[38;5;124m\"\u001b[39m\n",
      "File \u001b[0;32m/usr/local/lib/python3.11/site-packages/qutip/mesolve.py:217\u001b[0m, in \u001b[0;36mmesolve\u001b[0;34m(H, rho0, tlist, c_ops, e_ops, args, options, progress_bar, _safe_mode)\u001b[0m\n\u001b[1;32m    205\u001b[0m use_mesolve \u001b[38;5;241m=\u001b[39m ((c_ops \u001b[38;5;129;01mand\u001b[39;00m \u001b[38;5;28mlen\u001b[39m(c_ops) \u001b[38;5;241m>\u001b[39m \u001b[38;5;241m0\u001b[39m)\n\u001b[1;32m    206\u001b[0m                \u001b[38;5;129;01mor\u001b[39;00m (\u001b[38;5;129;01mnot\u001b[39;00m isket(rho0))\n\u001b[1;32m    207\u001b[0m                \u001b[38;5;129;01mor\u001b[39;00m (\u001b[38;5;28misinstance\u001b[39m(H, Qobj) \u001b[38;5;129;01mand\u001b[39;00m issuper(H))\n\u001b[0;32m   (...)\u001b[0m\n\u001b[1;32m    213\u001b[0m                \u001b[38;5;129;01mor\u001b[39;00m (\u001b[38;5;129;01mnot\u001b[39;00m \u001b[38;5;28misinstance\u001b[39m(H, (Qobj, QobjEvo)) \u001b[38;5;129;01mand\u001b[39;00m \u001b[38;5;28mcallable\u001b[39m(H) \u001b[38;5;129;01mand\u001b[39;00m\n\u001b[1;32m    214\u001b[0m                         options\u001b[38;5;241m.\u001b[39mrhs_with_state))\n\u001b[1;32m    216\u001b[0m \u001b[38;5;28;01mif\u001b[39;00m \u001b[38;5;129;01mnot\u001b[39;00m use_mesolve:\n\u001b[0;32m--> 217\u001b[0m     \u001b[38;5;28;01mreturn\u001b[39;00m \u001b[43msesolve\u001b[49m\u001b[43m(\u001b[49m\u001b[43mH\u001b[49m\u001b[43m,\u001b[49m\u001b[43m \u001b[49m\u001b[43mrho0\u001b[49m\u001b[43m,\u001b[49m\u001b[43m \u001b[49m\u001b[43mtlist\u001b[49m\u001b[43m,\u001b[49m\u001b[43m \u001b[49m\u001b[43me_ops\u001b[49m\u001b[38;5;241;43m=\u001b[39;49m\u001b[43me_ops\u001b[49m\u001b[43m,\u001b[49m\u001b[43m \u001b[49m\u001b[43margs\u001b[49m\u001b[38;5;241;43m=\u001b[39;49m\u001b[43margs\u001b[49m\u001b[43m,\u001b[49m\u001b[43m \u001b[49m\u001b[43moptions\u001b[49m\u001b[38;5;241;43m=\u001b[39;49m\u001b[43moptions\u001b[49m\u001b[43m,\u001b[49m\n\u001b[1;32m    218\u001b[0m \u001b[43m                   \u001b[49m\u001b[43mprogress_bar\u001b[49m\u001b[38;5;241;43m=\u001b[39;49m\u001b[43mprogress_bar\u001b[49m\u001b[43m,\u001b[49m\u001b[43m \u001b[49m\u001b[43m_safe_mode\u001b[49m\u001b[38;5;241;43m=\u001b[39;49m\u001b[43m_safe_mode\u001b[49m\u001b[43m)\u001b[49m\n\u001b[1;32m    220\u001b[0m \u001b[38;5;28;01mif\u001b[39;00m isket(rho0):\n\u001b[1;32m    221\u001b[0m     rho0 \u001b[38;5;241m=\u001b[39m ket2dm(rho0)\n",
      "File \u001b[0;32m/usr/local/lib/python3.11/site-packages/qutip/sesolve.py:136\u001b[0m, in \u001b[0;36msesolve\u001b[0;34m(H, psi0, tlist, e_ops, args, options, progress_bar, _safe_mode)\u001b[0m\n\u001b[1;32m    133\u001b[0m     v \u001b[38;5;241m=\u001b[39m psi0\u001b[38;5;241m.\u001b[39mfull()\u001b[38;5;241m.\u001b[39mravel(\u001b[38;5;124m'\u001b[39m\u001b[38;5;124mF\u001b[39m\u001b[38;5;124m'\u001b[39m)\n\u001b[1;32m    134\u001b[0m     func(\u001b[38;5;241m0.\u001b[39m, v, \u001b[38;5;241m*\u001b[39mode_args) \u001b[38;5;241m+\u001b[39m v\n\u001b[0;32m--> 136\u001b[0m res \u001b[38;5;241m=\u001b[39m \u001b[43m_generic_ode_solve\u001b[49m\u001b[43m(\u001b[49m\u001b[43mfunc\u001b[49m\u001b[43m,\u001b[49m\u001b[43m \u001b[49m\u001b[43mode_args\u001b[49m\u001b[43m,\u001b[49m\u001b[43m \u001b[49m\u001b[43mpsi0\u001b[49m\u001b[43m,\u001b[49m\u001b[43m \u001b[49m\u001b[43mtlist\u001b[49m\u001b[43m,\u001b[49m\u001b[43m \u001b[49m\u001b[43me_ops\u001b[49m\u001b[43m,\u001b[49m\u001b[43m \u001b[49m\u001b[43moptions\u001b[49m\u001b[43m,\u001b[49m\n\u001b[1;32m    137\u001b[0m \u001b[43m                         \u001b[49m\u001b[43mprogress_bar\u001b[49m\u001b[43m,\u001b[49m\u001b[43m \u001b[49m\u001b[43mdims\u001b[49m\u001b[38;5;241;43m=\u001b[39;49m\u001b[43mpsi0\u001b[49m\u001b[38;5;241;43m.\u001b[39;49m\u001b[43mdims\u001b[49m\u001b[43m)\u001b[49m\n\u001b[1;32m    138\u001b[0m \u001b[38;5;28;01mif\u001b[39;00m e_ops_dict:\n\u001b[1;32m    139\u001b[0m     res\u001b[38;5;241m.\u001b[39mexpect \u001b[38;5;241m=\u001b[39m {e: res\u001b[38;5;241m.\u001b[39mexpect[n]\n\u001b[1;32m    140\u001b[0m                   \u001b[38;5;28;01mfor\u001b[39;00m n, e \u001b[38;5;129;01min\u001b[39;00m \u001b[38;5;28menumerate\u001b[39m(e_ops_dict\u001b[38;5;241m.\u001b[39mkeys())}\n",
      "File \u001b[0;32m/usr/local/lib/python3.11/site-packages/qutip/sesolve.py:329\u001b[0m, in \u001b[0;36m_generic_ode_solve\u001b[0;34m(func, ode_args, psi0, tlist, e_ops, opt, progress_bar, dims)\u001b[0m\n\u001b[1;32m    327\u001b[0m progress_bar\u001b[38;5;241m.\u001b[39mupdate(t_idx)\n\u001b[1;32m    328\u001b[0m \u001b[38;5;28;01mif\u001b[39;00m \u001b[38;5;129;01mnot\u001b[39;00m r\u001b[38;5;241m.\u001b[39msuccessful():\n\u001b[0;32m--> 329\u001b[0m     \u001b[38;5;28;01mraise\u001b[39;00m \u001b[38;5;167;01mException\u001b[39;00m(\u001b[38;5;124m\"\u001b[39m\u001b[38;5;124mODE integration error: Try to increase \u001b[39m\u001b[38;5;124m\"\u001b[39m\n\u001b[1;32m    330\u001b[0m                     \u001b[38;5;124m\"\u001b[39m\u001b[38;5;124mthe allowed number of substeps by increasing \u001b[39m\u001b[38;5;124m\"\u001b[39m\n\u001b[1;32m    331\u001b[0m                     \u001b[38;5;124m\"\u001b[39m\u001b[38;5;124mthe nsteps parameter in the Options class.\u001b[39m\u001b[38;5;124m\"\u001b[39m)\n\u001b[1;32m    332\u001b[0m \u001b[38;5;66;03m# get the current state / oper data if needed\u001b[39;00m\n\u001b[1;32m    333\u001b[0m \u001b[38;5;28;01mif\u001b[39;00m opt\u001b[38;5;241m.\u001b[39mstore_states \u001b[38;5;129;01mor\u001b[39;00m opt\u001b[38;5;241m.\u001b[39mnormalize_output \\\n\u001b[1;32m    334\u001b[0m    \u001b[38;5;129;01mor\u001b[39;00m n_expt_op \u001b[38;5;241m>\u001b[39m \u001b[38;5;241m0\u001b[39m \u001b[38;5;129;01mor\u001b[39;00m expt_callback:\n",
      "\u001b[0;31mException\u001b[0m: ODE integration error: Try to increase the allowed number of substeps by increasing the nsteps parameter in the Options class."
     ]
    }
   ],
   "source": [
    "d1=30;d2=300;E_s=1; E_s2=0; E_int_s=0.1; E_int_e=0.7;E_int_s2=1;E_int_e2=0; E_e=1; E_e2=0;envi=[0]; tmax= 40; ind_nb = 60;log=1\n",
    "file_name = \"coherent_state_long_space\"\n",
    "# Running the simulation and running the core functions\n",
    "coherent_state=create_coherent_state(d1)\n",
    "\n",
    "\n",
    "result, tlist, H_list, state, info = time_evo_from_state(coherent_state,d1,d2,E_s,E_s2,E_int_s,E_int_e,E_int_s2,E_int_e2,E_e,E_e2,envi,tmax,ind_nb,log,file_name)\n"
   ]
  },
  {
   "cell_type": "code",
   "execution_count": null,
   "metadata": {},
   "outputs": [],
   "source": [
    "\n",
    "d1, d2, E_s, E_s2, E_int_s, E_int_e, E_int_s2, E_int_e2, E_e, E_e2, envi, tmax, ind_nb, log = load_param(file_name)\n",
    "info = load_param(file_name)\n",
    "H_list=load_H_list(file_name)\n",
    "result=load_result(file_name)\n",
    "tlist=load_tlist(file_name)"
   ]
  },
  {
   "cell_type": "code",
   "execution_count": null,
   "metadata": {},
   "outputs": [
    {
     "data": {
      "text/html": [
       "<img src=\"../outputs/gifs/distrib_in_H_int_s_gif_coherent_state.gif\">"
      ],
      "text/plain": [
       "<IPython.core.display.HTML object>"
      ]
     },
     "metadata": {},
     "output_type": "display_data"
    }
   ],
   "source": [
    "path=gif_distrib_H_s_int(d1,H_list,result,ind_nb,file_name)\n",
    "display_gif(path)"
   ]
  },
  {
   "cell_type": "code",
   "execution_count": 6,
   "metadata": {},
   "outputs": [],
   "source": [
    "d1=30;d2=300;E_s=2; E_s2=0; E_int_s=0.1; E_int_e=0.7;E_int_s2=0;E_int_e2=0; E_e=1; E_e2=0;envi=[0]; tmax= 40; ind_nb = 60;log=1\n",
    "file_name = \"coherent_state2\"\n",
    "# Running the simulation and running the core functions\n",
    "coherent_state=create_coherent_state(d1)\n",
    "\n",
    "\n",
    "result, tlist, H_list, state, info = time_evo_from_state(coherent_state,d1,d2,E_s,E_s2,E_int_s,E_int_e,E_int_s2,E_int_e2,E_e,E_e2,envi,tmax,ind_nb,log,file_name)\n",
    "\n",
    "d1, d2, E_s, E_s2, E_int_s, E_int_e, E_int_s2, E_int_e2, E_e, E_e2, envi, tmax, ind_nb, log = load_param(file_name)\n",
    "info = load_param(file_name)\n",
    "H_list=load_H_list(file_name)\n",
    "result=load_result(file_name)\n",
    "tlist=load_tlist(file_name)"
   ]
  },
  {
   "cell_type": "code",
   "execution_count": 7,
   "metadata": {},
   "outputs": [
    {
     "data": {
      "text/html": [
       "<img src=\"../outputs/gifs/distrib_in_H_int_s_gif_coherent_state2.gif\">"
      ],
      "text/plain": [
       "<IPython.core.display.HTML object>"
      ]
     },
     "metadata": {},
     "output_type": "display_data"
    }
   ],
   "source": [
    "path=gif_distrib_H_s_int(d1,H_list,result,ind_nb,file_name)\n",
    "display_gif(path)"
   ]
  },
  {
   "cell_type": "code",
   "execution_count": 8,
   "metadata": {},
   "outputs": [],
   "source": [
    "d1=30;d2=300;E_s=1; E_s2=0; E_int_s=0.1; E_int_e=0.7;E_int_s2=0;E_int_e2=0; E_e=2; E_e2=0;envi=[0]; tmax= 40; ind_nb = 60;log=1\n",
    "file_name = \"coherent_state3\"\n",
    "# Running the simulation and running the core functions\n",
    "coherent_state=create_coherent_state(d1)\n",
    "\n",
    "\n",
    "result, tlist, H_list, state, info = time_evo_from_state(coherent_state,d1,d2,E_s,E_s2,E_int_s,E_int_e,E_int_s2,E_int_e2,E_e,E_e2,envi,tmax,ind_nb,log,file_name)\n",
    "\n",
    "d1, d2, E_s, E_s2, E_int_s, E_int_e, E_int_s2, E_int_e2, E_e, E_e2, envi, tmax, ind_nb, log = load_param(file_name)\n",
    "info = load_param(file_name)\n",
    "H_list=load_H_list(file_name)\n",
    "result=load_result(file_name)\n",
    "tlist=load_tlist(file_name)"
   ]
  },
  {
   "cell_type": "code",
   "execution_count": 9,
   "metadata": {},
   "outputs": [
    {
     "data": {
      "text/html": [
       "<img src=\"../outputs/gifs/distrib_in_H_int_s_gif_coherent_state3.gif\">"
      ],
      "text/plain": [
       "<IPython.core.display.HTML object>"
      ]
     },
     "metadata": {},
     "output_type": "display_data"
    }
   ],
   "source": [
    "path=gif_distrib_H_s_int(d1,H_list,result,ind_nb,file_name)\n",
    "display_gif(path)"
   ]
  },
  {
   "cell_type": "code",
   "execution_count": 10,
   "metadata": {},
   "outputs": [],
   "source": [
    "d1=30;d2=300;E_s=0.5; E_s2=0; E_int_s=0.1; E_int_e=0.7;E_int_s2=0;E_int_e2=0; E_e=1; E_e2=0;envi=[0]; tmax= 40; ind_nb = 60;log=1\n",
    "file_name = \"coherent_state4\"\n",
    "# Running the simulation and running the core functions\n",
    "coherent_state=create_coherent_state(d1)\n",
    "\n",
    "\n",
    "result, tlist, H_list, state, info = time_evo_from_state(coherent_state,d1,d2,E_s,E_s2,E_int_s,E_int_e,E_int_s2,E_int_e2,E_e,E_e2,envi,tmax,ind_nb,log,file_name)\n",
    "\n",
    "d1, d2, E_s, E_s2, E_int_s, E_int_e, E_int_s2, E_int_e2, E_e, E_e2, envi, tmax, ind_nb, log = load_param(file_name)\n",
    "info = load_param(file_name)\n",
    "H_list=load_H_list(file_name)\n",
    "result=load_result(file_name)\n",
    "tlist=load_tlist(file_name)"
   ]
  },
  {
   "cell_type": "code",
   "execution_count": 11,
   "metadata": {},
   "outputs": [
    {
     "data": {
      "text/html": [
       "<img src=\"../outputs/gifs/distrib_in_H_int_s_gif_coherent_state4.gif\">"
      ],
      "text/plain": [
       "<IPython.core.display.HTML object>"
      ]
     },
     "metadata": {},
     "output_type": "display_data"
    }
   ],
   "source": [
    "path=gif_distrib_H_s_int(d1,H_list,result,ind_nb,file_name)\n",
    "display_gif(path)"
   ]
  },
  {
   "cell_type": "code",
   "execution_count": 12,
   "metadata": {},
   "outputs": [],
   "source": [
    "d1=30;d2=300;E_s=0.2; E_s2=0; E_int_s=0.1; E_int_e=0.7;E_int_s2=0;E_int_e2=0; E_e=1; E_e2=0;envi=[0]; tmax= 40; ind_nb = 60;log=1\n",
    "file_name = \"coherent_state5\"\n",
    "# Running the simulation and running the core functions\n",
    "coherent_state=create_coherent_state(d1)\n",
    "\n",
    "\n",
    "result, tlist, H_list, state, info = time_evo_from_state(coherent_state,d1,d2,E_s,E_s2,E_int_s,E_int_e,E_int_s2,E_int_e2,E_e,E_e2,envi,tmax,ind_nb,log,file_name)\n",
    "\n",
    "d1, d2, E_s, E_s2, E_int_s, E_int_e, E_int_s2, E_int_e2, E_e, E_e2, envi, tmax, ind_nb, log = load_param(file_name)\n",
    "info = load_param(file_name)\n",
    "H_list=load_H_list(file_name)\n",
    "result=load_result(file_name)\n",
    "tlist=load_tlist(file_name)"
   ]
  },
  {
   "cell_type": "code",
   "execution_count": 13,
   "metadata": {},
   "outputs": [
    {
     "data": {
      "text/html": [
       "<img src=\"../outputs/gifs/distrib_in_H_int_s_gif_coherent_state5.gif\">"
      ],
      "text/plain": [
       "<IPython.core.display.HTML object>"
      ]
     },
     "metadata": {},
     "output_type": "display_data"
    }
   ],
   "source": [
    "path=gif_distrib_H_s_int(d1,H_list,result,ind_nb,file_name)\n",
    "display_gif(path)"
   ]
  },
  {
   "cell_type": "code",
   "execution_count": 16,
   "metadata": {},
   "outputs": [],
   "source": [
    "d1=30;d2=300;E_s=1; E_s2=0; E_int_s=0.1; E_int_e=0.7;E_int_s2=0;E_int_e2=0; E_e=3; E_e2=0;envi=[0]; tmax= 40; ind_nb = 60;log=1\n",
    "file_name = \"coherent_state6\"\n",
    "# Running the simulation and running the core functions\n",
    "coherent_state=create_coherent_state(d1)\n",
    "\n",
    "\n",
    "result, tlist, H_list, state, info = time_evo_from_state(coherent_state,d1,d2,E_s,E_s2,E_int_s,E_int_e,E_int_s2,E_int_e2,E_e,E_e2,envi,tmax,ind_nb,log,file_name)\n",
    "\n",
    "d1, d2, E_s, E_s2, E_int_s, E_int_e, E_int_s2, E_int_e2, E_e, E_e2, envi, tmax, ind_nb, log = load_param(file_name)\n",
    "info = load_param(file_name)\n",
    "H_list=load_H_list(file_name)\n",
    "result=load_result(file_name)\n",
    "tlist=load_tlist(file_name)"
   ]
  },
  {
   "cell_type": "code",
   "execution_count": 17,
   "metadata": {},
   "outputs": [
    {
     "data": {
      "text/html": [
       "<img src=\"../outputs/gifs/distrib_in_H_int_s_gif_coherent_state6.gif\">"
      ],
      "text/plain": [
       "<IPython.core.display.HTML object>"
      ]
     },
     "metadata": {},
     "output_type": "display_data"
    }
   ],
   "source": [
    "path=gif_distrib_H_s_int(d1,H_list,result,ind_nb,file_name)\n",
    "display_gif(path)"
   ]
  },
  {
   "cell_type": "code",
   "execution_count": null,
   "metadata": {},
   "outputs": [],
   "source": [
    "d1=30;d2=300;E_s=1; E_s2=0; E_int_s=0.05; E_int_e=0.7;E_int_s2=0;E_int_e2=0; E_e=3; E_e2=0;envi=[0]; tmax= 22; ind_nb = 100;log=1\n",
    "file_name = \"coherent_state_notebook\"\n",
    "# Running the simulation and running the core functions\n",
    "coherent_state=create_coherent_state(d1)\n",
    "\n",
    "\n",
    "result, tlist, H_list, state, info = time_evo_from_state(coherent_state,d1,d2,E_s,E_s2,E_int_s,E_int_e,E_int_s2,E_int_e2,E_e,E_e2,envi,tmax,ind_nb,log,file_name)\n",
    "\n",
    "d1, d2, E_s, E_s2, E_int_s, E_int_e, E_int_s2, E_int_e2, E_e, E_e2, envi, tmax, ind_nb, log = load_param(file_name)\n",
    "info = load_param(file_name)\n",
    "H_list=load_H_list(file_name)\n",
    "result=load_result(file_name)\n",
    "tlist=load_tlist(file_name)"
   ]
  },
  {
   "cell_type": "code",
   "execution_count": null,
   "metadata": {},
   "outputs": [
    {
     "data": {
      "text/html": [
       "<img src=\"../outputs/gifs/distrib_in_H_int_s_gif_coherent_state_notebook.gif\">"
      ],
      "text/plain": [
       "<IPython.core.display.HTML object>"
      ]
     },
     "metadata": {},
     "output_type": "display_data"
    }
   ],
   "source": [
    "path=gif_distrib_H_s_int(d1,H_list,result,ind_nb,file_name)\n",
    "display_gif(path)"
   ]
  },
  {
   "cell_type": "markdown",
   "metadata": {},
   "source": [
    "<h3>Having fun and doing a wavepacket superposition<h3>"
   ]
  },
  {
   "cell_type": "code",
   "execution_count": 20,
   "metadata": {},
   "outputs": [
    {
     "data": {
      "text/html": [
       "<img src=\"../outputs/gifs/distrib_in_H_int_s_gif_coherent_state_superposition.gif\">"
      ],
      "text/plain": [
       "<IPython.core.display.HTML object>"
      ]
     },
     "metadata": {},
     "output_type": "display_data"
    }
   ],
   "source": [
    "d1=30;d2=300;E_s=1; E_s2=0; E_int_s=0.05; E_int_e=0.7;E_int_s2=0;E_int_e2=0; E_e=3; E_e2=0;envi=[0]; tmax= 40; ind_nb = 60;log=1\n",
    "file_name = \"coherent_state_superposition\"\n",
    "# Running the simulation and running the core functions\n",
    "coherent_state1=create_coherent_state(d1)\n",
    "coherent_state2=create_coherent_state(d1,0.5+0.5j)\n",
    "coherent_state=(coherent_state1+coherent_state2).unit()\n",
    "\n",
    "result, tlist, H_list, state, info = time_evo_from_state(coherent_state,d1,d2,E_s,E_s2,E_int_s,E_int_e,E_int_s2,E_int_e2,E_e,E_e2,envi,tmax,ind_nb,log,file_name)\n",
    "\n",
    "d1, d2, E_s, E_s2, E_int_s, E_int_e, E_int_s2, E_int_e2, E_e, E_e2, envi, tmax, ind_nb, log = load_param(file_name)\n",
    "info = load_param(file_name)\n",
    "H_list=load_H_list(file_name)\n",
    "result=load_result(file_name)\n",
    "tlist=load_tlist(file_name)\n",
    "\n",
    "path=gif_distrib_H_s_int(d1,H_list,result,ind_nb,file_name)\n",
    "display_gif(path)"
   ]
  },
  {
   "cell_type": "code",
   "execution_count": null,
   "metadata": {},
   "outputs": [],
   "source": []
  },
  {
   "cell_type": "markdown",
   "metadata": {},
   "source": []
  },
  {
   "cell_type": "markdown",
   "metadata": {},
   "source": []
  },
  {
   "cell_type": "code",
   "execution_count": null,
   "metadata": {},
   "outputs": [],
   "source": []
  },
  {
   "cell_type": "markdown",
   "metadata": {},
   "source": []
  },
  {
   "cell_type": "code",
   "execution_count": null,
   "metadata": {},
   "outputs": [],
   "source": []
  },
  {
   "cell_type": "code",
   "execution_count": null,
   "metadata": {},
   "outputs": [],
   "source": []
  },
  {
   "cell_type": "code",
   "execution_count": null,
   "metadata": {},
   "outputs": [],
   "source": []
  },
  {
   "cell_type": "code",
   "execution_count": null,
   "metadata": {},
   "outputs": [],
   "source": []
  },
  {
   "cell_type": "code",
   "execution_count": null,
   "metadata": {},
   "outputs": [],
   "source": []
  },
  {
   "cell_type": "code",
   "execution_count": 18,
   "metadata": {},
   "outputs": [],
   "source": [
    "d1=30;d2=300;E_s=1; E_s2=0; E_int_s=0.5; E_int_e=0.7;E_int_s2=0;E_int_e2=0; E_e=1; E_e2=0;w=[0,0,0,0,0,0,0,0,0,0,0,0,0,1,0,0,0,0,0,0,0,0,0,0,0,0,0,0,0,0];envi=[0]; tmax= 100; ind_nb = 200;log=1\n",
    "file_name = \"coherent_state\"\n",
    "# Running the simulation and running the core functions\n",
    "result, tlist, H_list, ket_list, info = time_evo_new(d1,d2,E_s,E_s2,E_int_s,E_int_e,E_int_s2,E_int_e2,E_e,E_e2,w,envi,tmax,ind_nb,log,file_name)\n",
    "\n",
    "d1, d2, E_s, E_s2, E_int_s, E_int_e, E_int_s2, E_int_e2, E_e, E_e2, w, envi, tmax, ind_nb, log = load_param(file_name)\n",
    "info = load_param(file_name)\n",
    "H_list=load_H_list(file_name)\n",
    "result=load_result(file_name)\n",
    "tlist=load_tlist(file_name)"
   ]
  },
  {
   "cell_type": "code",
   "execution_count": null,
   "metadata": {},
   "outputs": [],
   "source": [
    "a = annihilation_operator(d1)\n",
    "a_dag = a.conj().T"
   ]
  },
  {
   "cell_type": "code",
   "execution_count": null,
   "metadata": {},
   "outputs": [
    {
     "ename": "NameError",
     "evalue": "name 'a' is not defined",
     "output_type": "error",
     "traceback": [
      "\u001b[0;31m---------------------------------------------------------------------------\u001b[0m",
      "\u001b[0;31mNameError\u001b[0m                                 Traceback (most recent call last)",
      "Cell \u001b[0;32mIn[23], line 5\u001b[0m\n\u001b[1;32m      1\u001b[0m \u001b[38;5;28;01mfrom\u001b[39;00m \u001b[38;5;21;01mscipy\u001b[39;00m\u001b[38;5;21;01m.\u001b[39;00m\u001b[38;5;21;01mlinalg\u001b[39;00m \u001b[38;5;28;01mimport\u001b[39;00m expm\n\u001b[1;32m      3\u001b[0m H_int_s\u001b[38;5;241m=\u001b[39mH_list[\u001b[38;5;241m6\u001b[39m]\n\u001b[0;32m----> 5\u001b[0m a_qobj \u001b[38;5;241m=\u001b[39m qt\u001b[38;5;241m.\u001b[39mQobj(\u001b[43ma\u001b[49m)\n\u001b[1;32m      6\u001b[0m eig_ener_a,eig_states_a\u001b[38;5;241m=\u001b[39ma_qobj\u001b[38;5;241m.\u001b[39meigenstates()\n\u001b[1;32m      7\u001b[0m unic_eig\u001b[38;5;241m=\u001b[39meig_states_a[\u001b[38;5;241m0\u001b[39m]\u001b[38;5;241m.\u001b[39mfull()\n",
      "\u001b[0;31mNameError\u001b[0m: name 'a' is not defined"
     ]
    }
   ],
   "source": [
    "from scipy.linalg import expm\n",
    "\n",
    "H_int_s=H_list[6]\n",
    "\n",
    "a_qobj = qt.Qobj(a)\n",
    "eig_ener_a,eig_states_a=a_qobj.eigenstates()\n",
    "unic_eig=eig_states_a[0].full()\n",
    "\n",
    "eig_ener_self,eig_sta_self = H_s_self.eigenstates()\n",
    "eig_energ_int,eig_sta_int = H_int_s.eigenstates()\n",
    "alpha=(1j)\n",
    "C=expm(alpha*a-alpha.conjugate()*a_dag)\n",
    "coherent_state = np.dot(C,unic_eig)\n",
    "plt.imshow(np.abs(C))\n",
    "weight = []\n",
    "for i in range(d1):\n",
    "    weight.append(np.abs(np.vdot(coherent_state,eig_sta_int[i])))\n",
    "plt.plot(weight)\n"
   ]
  },
  {
   "cell_type": "code",
   "execution_count": null,
   "metadata": {},
   "outputs": [
    {
     "data": {
      "text/plain": [
       "[<matplotlib.lines.Line2D at 0x138443590>]"
      ]
     },
     "execution_count": 129,
     "metadata": {},
     "output_type": "execute_result"
    },
    {
     "data": {
      "image/png": "[encoded data removed]",
      "text/plain": [
       "<Figure size 640x480 with 1 Axes>"
      ]
     },
     "metadata": {},
     "output_type": "display_data"
    }
   ],
   "source": []
  },
  {
   "cell_type": "code",
   "execution_count": null,
   "metadata": {},
   "outputs": [],
   "source": [
    "alpha=(1)\n",
    "C=expm(alpha*a-alpha.conjugate()*a_dag)\n",
    "coherent_state = np.dot(C,unic_eig)\n",
    "weight = []\n",
    "for i in range(d1):\n",
    "    weight.append(np.abs(np.vdot(coherent_state,eig_sta_int[i])))\n",
    "plt.plot(weight)"
   ]
  },
  {
   "cell_type": "code",
   "execution_count": null,
   "metadata": {},
   "outputs": [],
   "source": [
    "#exploring the alternative of jsut finding the eigenstate of the annihilation operator.\n",
    "\n"
   ]
  },
  {
   "cell_type": "code",
   "execution_count": 122,
   "metadata": {},
   "outputs": [
    {
     "name": "stdout",
     "output_type": "stream",
     "text": [
      "[[1.+0.j]\n",
      " [0.+0.j]\n",
      " [0.+0.j]\n",
      " [0.+0.j]\n",
      " [0.+0.j]\n",
      " [0.+0.j]\n",
      " [0.+0.j]\n",
      " [0.+0.j]\n",
      " [0.+0.j]\n",
      " [0.+0.j]\n",
      " [0.+0.j]\n",
      " [0.+0.j]\n",
      " [0.+0.j]\n",
      " [0.+0.j]\n",
      " [0.+0.j]\n",
      " [0.+0.j]\n",
      " [0.+0.j]\n",
      " [0.+0.j]\n",
      " [0.+0.j]\n",
      " [0.+0.j]\n",
      " [0.+0.j]\n",
      " [0.+0.j]\n",
      " [0.+0.j]\n",
      " [0.+0.j]\n",
      " [0.+0.j]\n",
      " [0.+0.j]\n",
      " [0.+0.j]\n",
      " [0.+0.j]\n",
      " [0.+0.j]\n",
      " [0.+0.j]]\n"
     ]
    }
   ],
   "source": [
    "\n",
    "print(unic_eig)\n",
    "#unic_eig=[0,0,0,0,0,0,0,0,0,0,0,0,0,0,0,0,0,0,0,0,0,0,0,0,0,0,0,0,0,0]"
   ]
  },
  {
   "cell_type": "code",
   "execution_count": 123,
   "metadata": {},
   "outputs": [
    {
     "data": {
      "text/plain": [
       "[<matplotlib.lines.Line2D at 0x13824ff10>]"
      ]
     },
     "execution_count": 123,
     "metadata": {},
     "output_type": "execute_result"
    },
    {
     "data": {
      "image/png": "[encoded data removed]",
      "text/plain": [
       "<Figure size 640x480 with 1 Axes>"
      ]
     },
     "metadata": {},
     "output_type": "display_data"
    }
   ],
   "source": [
    "weight = []\n",
    "for i in range(d1):\n",
    "    weight.append(np.abs(np.vdot(unic_eig,eig_sta_int[i])))\n",
    "plt.plot(weight)\n"
   ]
  },
  {
   "cell_type": "code",
   "execution_count": null,
   "metadata": {},
   "outputs": [],
   "source": []
  },
  {
   "cell_type": "code",
   "execution_count": null,
   "metadata": {},
   "outputs": [],
   "source": []
  },
  {
   "cell_type": "code",
   "execution_count": null,
   "metadata": {},
   "outputs": [],
   "source": []
  },
  {
   "cell_type": "code",
   "execution_count": null,
   "metadata": {},
   "outputs": [],
   "source": [
    "\n"
   ]
  },
  {
   "cell_type": "code",
   "execution_count": null,
   "metadata": {},
   "outputs": [],
   "source": []
  },
  {
   "cell_type": "code",
   "execution_count": null,
   "metadata": {},
   "outputs": [],
   "source": []
  },
  {
   "cell_type": "code",
   "execution_count": null,
   "metadata": {},
   "outputs": [],
   "source": []
  }
 ],
 "metadata": {
  "kernelspec": {
   "display_name": "Python 3",
   "language": "python",
   "name": "python3"
  },
  "language_info": {
   "codemirror_mode": {
    "name": "ipython",
    "version": 3
   },
   "file_extension": ".py",
   "mimetype": "text/x-python",
   "name": "python",
   "nbconvert_exporter": "python",
   "pygments_lexer": "ipython3",
   "version": "3.11.7"
  }
 },
 "nbformat": 4,
 "nbformat_minor": 2
}
