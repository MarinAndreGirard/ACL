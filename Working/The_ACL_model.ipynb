{
 "cells": [
  {
   "cell_type": "code",
   "execution_count": 1,
   "metadata": {},
   "outputs": [],
   "source": [
    "import sys\n",
    "import os\n",
    "\n",
    "# modify syspath directory to sys.path\n",
    "\n",
    "package_path = os.path.abspath(os.path.join('..','core'))\n",
    "if package_path not in sys.path:\n",
    "    sys.path.append(package_path)\n",
    "\n",
    "package_path = os.path.abspath(os.path.join('..','utils'))\n",
    "if package_path not in sys.path:\n",
    "    sys.path.append(package_path)\n",
    "\n",
    "package_path = os.path.abspath(os.path.join('..'))\n",
    "if package_path not in sys.path:\n",
    "    sys.path.append(package_path)\n",
    "\n",
    "import numpy as np\n",
    "import qutip as qt\n",
    "import math\n",
    "import matplotlib.pyplot as plt\n",
    "\n",
    "from IPython.display import HTML # both needed to disply gifs\n",
    "from PIL import Image\n",
    "\n",
    "# Import modules from the package\n",
    "from core import create_hamiltonian as ch\n",
    "from core import create_state as cs\n",
    "from core import create_coherent_state\n",
    "from core import time_evo\n",
    "from core import time_evo_new\n",
    "from core import time_evo_from_state\n",
    "from core import load_param\n",
    "from core import load_H_list\n",
    "from core import load_result\n",
    "from core import load_tlist\n",
    "from core import operators\n",
    "from core.schmidt_solve import compute_schmidt_states_all_time\n",
    "from core.eigen_ener_states import eigen_ener_states as eig\n",
    "from core import annihilation_operator\n",
    "from utils.entropy import compute_VN, plot_VN, compute_VN_time\n",
    "from utils import collapse_gif\n",
    "from utils.collapse_gif import collapse_gif\n",
    "from utils.display_gif import display_gif\n",
    "from utils.distribution_gif import gif_distribution_eig_total\n",
    "from utils.distribution_gif import prob_gif\n",
    "from utils.distribution_gif import gif_distrib_H_s_int\n",
    "from utils.distribution_gif import gif_distrib_system_first_eig\n",
    "from utils.plot import plot_basic\n",
    "from utils.plot import plot_with_binning\n",
    "from utils.basic_functions import state_distribution_eig_tot\n",
    "from utils.basic_functions import random_dephasing\n",
    "from utils.basic_functions import get_state_probabilities\n",
    "from utils.basic_functions import position\n",
    "from utils.basic_functions import copy_cat\n",
    "from utils.overlap import overlap\n",
    "from utils.overlap import gif_schmidt_overlap\n",
    "from utils.interference import interference_plot\n",
    "from utils.expectations import exp_val_time\n",
    "from utils.plot_hamiltonians import plot_hamiltonians\n",
    "\n"
   ]
  },
  {
   "cell_type": "markdown",
   "metadata": {},
   "source": [
    "<img src=\"outputs/temp/unitary_fund_logo.png\" width=\"500\"> <img src=\"outputs/temp/ACL.png\" width=\"361\">\n"
   ]
  },
  {
   "cell_type": "markdown",
   "metadata": {},
   "source": [
    "<h1/>The ACL model<h1/>"
   ]
  },
  {
   "cell_type": "markdown",
   "metadata": {},
   "source": [
    "The ACL model is model of **decoherence**, adapted from the Caldeira-Leggett model. It simplifies it by keeping the strict minimum to achieve decoherence while making it numerically practical. \n",
    "The ACL model, models a Hamiltonian, of the form \n",
    "\\begin{equation}    \n",
    "    H_{tot}=H_s+H_e+H_I\n",
    "\\end{equation}\n",
    "in a Hilbert space composed of a system $\\mathcal{S}$ and an environment $\\mathcal{E}$. <br>\n",
    "\n",
    "The system is a truncated simple harmonic oscillator (SHO), who's self Hamiltonian is defined by $H_s=H_{SHO}\\otimes\\mathbb{1}$, with $H_{SHO}$ the Hamiltonian of a simple truncated simple harmonic oscillator.\n",
    "The interaction term is given by $H_I=X\\otimes H^e_I$ with $H^e_I=E_IH_r+E^0_I$ and $X$ the position operator and $H_r$ is a random matrix. This makes the interaction strenght dependant on the position, and various positions get entangled with different environment states. The environment self Hamiltonian is given by $H_e=E_eH_r'+E^0_e$, with $H_r$ another random matrix. The total Hamiltonian is constant during the whole time evolution. \n",
    "\n",
    "He and HeI are independant random matrices to decohere with maximal efficiency, shortening the simulation time needed to get results. (In the CL model the environment is a boson bath.)\n",
    "\n"
   ]
  },
  {
   "cell_type": "markdown",
   "metadata": {},
   "source": [
    "Why the ACL model? \n",
    "\n",
    "\n",
    "Caldeira-Leggett (CL) model is a toy model describing a particle which moves in its own potential and is also coupled to an environment\n",
    "The environment is usually treated as an infinite set of harmonic oscillators, and the particle is often taken to move in a harmonic potential as well.\n",
    "\n",
    "The adaptsations reproduce the essential features of the CL model within a finit Hilbert space. This allows for numerical exploration outside of the markovian limit (where we treat the system using a master equation.). We thus obtain results for unitary QM.\n",
    "\n",
    "one thing we cant get with a master equation is a fully fluctuating equilibrium state. important in studying AoT and einselection relationship.\n",
    "\n"
   ]
  },
  {
   "cell_type": "markdown",
   "metadata": {},
   "source": [
    "Specifically in the code, with parameter in green, the model takes the following form, INCORECT HAS BEEN CHANGED NOW!!!\n",
    "$$H = H_s + H_{int} + H_e = H_{s\\_ self} \\otimes id + H_{int\\_ s} \\otimes H_{int\\_ e} + id \\otimes H_{e\\_ self}$$\n",
    "$$ = [{\\color{ForestGreen}E_s} \\otimes diag(i)\\otimes id(d_2) + {\\color{ForestGreen}E_{s2}} \\otimes id(d_1)\\otimes id(d_2) ] + [{\\color{ForestGreen}(E_{int\\_ s}} \\otimes offdiag(\\sqrt{i}) + {\\color{ForestGreen}E_{int\\_ s2}} \\otimes diag(i)) \\otimes ({\\color{ForestGreen}E_{int\\_ e}} \\otimes rd(d_2) + {\\color{ForestGreen}E_{int\\_ e2}} \\otimes id(d_2))] + [id(d_1) \\otimes ({\\color{ForestGreen}E_e} \\otimes H_{e\\_ self} + {\\color{ForestGreen}E_{e2}} \\otimes id(d_2))]$$\n"
   ]
  },
  {
   "cell_type": "markdown",
   "metadata": {},
   "source": [
    "Finally this leaves us with the following parameters defining the model. \n",
    "E_e and E_I are c numbers responsible for the relative strenght between system-env interaction, systyem self interaction and environment self interaction.\n",
    "E^0_e and E^0_I are real numbers responsible for energy scale of the environment and interaction Hamiltonian.\n"
   ]
  },
  {
   "cell_type": "markdown",
   "metadata": {},
   "source": [
    "BLock diagonal stuff\n",
    "\n",
    "Taking the eigenstates of $H_q$ to be $\\{|q_i\\rangle\\}\\forall$, there is a basis like $\\{|q_i\\rangle|k(q_i)\\rangle\\}$, such that $H_{tot}$, $H_e$ and $H_I$ take the a block diagonal form. $i\\in[0,d_1-1],j\\in [0,d_2-1]$, $d_1$ and $d_2$ the dimensions of the system and environment respectively, giving a total dimension $d=d_1*d_2$."
   ]
  },
  {
   "cell_type": "markdown",
   "metadata": {},
   "source": [
    "$H=\\alpha_s H_{SHO}\\otimes \\mathbb{1}+\\beta X\\otimes H_{int}+\\alpha_e\\mathbb{1}\\otimes H_{e}$ \n"
   ]
  },
  {
   "cell_type": "markdown",
   "metadata": {},
   "source": [
    "<h3>The strong interaction limit.<h3>\n",
    "\n",
    "$\\alpha_i>>\\beta$, position eigenstates are pointer states"
   ]
  },
  {
   "cell_type": "code",
   "execution_count": null,
   "metadata": {},
   "outputs": [],
   "source": []
  },
  {
   "cell_type": "markdown",
   "metadata": {},
   "source": [
    "<h3>The weak interaction limit<h3>\n",
    "\n",
    "$\\alpha_i>>\\beta$, SHO eingenstates are pointer states"
   ]
  },
  {
   "cell_type": "code",
   "execution_count": null,
   "metadata": {},
   "outputs": [],
   "source": []
  },
  {
   "cell_type": "markdown",
   "metadata": {},
   "source": [
    "<h3>The intermediate regime<h3>\n",
    "\n",
    "<h6>Where coherent states are pointer states<h6>"
   ]
  },
  {
   "cell_type": "markdown",
   "metadata": {},
   "source": [
    "<h1>Pure ACL<h1>"
   ]
  },
  {
   "cell_type": "markdown",
   "metadata": {},
   "source": [
    "<h3>Harmonic oscillator behavior with a coherent state<h3>"
   ]
  },
  {
   "cell_type": "code",
   "execution_count": null,
   "metadata": {},
   "outputs": [],
   "source": [
    "path=\"../outputs/gifs/distrib_in_H_int_s_gif_coherent_state_notebook.gif\"\n",
    "display_gif(path)"
   ]
  },
  {
   "cell_type": "markdown",
   "metadata": {},
   "source": [
    "<h3>Cat states + visible interference<h3>"
   ]
  },
  {
   "cell_type": "code",
   "execution_count": null,
   "metadata": {},
   "outputs": [],
   "source": [
    "path=\"../outputs/gifs/distrib_in_H_int_s_gif_coherent_state_superposition.gif\"\n",
    "display_gif(path)"
   ]
  },
  {
   "cell_type": "markdown",
   "metadata": {},
   "source": [
    "<img src=\"outputs/temp/interference_superposition.jpg\" width=\"1001\">\n"
   ]
  },
  {
   "cell_type": "markdown",
   "metadata": {},
   "source": [
    "<h3>Cat state and einselection<h3>\n",
    "<h5>We plot the top 2 eigenstates of $\\rho_s$<h5>"
   ]
  },
  {
   "cell_type": "code",
   "execution_count": 4,
   "metadata": {},
   "outputs": [
    {
     "name": "stdout",
     "output_type": "stream",
     "text": [
      "30\n",
      "../outputs/gifs/rho_s_first_eig_distrib_in_H_int_s_gif_coherent_state_decoherence.gif\n"
     ]
    },
    {
     "data": {
      "text/html": [
       "<img src=\"../outputs/gifs/rho_s_first_eig_distrib_in_H_int_s_gif_coherent_state_decoherence.gif\">"
      ],
      "text/plain": [
       "<IPython.core.display.HTML object>"
      ]
     },
     "metadata": {},
     "output_type": "display_data"
    },
    {
     "data": {
      "image/png": "[encoded data removed]",
      "text/plain": [
       "<Figure size 640x480 with 1 Axes>"
      ]
     },
     "metadata": {},
     "output_type": "display_data"
    }
   ],
   "source": [
    "file_name = \"coherent_state_decoherence\"\n",
    "\n",
    "d1, d2, E_s, E_s2, E_int_s, E_int_e, E_int_s2, E_int_e2, E_e, E_e2, envi, tmax, ind_nb, log = load_param(file_name)\n",
    "print(d1)\n",
    "info = load_param(file_name)\n",
    "H_list=load_H_list(file_name)\n",
    "result=load_result(file_name)\n",
    "tlist=load_tlist(file_name)\n",
    "\n",
    "eigenenergies1_list=[]\n",
    "eigenenergies2_list=[]\n",
    "for i in range(ind_nb):\n",
    "    rho_s=qt.ptrace(result.states[i], [0])\n",
    "    eigenenergies, eigenstates = rho_s.eigenstates()\n",
    "    eigenenergies1_list.append(eigenenergies[29])\n",
    "    eigenenergies2_list.append(eigenenergies[28])\n",
    "\n",
    "plt.plot(eigenenergies1_list)\n",
    "plt.plot(eigenenergies2_list)\n",
    "plt.xscale('log')\n",
    "\n",
    "\n",
    "path = gif_distrib_system_first_eig(d1,H_list,result,ind_nb, file_name)\n",
    "print(path)\n",
    "display_gif(path)"
   ]
  },
  {
   "cell_type": "markdown",
   "metadata": {},
   "source": [
    "Note the presence of 2 regimes, the post decoherence regime and the dissipation time. "
   ]
  },
  {
   "cell_type": "markdown",
   "metadata": {},
   "source": [
    "<h3>Entropy<h3>"
   ]
  },
  {
   "cell_type": "code",
   "execution_count": null,
   "metadata": {},
   "outputs": [],
   "source": [
    "file_name = \"coherent_state_notebook\"\n",
    "file_name=\"coherent_state_superposition\"\n",
    "\n",
    "d1, d2, E_s, E_s2, E_int_s, E_int_e, E_int_s2, E_int_e2, E_e, E_e2, envi, tmax, ind_nb, log = load_param(file_name)\n",
    "info = load_param(file_name)\n",
    "H_list=load_H_list(file_name)\n",
    "result=load_result(file_name)\n",
    "tlist=load_tlist(file_name)\n",
    "\n",
    "plot_VN(result,tlist)"
   ]
  },
  {
   "cell_type": "markdown",
   "metadata": {},
   "source": [
    "<h1>An even simpler decoherence model<h1>\n",
    "<h3>And an example of running a simulation<h3>"
   ]
  },
  {
   "cell_type": "code",
   "execution_count": null,
   "metadata": {},
   "outputs": [],
   "source": [
    "d1=10;d2=200;E_s=1; E_s2=0; E_int_s=0; E_int_e=1;E_int_s2=0.06;E_int_e2=0; E_e=1; E_e2=0;w=[0,0,0,np.sqrt(0.3),0,0,0,np.sqrt(0.7),0,0];envi=[0]; tmax= 10; ind_nb = 100;log=0\n",
    "file_name=\"basic_block_diagonal_w_decoherence\"\n",
    "result, tlist, H_list, ket_list, info = time_evo_new(d1,d2,E_s,E_s2,E_int_s,E_int_e,E_int_s2,E_int_e2,E_e,E_e2,w,envi,tmax,ind_nb,log)"
   ]
  },
  {
   "cell_type": "code",
   "execution_count": null,
   "metadata": {},
   "outputs": [],
   "source": [
    "plot_hamiltonians(H_list)"
   ]
  },
  {
   "cell_type": "markdown",
   "metadata": {},
   "source": [
    "<h3>Loading results, relevant parameters and getting useful quantities calculated<h3>"
   ]
  },
  {
   "cell_type": "code",
   "execution_count": null,
   "metadata": {},
   "outputs": [],
   "source": [
    "file_name=\"basic_block_diagonal_w_decoherence\"\n",
    "d1, d2, E_s, E_s2, E_int_s, E_int_e, E_int_s2, E_int_e2, E_e, E_e2, w, envi, tmax, ind_nb, log = load_param(file_name)\n",
    "info = list(load_param(file_name))\n",
    "H_list=load_H_list(file_name)\n",
    "result=load_result(file_name)\n",
    "tlist=load_tlist(file_name)\n",
    "\n",
    "eigen = eig(H_list)\n",
    "s_list = compute_schmidt_states_all_time(result, ind_nb)\n",
    "ss_list = s_list[0]\n",
    "se_list= s_list[1]\n",
    "sv_list = s_list[2]\n",
    "s_full_list=s_list[3]"
   ]
  },
  {
   "cell_type": "markdown",
   "metadata": {},
   "source": [
    "<h3>Einselection/Visualizing the collapse <h3>"
   ]
  },
  {
   "cell_type": "code",
   "execution_count": null,
   "metadata": {},
   "outputs": [],
   "source": [
    "gif_path = collapse_gif(eigen, s_list, info)\n",
    "display_gif(gif_path)\n",
    "plot_VN(result,tlist)"
   ]
  },
  {
   "cell_type": "code",
   "execution_count": null,
   "metadata": {},
   "outputs": [],
   "source": []
  }
 ],
 "metadata": {
  "kernelspec": {
   "display_name": "Python 3",
   "language": "python",
   "name": "python3"
  },
  "language_info": {
   "codemirror_mode": {
    "name": "ipython",
    "version": 3
   },
   "file_extension": ".py",
   "mimetype": "text/x-python",
   "name": "python",
   "nbconvert_exporter": "python",
   "pygments_lexer": "ipython3",
   "version": "3.11.7"
  }
 },
 "nbformat": 4,
 "nbformat_minor": 2
}
