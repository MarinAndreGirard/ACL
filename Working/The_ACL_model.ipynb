{
 "cells": [
  {
   "cell_type": "code",
   "execution_count": null,
   "metadata": {},
   "outputs": [],
   "source": [
    "import sys\n",
    "import os\n",
    "\n",
    "# modify syspath directory to sys.path\n",
    "\n",
    "package_path = os.path.abspath(os.path.join('..','core'))\n",
    "if package_path not in sys.path:\n",
    "    sys.path.append(package_path)\n",
    "\n",
    "package_path = os.path.abspath(os.path.join('..','utils'))\n",
    "if package_path not in sys.path:\n",
    "    sys.path.append(package_path)\n",
    "\n",
    "package_path = os.path.abspath(os.path.join('..'))\n",
    "if package_path not in sys.path:\n",
    "    sys.path.append(package_path)\n",
    "\n",
    "import numpy as np\n",
    "import qutip as qt\n",
    "import math\n",
    "import matplotlib.pyplot as plt\n",
    "\n",
    "from IPython.display import HTML # both needed to disply gifs\n",
    "from PIL import Image\n",
    "\n",
    "# Import modules from the package\n",
    "from core import create_hamiltonian as ch\n",
    "from core import create_state as cs\n",
    "from core import create_coherent_state\n",
    "from core import time_evo\n",
    "from core import time_evo_new\n",
    "from core import time_evo_from_state\n",
    "from core import load_param\n",
    "from core import load_H_list\n",
    "from core import load_result\n",
    "from core import load_tlist\n",
    "from core import operators\n",
    "from core.schmidt_solve import compute_schmidt_states_all_time\n",
    "from core.eigen_ener_states import eigen_ener_states as eig\n",
    "from core import annihilation_operator\n",
    "from utils.entropy import compute_VN, plot_VN, compute_VN_time\n",
    "from utils import collapse_gif\n",
    "from utils.collapse_gif import collapse_gif\n",
    "from utils.display_gif import display_gif\n",
    "from utils.distribution_gif import gif_distribution_eig_total\n",
    "from utils.distribution_gif import prob_gif\n",
    "from utils.distribution_gif import gif_distrib_H_s_int\n",
    "from utils.distribution_gif import gif_distrib_system_first_eig\n",
    "from utils.plot import plot_basic\n",
    "from utils.plot import plot_with_binning\n",
    "from utils.basic_functions import state_distribution_eig_tot\n",
    "from utils.basic_functions import random_dephasing\n",
    "from utils.basic_functions import get_state_probabilities\n",
    "from utils.basic_functions import position\n",
    "from utils.basic_functions import copy_cat\n",
    "from utils.basic_functions import plot_einselection\n",
    "from utils.overlap import overlap\n",
    "from utils.overlap import gif_schmidt_overlap\n",
    "from utils.interference import interference_plot\n",
    "from utils.expectations import exp_val_time\n",
    "from utils.plot_hamiltonians import plot_hamiltonians\n"
   ]
  },
  {
   "cell_type": "markdown",
   "metadata": {},
   "source": [
    "<img src=\"outputs/temp/unitary_fund_logo.png\" width=\"500\"> <img src=\"outputs/temp/ACL.png\" width=\"361\">\n"
   ]
  },
  {
   "cell_type": "markdown",
   "metadata": {},
   "source": [
    "# Decoherence"
   ]
  },
  {
   "cell_type": "markdown",
   "metadata": {},
   "source": [
    "*The loss of fine tunning in phase relations, caused by interactions.*\n",
    "\n",
    "<ul>\n",
    "  <li>Important for quantum computing: quantum state preservation, scalability, quantum gate fidelity, maximizing cohrence times, hardwar consideration, quantum anealing... </li>\n",
    "  <li>Important in the foundations for quantum mechanics: emergence of classicality (einselection), arrow of time, ...</li>\n",
    "  <li>Still with many open questions: Exact mechanism of decoherence, reversibility and control, impact on fundamental limits (ie measurements precision) </li>\n",
    "</ul>\n",
    "\n",
    "\n",
    "\n",
    "\n"
   ]
  },
  {
   "cell_type": "markdown",
   "metadata": {},
   "source": [
    "<h1/>The ACL model<h1/>"
   ]
  },
  {
   "cell_type": "markdown",
   "metadata": {},
   "source": [
    "The ACL model is model of **decoherence**, adapted from the **Caldeira-Leggett model**. It simplifies it by keeping the strict minimum to achieve decoherence while making it numerically practical. \n",
    "The ACL model, models a Hamiltonian, of the form \n",
    "$$H=\\alpha_s H_{SHO}\\otimes id_e+\\beta X\\otimes H_{int}+\\alpha_e id_s\\otimes H_{e}$$\n",
    "in a Hilbert space composed of a system $\\mathcal{S}$ and an environment $\\mathcal{E}$. <br>\n",
    "\n",
    "It is made of:\n",
    "<ul>\n",
    "  <li>A truncated simple harmonic oscillator (SHO), $H_s=H_{SHO}\\otimes id_e$, with $H_{SHO}=\\hat{a}^{\\dagger}\\hat{a}$.</li>\n",
    "  <li>A maximally scrambling environment $H_e=id_s\\otimes H_r$. </li>\n",
    "  <li>An interaction term $H_I=X\\otimes H^e_I$ and $X$ the position operator. This makes the interaction strenght dependant on the position. </li>\n",
    "</ul>\n",
    "\n",
    "The total Hamiltonian is constant during the whole time evolution, yet it can simulate aparent irreversibility, wavefunction branching, ...\n",
    "\n"
   ]
  },
  {
   "cell_type": "markdown",
   "metadata": {},
   "source": [
    "<h1>Why the ACL?<h1>"
   ]
  },
  {
   "cell_type": "markdown",
   "metadata": {},
   "source": [
    "<ul>\n",
    "  <li>Reproduce the essential features of the CL model and more</li>\n",
    "  <li>Numerical frendly model</li>\n",
    "  <li>Allows for exploration outsie of the limits in which master equations are accurate with purely unitary quantum mechanics. (Phenomena outside of masters equatiosn reach: einselection, fluctuating equilibrium states, AoT and quantum thermodynamics...)</li>\n",
    "  \n",
    "</ul>\n"
   ]
  },
  {
   "cell_type": "markdown",
   "metadata": {},
   "source": [
    "<h1>A very simple decoherence model<h1>"
   ]
  },
  {
   "cell_type": "markdown",
   "metadata": {},
   "source": [
    "While capable of simulating the ACL model, we can already seea lot with an even simpler model\n",
    "$$H=\\alpha_s H_{SHO}\\otimes id_e+\\beta H_{SHO}\\otimes H_{int}+\\alpha_e id_s\\otimes H_{e}$$"
   ]
  },
  {
   "cell_type": "markdown",
   "metadata": {},
   "source": [
    "<h3>And an example of running a simulation<h3>"
   ]
  },
  {
   "cell_type": "code",
   "execution_count": null,
   "metadata": {},
   "outputs": [],
   "source": [
    "d1=10;d2=200;E_s=1; E_s2=0; E_int_s=0; E_int_e=1;E_int_s2=0.06;E_int_e2=0; E_e=1; E_e2=0;w=[0,0,0,np.sqrt(0.3),0,0,0,np.sqrt(0.7),0,0];envi=[0]; tmax= 10; ind_nb = 100;log=0\n",
    "file_name=\"basic_decoherence\"\n",
    "result, tlist, H_list, ket_list, info = time_evo_new(d1,d2,E_s,E_s2,E_int_s,E_int_e,E_int_s2,E_int_e2,E_e,E_e2,w,envi,tmax,ind_nb,log)"
   ]
  },
  {
   "cell_type": "markdown",
   "metadata": {},
   "source": [
    "<h3>Loading results, relevant parameters and getting useful quantities calculated<h3>"
   ]
  },
  {
   "cell_type": "code",
   "execution_count": null,
   "metadata": {},
   "outputs": [],
   "source": [
    "d1, d2, E_s, E_s2, E_int_s, E_int_e, E_int_s2, E_int_e2, E_e, E_e2, w, envi, tmax, ind_nb, log = load_param(file_name)\n",
    "info = list(load_param(file_name))\n",
    "H_list=load_H_list(file_name)\n",
    "result=load_result(file_name)\n",
    "tlist=load_tlist(file_name)\n",
    "\n",
    "eigen = eig(H_list)\n",
    "s_list = compute_schmidt_states_all_time(result, ind_nb)\n",
    "ss_list = s_list[0]\n",
    "se_list= s_list[1]\n",
    "sv_list = s_list[2]\n",
    "s_full_list=s_list[3]"
   ]
  },
  {
   "cell_type": "markdown",
   "metadata": {},
   "source": [
    "<h3>Einselection/Visualizing the collapse <h3>"
   ]
  },
  {
   "cell_type": "code",
   "execution_count": null,
   "metadata": {},
   "outputs": [],
   "source": [
    "gif_path = collapse_gif(eigen, s_list, info)\n",
    "display_gif(gif_path)\n",
    "plot_VN(result,tlist)"
   ]
  },
  {
   "cell_type": "markdown",
   "metadata": {},
   "source": [
    "<h1>A less simple decoherence model<h1>"
   ]
  },
  {
   "cell_type": "markdown",
   "metadata": {},
   "source": [
    "$H=\\alpha_s H_{SHO}\\otimes \\mathbb{1}+\\beta X\\otimes H_{int}+\\alpha_e\\mathbb{1}\\otimes H_{e}$ \n"
   ]
  },
  {
   "cell_type": "markdown",
   "metadata": {},
   "source": [
    "<h3>The strong interaction limit.<h3>\n",
    "\n",
    "$\\alpha_i>>\\beta$, position eigenstates are pointer states"
   ]
  },
  {
   "cell_type": "code",
   "execution_count": null,
   "metadata": {},
   "outputs": [],
   "source": [
    "file_name = \"strong_interaction_limit\"\n",
    "d1, d2, E_s, E_s2, E_int_s, E_int_e, E_int_s2, E_int_e2, E_e, E_e2, envi, tmax, ind_nb, log = load_param(file_name)\n",
    "H_list=load_H_list(file_name)\n",
    "result=load_result(file_name)\n",
    "tlist=load_tlist(file_name)\n",
    "file_name=file_name+\"second\"\n",
    "path=f'../outputs/gifs/rho_s_first_eig_distrib_in_H_int_s_gif_{file_name}.gif'\n",
    "\n",
    "display_gif(path)\n",
    "\n",
    "plot_VN(result,tlist,log)\n",
    "\n",
    "plot_einselection(result,ind_nb,d1)"
   ]
  },
  {
   "cell_type": "markdown",
   "metadata": {},
   "source": [
    "<h3>The weak interaction limit<h3>\n",
    "\n",
    "$\\alpha_i>>\\beta$, SHO eingenstates are pointer states"
   ]
  },
  {
   "cell_type": "code",
   "execution_count": null,
   "metadata": {},
   "outputs": [],
   "source": [
    "file_name = \"weak_interaction_limit\"\n",
    "d1, d2, E_s, E_s2, E_int_s, E_int_e, E_int_s2, E_int_e2, E_e, E_e2, envi, tmax, ind_nb, log = load_param(file_name)\n",
    "H_list=load_H_list(file_name)\n",
    "result=load_result(file_name)\n",
    "tlist=load_tlist(file_name)\n",
    "file_name=file_name+\"second\"\n",
    "path=f'../outputs/gifs/rho_s_first_eig_distrib_in_H_int_s_gif_{file_name}.gif'\n",
    "\n",
    "display_gif(path)\n",
    "\n",
    "plot_VN(result,tlist,log)\n",
    "\n",
    "plot_einselection(result,ind_nb,d1)"
   ]
  },
  {
   "cell_type": "markdown",
   "metadata": {},
   "source": [
    "<h3>The intermediate regime<h3>\n",
    "\n",
    "Where coherent states are pointer states. Harmonic oscillator behavior with a coherent state"
   ]
  },
  {
   "cell_type": "code",
   "execution_count": null,
   "metadata": {},
   "outputs": [],
   "source": [
    "path=\"../outputs/gifs/distrib_in_H_int_s_gif_coherent_state_notebook.gif\"\n",
    "display_gif(path)"
   ]
  },
  {
   "cell_type": "markdown",
   "metadata": {},
   "source": [
    "<h3>Cat states + visible interference<h3>"
   ]
  },
  {
   "cell_type": "code",
   "execution_count": null,
   "metadata": {},
   "outputs": [],
   "source": [
    "path=\"../outputs/gifs/distrib_in_H_int_s_gif_coherent_state_superposition.gif\"\n",
    "display_gif(path)"
   ]
  },
  {
   "cell_type": "markdown",
   "metadata": {},
   "source": [
    "<img src=\"outputs/temp/interference_superposition.jpg\" width=\"1001\">\n"
   ]
  },
  {
   "cell_type": "markdown",
   "metadata": {},
   "source": [
    "<h3>Cat state and einselection<h3>\n",
    "<h5>We plot the top 2 eigenstates of $\\rho_s$<h5>"
   ]
  },
  {
   "cell_type": "code",
   "execution_count": null,
   "metadata": {},
   "outputs": [],
   "source": [
    "file_name = \"coherent_state_decoherence\"\n",
    "\n",
    "d1, d2, E_s, E_s2, E_int_s, E_int_e, E_int_s2, E_int_e2, E_e, E_e2, envi, tmax, ind_nb, log = load_param(file_name)\n",
    "print(d1)\n",
    "info = load_param(file_name)\n",
    "H_list=load_H_list(file_name)\n",
    "result=load_result(file_name)\n",
    "tlist=load_tlist(file_name)\n",
    "\n",
    "eigenenergies1_list=[]\n",
    "eigenenergies2_list=[]\n",
    "for i in range(ind_nb):\n",
    "    rho_s=qt.ptrace(result.states[i], [0])\n",
    "    eigenenergies, eigenstates = rho_s.eigenstates()\n",
    "    eigenenergies1_list.append(eigenenergies[29])\n",
    "    eigenenergies2_list.append(eigenenergies[28])\n",
    "\n",
    "plt.plot(eigenenergies1_list)\n",
    "plt.plot(eigenenergies2_list)\n",
    "plt.xscale('log')\n",
    "\n",
    "\n",
    "path = gif_distrib_system_first_eig(d1,H_list,result,ind_nb, file_name)\n",
    "print(path)\n",
    "display_gif(path)"
   ]
  },
  {
   "cell_type": "markdown",
   "metadata": {},
   "source": [
    "Note the presence of **three regimes**, **decoherence**, **post decoherence**  and **dissipation**. "
   ]
  },
  {
   "cell_type": "markdown",
   "metadata": {},
   "source": [
    "<h3>Entropy<h3>"
   ]
  },
  {
   "cell_type": "code",
   "execution_count": null,
   "metadata": {},
   "outputs": [],
   "source": []
  },
  {
   "cell_type": "code",
   "execution_count": null,
   "metadata": {},
   "outputs": [],
   "source": []
  },
  {
   "cell_type": "code",
   "execution_count": null,
   "metadata": {},
   "outputs": [],
   "source": []
  },
  {
   "cell_type": "code",
   "execution_count": null,
   "metadata": {},
   "outputs": [],
   "source": []
  },
  {
   "cell_type": "code",
   "execution_count": null,
   "metadata": {},
   "outputs": [],
   "source": []
  }
 ],
 "metadata": {
  "kernelspec": {
   "display_name": "Python 3",
   "language": "python",
   "name": "python3"
  },
  "language_info": {
   "codemirror_mode": {
    "name": "ipython",
    "version": 3
   },
   "file_extension": ".py",
   "mimetype": "text/x-python",
   "name": "python",
   "nbconvert_exporter": "python",
   "pygments_lexer": "ipython3",
   "version": "3.11.7"
  }
 },
 "nbformat": 4,
 "nbformat_minor": 2
}
