{
 "cells": [
  {
   "cell_type": "code",
   "execution_count": 1,
   "metadata": {},
   "outputs": [],
   "source": [
    "import sys\n",
    "import os\n",
    "\n",
    "# modify syspath directory to sys.path\n",
    "\n",
    "package_path = os.path.abspath(os.path.join('..','core'))\n",
    "if package_path not in sys.path:\n",
    "    sys.path.append(package_path)\n",
    "\n",
    "package_path = os.path.abspath(os.path.join('..','utils'))\n",
    "if package_path not in sys.path:\n",
    "    sys.path.append(package_path)\n",
    "\n",
    "package_path = os.path.abspath(os.path.join('..'))\n",
    "if package_path not in sys.path:\n",
    "    sys.path.append(package_path)\n",
    "\n",
    "import numpy as np\n",
    "import qutip as qt\n",
    "import math\n",
    "import matplotlib.pyplot as plt\n",
    "\n",
    "from IPython.display import HTML # both needed to disply gifs\n",
    "from PIL import Image\n",
    "\n",
    "# Import modules from the package\n",
    "from core import create_hamiltonian as ch\n",
    "from core import create_state as cs\n",
    "from core import create_coherent_state\n",
    "from core import time_evo\n",
    "from core import time_evo_new\n",
    "from core import time_evo_from_state\n",
    "from core import load_param\n",
    "from core import load_H_list\n",
    "from core import load_result\n",
    "from core import load_tlist\n",
    "from core import operators\n",
    "from core.schmidt_solve import compute_schmidt_states_all_time\n",
    "from core.eigen_ener_states import eigen_ener_states as eig\n",
    "from core import annihilation_operator\n",
    "from utils.entropy import compute_VN, plot_VN, compute_VN_time\n",
    "from utils import collapse_gif\n",
    "from utils.collapse_gif import collapse_gif\n",
    "from utils.display_gif import display_gif\n",
    "from utils.distribution_gif import gif_distribution_eig_total\n",
    "from utils.distribution_gif import prob_gif\n",
    "from utils.distribution_gif import gif_distrib_H_s_int\n",
    "from utils.distribution_gif import gif_distrib_system_first_eig\n",
    "from utils.plot import plot_basic\n",
    "from utils.plot import plot_with_binning\n",
    "from utils.basic_functions import state_distribution_eig_tot\n",
    "from utils.basic_functions import random_dephasing\n",
    "from utils.basic_functions import get_state_probabilities\n",
    "from utils.basic_functions import position\n",
    "from utils.overlap import overlap\n",
    "from utils.overlap import gif_schmidt_overlap\n",
    "from utils.interference import interference_plot\n",
    "from utils.expectations import exp_val_time\n",
    "from utils.plot_hamiltonians import plot_hamiltonians\n",
    "\n"
   ]
  },
  {
   "cell_type": "code",
   "execution_count": 63,
   "metadata": {},
   "outputs": [],
   "source": [
    "d1=30;d2=100;E_s=1; E_s2=0; E_int_s=0.4; E_int_e=0.7;E_int_s2=0;E_int_e2=0; E_e=4; E_e2=0;envi=[0]; tmax= 20; ind_nb = 60;log=0\n",
    "file_name = \"coherent_state_long_space\"\n",
    "# Running the simulation and running the core functions\n",
    "coherent_state=create_coherent_state(d1)\n",
    "\n",
    "\n",
    "result, tlist, H_list, state, info = time_evo_from_state(coherent_state,d1,d2,E_s,E_s2,E_int_s,E_int_e,E_int_s2,E_int_e2,E_e,E_e2,envi,tmax,ind_nb,log,file_name)\n",
    "\n",
    "#making E_int_s makes the space larger. But it also makes the wavefunction less stable. You can solve that by making E_e larger.\n"
   ]
  },
  {
   "cell_type": "code",
   "execution_count": 64,
   "metadata": {},
   "outputs": [],
   "source": [
    "\n",
    "d1, d2, E_s, E_s2, E_int_s, E_int_e, E_int_s2, E_int_e2, E_e, E_e2, envi, tmax, ind_nb, log = load_param(file_name)\n",
    "info = load_param(file_name)\n",
    "H_list=load_H_list(file_name)\n",
    "result=load_result(file_name)\n",
    "tlist=load_tlist(file_name)"
   ]
  },
  {
   "cell_type": "code",
   "execution_count": 65,
   "metadata": {},
   "outputs": [
    {
     "data": {
      "text/html": [
       "<img src=\"../outputs/gifs/distrib_in_H_int_s_gif_coherent_state_long_space.gif\">"
      ],
      "text/plain": [
       "<IPython.core.display.HTML object>"
      ]
     },
     "metadata": {},
     "output_type": "display_data"
    }
   ],
   "source": [
    "path=gif_distrib_H_s_int(d1,H_list,result,ind_nb,file_name)\n",
    "display_gif(path)"
   ]
  },
  {
   "cell_type": "code",
   "execution_count": 6,
   "metadata": {},
   "outputs": [],
   "source": [
    "d1=30;d2=300;E_s=2; E_s2=0; E_int_s=0.1; E_int_e=0.7;E_int_s2=0;E_int_e2=0; E_e=1; E_e2=0;envi=[0]; tmax= 40; ind_nb = 60;log=0\n",
    "file_name = \"coherent_state2\"\n",
    "# Running the simulation and running the core functions\n",
    "coherent_state=create_coherent_state(d1)\n",
    "\n",
    "\n",
    "result, tlist, H_list, state, info = time_evo_from_state(coherent_state,d1,d2,E_s,E_s2,E_int_s,E_int_e,E_int_s2,E_int_e2,E_e,E_e2,envi,tmax,ind_nb,log,file_name)\n",
    "\n",
    "d1, d2, E_s, E_s2, E_int_s, E_int_e, E_int_s2, E_int_e2, E_e, E_e2, envi, tmax, ind_nb, log = load_param(file_name)\n",
    "info = load_param(file_name)\n",
    "H_list=load_H_list(file_name)\n",
    "result=load_result(file_name)\n",
    "tlist=load_tlist(file_name)"
   ]
  },
  {
   "cell_type": "code",
   "execution_count": 7,
   "metadata": {},
   "outputs": [
    {
     "data": {
      "text/html": [
       "<img src=\"../outputs/gifs/distrib_in_H_int_s_gif_coherent_state2.gif\">"
      ],
      "text/plain": [
       "<IPython.core.display.HTML object>"
      ]
     },
     "metadata": {},
     "output_type": "display_data"
    }
   ],
   "source": [
    "path=gif_distrib_H_s_int(d1,H_list,result,ind_nb,file_name)\n",
    "display_gif(path)"
   ]
  },
  {
   "cell_type": "code",
   "execution_count": 8,
   "metadata": {},
   "outputs": [],
   "source": [
    "d1=30;d2=300;E_s=1; E_s2=0; E_int_s=0.1; E_int_e=0.7;E_int_s2=0;E_int_e2=0; E_e=2; E_e2=0;envi=[0]; tmax= 40; ind_nb = 60;log=0\n",
    "file_name = \"coherent_state3\"\n",
    "# Running the simulation and running the core functions\n",
    "coherent_state=create_coherent_state(d1)\n",
    "\n",
    "\n",
    "result, tlist, H_list, state, info = time_evo_from_state(coherent_state,d1,d2,E_s,E_s2,E_int_s,E_int_e,E_int_s2,E_int_e2,E_e,E_e2,envi,tmax,ind_nb,log,file_name)\n",
    "\n",
    "d1, d2, E_s, E_s2, E_int_s, E_int_e, E_int_s2, E_int_e2, E_e, E_e2, envi, tmax, ind_nb, log = load_param(file_name)\n",
    "info = load_param(file_name)\n",
    "H_list=load_H_list(file_name)\n",
    "result=load_result(file_name)\n",
    "tlist=load_tlist(file_name)"
   ]
  },
  {
   "cell_type": "code",
   "execution_count": 9,
   "metadata": {},
   "outputs": [
    {
     "data": {
      "text/html": [
       "<img src=\"../outputs/gifs/distrib_in_H_int_s_gif_coherent_state3.gif\">"
      ],
      "text/plain": [
       "<IPython.core.display.HTML object>"
      ]
     },
     "metadata": {},
     "output_type": "display_data"
    }
   ],
   "source": [
    "path=gif_distrib_H_s_int(d1,H_list,result,ind_nb,file_name)\n",
    "display_gif(path)"
   ]
  },
  {
   "cell_type": "code",
   "execution_count": 10,
   "metadata": {},
   "outputs": [],
   "source": [
    "d1=30;d2=300;E_s=0.5; E_s2=0; E_int_s=0.1; E_int_e=0.7;E_int_s2=0;E_int_e2=0; E_e=1; E_e2=0;envi=[0]; tmax= 40; ind_nb = 60;log=0\n",
    "file_name = \"coherent_state4\"\n",
    "# Running the simulation and running the core functions\n",
    "coherent_state=create_coherent_state(d1)\n",
    "\n",
    "\n",
    "result, tlist, H_list, state, info = time_evo_from_state(coherent_state,d1,d2,E_s,E_s2,E_int_s,E_int_e,E_int_s2,E_int_e2,E_e,E_e2,envi,tmax,ind_nb,log,file_name)\n",
    "\n",
    "d1, d2, E_s, E_s2, E_int_s, E_int_e, E_int_s2, E_int_e2, E_e, E_e2, envi, tmax, ind_nb, log = load_param(file_name)\n",
    "info = load_param(file_name)\n",
    "H_list=load_H_list(file_name)\n",
    "result=load_result(file_name)\n",
    "tlist=load_tlist(file_name)"
   ]
  },
  {
   "cell_type": "code",
   "execution_count": 11,
   "metadata": {},
   "outputs": [
    {
     "data": {
      "text/html": [
       "<img src=\"../outputs/gifs/distrib_in_H_int_s_gif_coherent_state4.gif\">"
      ],
      "text/plain": [
       "<IPython.core.display.HTML object>"
      ]
     },
     "metadata": {},
     "output_type": "display_data"
    }
   ],
   "source": [
    "path=gif_distrib_H_s_int(d1,H_list,result,ind_nb,file_name)\n",
    "display_gif(path)"
   ]
  },
  {
   "cell_type": "code",
   "execution_count": 12,
   "metadata": {},
   "outputs": [],
   "source": [
    "d1=30;d2=300;E_s=0.2; E_s2=0; E_int_s=0.1; E_int_e=0.7;E_int_s2=0;E_int_e2=0; E_e=1; E_e2=0;envi=[0]; tmax= 40; ind_nb = 60;log=0\n",
    "file_name = \"coherent_state5\"\n",
    "# Running the simulation and running the core functions\n",
    "coherent_state=create_coherent_state(d1)\n",
    "\n",
    "\n",
    "result, tlist, H_list, state, info = time_evo_from_state(coherent_state,d1,d2,E_s,E_s2,E_int_s,E_int_e,E_int_s2,E_int_e2,E_e,E_e2,envi,tmax,ind_nb,log,file_name)\n",
    "\n",
    "d1, d2, E_s, E_s2, E_int_s, E_int_e, E_int_s2, E_int_e2, E_e, E_e2, envi, tmax, ind_nb, log = load_param(file_name)\n",
    "info = load_param(file_name)\n",
    "H_list=load_H_list(file_name)\n",
    "result=load_result(file_name)\n",
    "tlist=load_tlist(file_name)"
   ]
  },
  {
   "cell_type": "code",
   "execution_count": 13,
   "metadata": {},
   "outputs": [
    {
     "data": {
      "text/html": [
       "<img src=\"../outputs/gifs/distrib_in_H_int_s_gif_coherent_state5.gif\">"
      ],
      "text/plain": [
       "<IPython.core.display.HTML object>"
      ]
     },
     "metadata": {},
     "output_type": "display_data"
    }
   ],
   "source": [
    "path=gif_distrib_H_s_int(d1,H_list,result,ind_nb,file_name)\n",
    "display_gif(path)"
   ]
  },
  {
   "cell_type": "code",
   "execution_count": 16,
   "metadata": {},
   "outputs": [],
   "source": [
    "d1=30;d2=300;E_s=1; E_s2=0; E_int_s=0.1; E_int_e=0.7;E_int_s2=0;E_int_e2=0; E_e=3; E_e2=0;envi=[0]; tmax= 40; ind_nb = 60;log=0\n",
    "file_name = \"coherent_state6\"\n",
    "# Running the simulation and running the core functions\n",
    "coherent_state=create_coherent_state(d1)\n",
    "\n",
    "\n",
    "result, tlist, H_list, state, info = time_evo_from_state(coherent_state,d1,d2,E_s,E_s2,E_int_s,E_int_e,E_int_s2,E_int_e2,E_e,E_e2,envi,tmax,ind_nb,log,file_name)\n",
    "\n",
    "d1, d2, E_s, E_s2, E_int_s, E_int_e, E_int_s2, E_int_e2, E_e, E_e2, envi, tmax, ind_nb, log = load_param(file_name)\n",
    "info = load_param(file_name)\n",
    "H_list=load_H_list(file_name)\n",
    "result=load_result(file_name)\n",
    "tlist=load_tlist(file_name)"
   ]
  },
  {
   "cell_type": "code",
   "execution_count": 17,
   "metadata": {},
   "outputs": [
    {
     "data": {
      "text/html": [
       "<img src=\"../outputs/gifs/distrib_in_H_int_s_gif_coherent_state6.gif\">"
      ],
      "text/plain": [
       "<IPython.core.display.HTML object>"
      ]
     },
     "metadata": {},
     "output_type": "display_data"
    }
   ],
   "source": [
    "path=gif_distrib_H_s_int(d1,H_list,result,ind_nb,file_name)\n",
    "display_gif(path)"
   ]
  },
  {
   "cell_type": "code",
   "execution_count": null,
   "metadata": {},
   "outputs": [],
   "source": [
    "d1=30;d2=300;E_s=1; E_s2=0; E_int_s=0.05; E_int_e=0.7;E_int_s2=0;E_int_e2=0; E_e=3; E_e2=0;envi=[0]; tmax= 22; ind_nb = 100;log=0\n",
    "file_name = \"coherent_state_notebook\"\n",
    "# Running the simulation and running the core functions\n",
    "coherent_state=create_coherent_state(d1)\n",
    "\n",
    "\n",
    "result, tlist, H_list, state, info = time_evo_from_state(coherent_state,d1,d2,E_s,E_s2,E_int_s,E_int_e,E_int_s2,E_int_e2,E_e,E_e2,envi,tmax,ind_nb,log,file_name)\n",
    "\n",
    "d1, d2, E_s, E_s2, E_int_s, E_int_e, E_int_s2, E_int_e2, E_e, E_e2, envi, tmax, ind_nb, log = load_param(file_name)\n",
    "info = load_param(file_name)\n",
    "H_list=load_H_list(file_name)\n",
    "result=load_result(file_name)\n",
    "tlist=load_tlist(file_name)"
   ]
  },
  {
   "cell_type": "code",
   "execution_count": null,
   "metadata": {},
   "outputs": [
    {
     "data": {
      "text/html": [
       "<img src=\"../outputs/gifs/distrib_in_H_int_s_gif_coherent_state_notebook.gif\">"
      ],
      "text/plain": [
       "<IPython.core.display.HTML object>"
      ]
     },
     "metadata": {},
     "output_type": "display_data"
    }
   ],
   "source": [
    "path=gif_distrib_H_s_int(d1,H_list,result,ind_nb,file_name)\n",
    "display_gif(path)"
   ]
  },
  {
   "cell_type": "markdown",
   "metadata": {},
   "source": [
    "<h3>Having fun and doing a wavepacket superposition<h3>"
   ]
  },
  {
   "cell_type": "code",
   "execution_count": 2,
   "metadata": {},
   "outputs": [
    {
     "data": {
      "text/html": [
       "<img src=\"../outputs/gifs/distrib_in_H_int_s_gif_coherent_state_superposition.gif\">"
      ],
      "text/plain": [
       "<IPython.core.display.HTML object>"
      ]
     },
     "metadata": {},
     "output_type": "display_data"
    }
   ],
   "source": [
    "d1=50;d2=300;E_s=1; E_s2=0; E_int_s=0.05; E_int_e=0.7;E_int_s2=0;E_int_e2=0; E_e=3; E_e2=0;envi=[0]; tmax= 20; ind_nb = 100;log=0\n",
    "file_name = \"coherent_state_superposition\"\n",
    "# Running the simulation and running the core functions\n",
    "coherent_state1=2*create_coherent_state(d1,-3)\n",
    "coherent_state2=create_coherent_state(d1,3)\n",
    "coherent_state=(coherent_state1+coherent_state2).unit()\n",
    "\n",
    "result, tlist, H_list, state, info = time_evo_from_state(coherent_state,d1,d2,E_s,E_s2,E_int_s,E_int_e,E_int_s2,E_int_e2,E_e,E_e2,envi,tmax,ind_nb,log,file_name)\n",
    "\n",
    "d1, d2, E_s, E_s2, E_int_s, E_int_e, E_int_s2, E_int_e2, E_e, E_e2, envi, tmax, ind_nb, log = load_param(file_name)\n",
    "info = load_param(file_name)\n",
    "H_list=load_H_list(file_name)\n",
    "result=load_result(file_name)\n",
    "tlist=load_tlist(file_name)\n",
    "\n",
    "path=gif_distrib_H_s_int(d1,H_list,result,ind_nb,file_name)\n",
    "display_gif(path)"
   ]
  },
  {
   "cell_type": "code",
   "execution_count": 3,
   "metadata": {},
   "outputs": [
    {
     "data": {
      "text/html": [
       "<img src=\"../outputs/gifs/distrib_in_H_int_s_gif_coherent_state_decoherence.gif\">"
      ],
      "text/plain": [
       "<IPython.core.display.HTML object>"
      ]
     },
     "metadata": {},
     "output_type": "display_data"
    }
   ],
   "source": [
    "d1=30;d2=300;E_s=0.5; E_s2=0; E_int_s=0.05; E_int_e=0.7;E_int_s2=0;E_int_e2=0; E_e=3; E_e2=0;envi=[0]; tmax= 20; ind_nb = 40;log=1\n",
    "file_name = \"coherent_state_decoherence\"\n",
    "# Running the simulation and running the core functions\n",
    "coherent_state1=2*create_coherent_state(d1,-3)\n",
    "coherent_state2=create_coherent_state(d1,3)\n",
    "coherent_state=(coherent_state1+coherent_state2).unit()\n",
    "\n",
    "result, tlist, H_list, state, info = time_evo_from_state(coherent_state,d1,d2,E_s,E_s2,E_int_s,E_int_e,E_int_s2,E_int_e2,E_e,E_e2,envi,tmax,ind_nb,log,file_name)\n",
    "\n",
    "d1, d2, E_s, E_s2, E_int_s, E_int_e, E_int_s2, E_int_e2, E_e, E_e2, envi, tmax, ind_nb, log = load_param(file_name)\n",
    "info = load_param(file_name)\n",
    "H_list=load_H_list(file_name)\n",
    "result=load_result(file_name)\n",
    "tlist=load_tlist(file_name)\n",
    "\n",
    "path=gif_distrib_H_s_int(d1,H_list,result,ind_nb,file_name)\n",
    "display_gif(path)"
   ]
  },
  {
   "cell_type": "code",
   "execution_count": 4,
   "metadata": {},
   "outputs": [],
   "source": [
    "#We want to remove the osciollation. TO do that I set E_s=0 and see what happens. \n",
    "#It is very wherird that the position in the plot "
   ]
  },
  {
   "cell_type": "code",
   "execution_count": 6,
   "metadata": {},
   "outputs": [
    {
     "name": "stderr",
     "output_type": "stream",
     "text": [
      "/usr/local/lib/python3.11/site-packages/matplotlib/cbook.py:1699: ComplexWarning: Casting complex values to real discards the imaginary part\n",
      "  return math.isfinite(val)\n",
      "/usr/local/lib/python3.11/site-packages/matplotlib/cbook.py:1345: ComplexWarning: Casting complex values to real discards the imaginary part\n",
      "  return np.asarray(x, float)\n"
     ]
    },
    {
     "data": {
      "text/html": [
       "<img src=\"../outputs/gifs/rho_s_first_eig_distrib_in_H_int_s_gif_coherent_state_decoherence.gif\">"
      ],
      "text/plain": [
       "<IPython.core.display.HTML object>"
      ]
     },
     "metadata": {},
     "output_type": "display_data"
    },
    {
     "data": {
      "image/png": "[encoded data removed]",
      "text/plain": [
       "<Figure size 1000x200 with 1 Axes>"
      ]
     },
     "metadata": {},
     "output_type": "display_data"
    }
   ],
   "source": [
    "file_name = \"coherent_state_decoherence\"\n",
    "\n",
    "d1, d2, E_s, E_s2, E_int_s, E_int_e, E_int_s2, E_int_e2, E_e, E_e2, envi, tmax, ind_nb, log = load_param(file_name)\n",
    "info = load_param(file_name)\n",
    "H_list=load_H_list(file_name)\n",
    "result=load_result(file_name)\n",
    "tlist=load_tlist(file_name)\n",
    "\n",
    "plot_VN(result,tlist)\n",
    "\n",
    "from utils.distribution_gif import gif_distrib_system_first_eig\n",
    "path = gif_distrib_system_first_eig(d1,H_list,result,ind_nb, file_name)\n",
    "display_gif(path)"
   ]
  },
  {
   "cell_type": "markdown",
   "metadata": {},
   "source": []
  },
  {
   "cell_type": "markdown",
   "metadata": {},
   "source": []
  },
  {
   "cell_type": "code",
   "execution_count": null,
   "metadata": {},
   "outputs": [],
   "source": []
  },
  {
   "cell_type": "markdown",
   "metadata": {},
   "source": []
  },
  {
   "cell_type": "code",
   "execution_count": null,
   "metadata": {},
   "outputs": [],
   "source": []
  },
  {
   "cell_type": "code",
   "execution_count": null,
   "metadata": {},
   "outputs": [],
   "source": []
  },
  {
   "cell_type": "code",
   "execution_count": 7,
   "metadata": {},
   "outputs": [],
   "source": [
    "d1=30;d2=300;E_s=1; E_s2=0; E_int_s=0.05; E_int_e=0.7;E_int_s2=0;E_int_e2=0; E_e=3; E_e2=0;envi=[0]; tmax= 22; ind_nb = 100;log=0\n",
    "file_name = \"coherent_state_notebook\"\n",
    "\n",
    "d1, d2, E_s, E_s2, E_int_s, E_int_e, E_int_s2, E_int_e2, E_e, E_e2, envi, tmax, ind_nb, log = load_param(file_name)\n",
    "info = load_param(file_name)\n",
    "H_list=load_H_list(file_name)\n",
    "result=load_result(file_name)\n",
    "tlist=load_tlist(file_name)"
   ]
  },
  {
   "cell_type": "code",
   "execution_count": 14,
   "metadata": {},
   "outputs": [
    {
     "data": {
      "text/plain": [
       "[<matplotlib.lines.Line2D at 0x133f4f050>]"
      ]
     },
     "execution_count": 14,
     "metadata": {},
     "output_type": "execute_result"
    },
    {
     "data": {
      "image/png": "[encoded data removed]",
      "text/plain": [
       "<Figure size 640x480 with 1 Axes>"
      ]
     },
     "metadata": {},
     "output_type": "display_data"
    }
   ],
   "source": [
    "coherent_state1=create_coherent_state(d1,-3)\n",
    "#make the state into an operator.    \n",
    "coherent_state1_density=coherent_state1*coherent_state1.dag()\n",
    "x1,eig_energ_int=position(d1,H_list,coherent_state1_density)\n",
    "plt.plot(x1,eig_energ_int)\n",
    "coherent_state2=create_coherent_state(d1,3)\n",
    "coherent_state2_density=coherent_state2*coherent_state2.dag()\n",
    "x2,eig_energ_int=position(d1,H_list,coherent_state2_density)\n",
    "plt.plot(x2,eig_energ_int)"
   ]
  },
  {
   "cell_type": "code",
   "execution_count": null,
   "metadata": {},
   "outputs": [],
   "source": []
  },
  {
   "cell_type": "code",
   "execution_count": null,
   "metadata": {},
   "outputs": [],
   "source": [
    "d1=30;d2=300;E_s=1; E_s2=0; E_int_s=0.5; E_int_e=0.7;E_int_s2=0;E_int_e2=0; E_e=1; E_e2=0;w=[0,0,0,0,0,0,0,0,0,0,0,0,0,1,0,0,0,0,0,0,0,0,0,0,0,0,0,0,0,0];envi=[0]; tmax= 100; ind_nb = 200;log=1\n",
    "file_name = \"coherent_state\"\n",
    "# Running the simulation and running the core functions\n",
    "result, tlist, H_list, ket_list, info = time_evo_new(d1,d2,E_s,E_s2,E_int_s,E_int_e,E_int_s2,E_int_e2,E_e,E_e2,w,envi,tmax,ind_nb,log,file_name)\n",
    "\n",
    "d1, d2, E_s, E_s2, E_int_s, E_int_e, E_int_s2, E_int_e2, E_e, E_e2, w, envi, tmax, ind_nb, log = load_param(file_name)\n",
    "info = load_param(file_name)\n",
    "H_list=load_H_list(file_name)\n",
    "result=load_result(file_name)\n",
    "tlist=load_tlist(file_name)"
   ]
  },
  {
   "cell_type": "code",
   "execution_count": null,
   "metadata": {},
   "outputs": [],
   "source": [
    "a = annihilation_operator(d1)\n",
    "a_dag = a.conj().T"
   ]
  },
  {
   "cell_type": "code",
   "execution_count": null,
   "metadata": {},
   "outputs": [
    {
     "ename": "NameError",
     "evalue": "name 'a' is not defined",
     "output_type": "error",
     "traceback": [
      "\u001b[0;31m---------------------------------------------------------------------------\u001b[0m",
      "\u001b[0;31mNameError\u001b[0m                                 Traceback (most recent call last)",
      "Cell \u001b[0;32mIn[23], line 5\u001b[0m\n\u001b[1;32m      1\u001b[0m \u001b[38;5;28;01mfrom\u001b[39;00m \u001b[38;5;21;01mscipy\u001b[39;00m\u001b[38;5;21;01m.\u001b[39;00m\u001b[38;5;21;01mlinalg\u001b[39;00m \u001b[38;5;28;01mimport\u001b[39;00m expm\n\u001b[1;32m      3\u001b[0m H_int_s\u001b[38;5;241m=\u001b[39mH_list[\u001b[38;5;241m6\u001b[39m]\n\u001b[0;32m----> 5\u001b[0m a_qobj \u001b[38;5;241m=\u001b[39m qt\u001b[38;5;241m.\u001b[39mQobj(\u001b[43ma\u001b[49m)\n\u001b[1;32m      6\u001b[0m eig_ener_a,eig_states_a\u001b[38;5;241m=\u001b[39ma_qobj\u001b[38;5;241m.\u001b[39meigenstates()\n\u001b[1;32m      7\u001b[0m unic_eig\u001b[38;5;241m=\u001b[39meig_states_a[\u001b[38;5;241m0\u001b[39m]\u001b[38;5;241m.\u001b[39mfull()\n",
      "\u001b[0;31mNameError\u001b[0m: name 'a' is not defined"
     ]
    }
   ],
   "source": [
    "from scipy.linalg import expm\n",
    "\n",
    "H_int_s=H_list[6]\n",
    "\n",
    "a_qobj = qt.Qobj(a)\n",
    "eig_ener_a,eig_states_a=a_qobj.eigenstates()\n",
    "unic_eig=eig_states_a[0].full()\n",
    "\n",
    "eig_ener_self,eig_sta_self = H_s_self.eigenstates()\n",
    "eig_energ_int,eig_sta_int = H_int_s.eigenstates()\n",
    "alpha=(1j)\n",
    "C=expm(alpha*a-alpha.conjugate()*a_dag)\n",
    "coherent_state = np.dot(C,unic_eig)\n",
    "plt.imshow(np.abs(C))\n",
    "weight = []\n",
    "for i in range(d1):\n",
    "    weight.append(np.abs(np.vdot(coherent_state,eig_sta_int[i])))\n",
    "plt.plot(weight)\n"
   ]
  },
  {
   "cell_type": "code",
   "execution_count": null,
   "metadata": {},
   "outputs": [
    {
     "data": {
      "text/plain": [
       "[<matplotlib.lines.Line2D at 0x138443590>]"
      ]
     },
     "execution_count": 129,
     "metadata": {},
     "output_type": "execute_result"
    },
    {
     "data": {
      "image/png": "[encoded data removed]",
      "text/plain": [
       "<Figure size 640x480 with 1 Axes>"
      ]
     },
     "metadata": {},
     "output_type": "display_data"
    }
   ],
   "source": [
    "alpha=(1)\n",
    "C=expm(alpha*a-alpha.conjugate()*a_dag)\n",
    "coherent_state = np.dot(C,unic_eig)\n",
    "weight = []\n",
    "for i in range(d1):\n",
    "    weight.append(np.abs(np.vdot(coherent_state,eig_sta_int[i])))\n",
    "plt.plot(weight)"
   ]
  },
  {
   "cell_type": "code",
   "execution_count": null,
   "metadata": {},
   "outputs": [],
   "source": []
  },
  {
   "cell_type": "code",
   "execution_count": null,
   "metadata": {},
   "outputs": [],
   "source": [
    "#exploring the alternative of jsut finding the eigenstate of the annihilation operator.\n",
    "\n"
   ]
  },
  {
   "cell_type": "code",
   "execution_count": 122,
   "metadata": {},
   "outputs": [
    {
     "name": "stdout",
     "output_type": "stream",
     "text": [
      "[[1.+0.j]\n",
      " [0.+0.j]\n",
      " [0.+0.j]\n",
      " [0.+0.j]\n",
      " [0.+0.j]\n",
      " [0.+0.j]\n",
      " [0.+0.j]\n",
      " [0.+0.j]\n",
      " [0.+0.j]\n",
      " [0.+0.j]\n",
      " [0.+0.j]\n",
      " [0.+0.j]\n",
      " [0.+0.j]\n",
      " [0.+0.j]\n",
      " [0.+0.j]\n",
      " [0.+0.j]\n",
      " [0.+0.j]\n",
      " [0.+0.j]\n",
      " [0.+0.j]\n",
      " [0.+0.j]\n",
      " [0.+0.j]\n",
      " [0.+0.j]\n",
      " [0.+0.j]\n",
      " [0.+0.j]\n",
      " [0.+0.j]\n",
      " [0.+0.j]\n",
      " [0.+0.j]\n",
      " [0.+0.j]\n",
      " [0.+0.j]\n",
      " [0.+0.j]]\n"
     ]
    }
   ],
   "source": [
    "\n",
    "print(unic_eig)\n",
    "#unic_eig=[0,0,0,0,0,0,0,0,0,0,0,0,0,0,0,0,0,0,0,0,0,0,0,0,0,0,0,0,0,0]"
   ]
  },
  {
   "cell_type": "code",
   "execution_count": 123,
   "metadata": {},
   "outputs": [
    {
     "data": {
      "text/plain": [
       "[<matplotlib.lines.Line2D at 0x13824ff10>]"
      ]
     },
     "execution_count": 123,
     "metadata": {},
     "output_type": "execute_result"
    },
    {
     "data": {
      "image/png": "[encoded data removed]",
      "text/plain": [
       "<Figure size 640x480 with 1 Axes>"
      ]
     },
     "metadata": {},
     "output_type": "display_data"
    }
   ],
   "source": [
    "weight = []\n",
    "for i in range(d1):\n",
    "    weight.append(np.abs(np.vdot(unic_eig,eig_sta_int[i])))\n",
    "plt.plot(weight)\n"
   ]
  },
  {
   "cell_type": "code",
   "execution_count": null,
   "metadata": {},
   "outputs": [],
   "source": []
  },
  {
   "cell_type": "code",
   "execution_count": null,
   "metadata": {},
   "outputs": [],
   "source": []
  },
  {
   "cell_type": "code",
   "execution_count": null,
   "metadata": {},
   "outputs": [],
   "source": []
  },
  {
   "cell_type": "code",
   "execution_count": null,
   "metadata": {},
   "outputs": [],
   "source": [
    "\n"
   ]
  },
  {
   "cell_type": "code",
   "execution_count": null,
   "metadata": {},
   "outputs": [],
   "source": []
  },
  {
   "cell_type": "code",
   "execution_count": null,
   "metadata": {},
   "outputs": [],
   "source": []
  },
  {
   "cell_type": "code",
   "execution_count": null,
   "metadata": {},
   "outputs": [],
   "source": []
  }
 ],
 "metadata": {
  "kernelspec": {
   "display_name": "Python 3",
   "language": "python",
   "name": "python3"
  },
  "language_info": {
   "codemirror_mode": {
    "name": "ipython",
    "version": 3
   },
   "file_extension": ".py",
   "mimetype": "text/x-python",
   "name": "python",
   "nbconvert_exporter": "python",
   "pygments_lexer": "ipython3",
   "version": "3.11.7"
  }
 },
 "nbformat": 4,
 "nbformat_minor": 2
}
