{
 "cells": [
  {
   "cell_type": "markdown",
   "metadata": {},
   "source": [
    "<img src=\"outputs/temp/unitary_fund_logo.png\" width=\"500\"> <img src=\"outputs/temp/ACL.png\" width=\"361\">"
   ]
  },
  {
   "cell_type": "markdown",
   "metadata": {},
   "source": [
    "<h1>More about the project"
   ]
  },
  {
   "cell_type": "markdown",
   "metadata": {},
   "source": [
    "Specifically in the code, with parameter in green, the model takes the following form allowing for stuies beyond the ACL model,\n",
    "$$H = H_s + H_{int} + H_e = H_{s\\_ self} \\otimes id + H_{int\\_ s} \\otimes H_{int\\_ e} + id \\otimes H_{e\\_ self}$$\n",
    "$$ = [{\\color{ForestGreen}E_s} \\otimes \\sum_i\\hat{a}^{\\dagger}\\hat{a})\\otimes id_e + {\\color{ForestGreen}E_{s2}} \\otimes id_s\\otimes id_e ] + [{\\color{ForestGreen}(E_{int\\_ s}} \\otimes \\sum_i \\hat{q}_i + {\\color{ForestGreen}E_{int\\_ s2}} \\otimes diag(i)) \\otimes ({\\color{ForestGreen}E_{int\\_ e}} \\otimes rd(d_2) + {\\color{ForestGreen}E_{int\\_ e2}} \\otimes id_e)] + [id_s \\otimes ({\\color{ForestGreen}E_e} \\otimes H_{e\\_ self} + {\\color{ForestGreen}E_{e2}} \\otimes id_e)]$$"
   ]
  },
  {
   "cell_type": "markdown",
   "metadata": {},
   "source": [
    "<h1>Architechture philosophy:"
   ]
  },
  {
   "cell_type": "markdown",
   "metadata": {},
   "source": [
    "<ul>\n",
    "  <li>Simplicity: Functions all take the same general inputs, and sift through them, ie do the work</li>\n",
    "  <li>Consistency: Parameter order the same in inputs and outputs + consistent naming convention.</li>\n",
    "  <li>Result storage: store's simulation results as well as hard to compute objects (Eigenstructure/Schmidt states)</li>\n",
    "  <li>Extensibility/configurability: Easy to add/modify features</li>\n",
    "  <li>Modularity: Each function performs a single task (modularity)</li>\n",
    "</ul>\n"
   ]
  },
  {
   "cell_type": "markdown",
   "metadata": {},
   "source": [
    "<h1>Next steps<h1>"
   ]
  },
  {
   "cell_type": "markdown",
   "metadata": {},
   "source": [
    "<h3>\n",
    "\n",
    "-Using the model to continue exploratory work and produce  a paper\n",
    "\n",
    "-Use to make educational notebooks on decoherence.\n",
    "\n",
    "-Pointer state searching function (main lacking core function), documentation, work on robustness (ie error handling), optimization, quality of life improvement/cleaning up...\n",
    "\n",
    "-Make into a Python package.\n",
    "\n",
    "-Make educational notebooks on decoherence, using this package\n"
   ]
  },
  {
   "cell_type": "markdown",
   "metadata": {},
   "source": [
    "<h1>Thanks you!<h1>"
   ]
  },
  {
   "cell_type": "markdown",
   "metadata": {},
   "source": [
    "You can find a list of current work using the ACL model on https://inspirehep.net/literature?sort=mostrecent&size=25&page=1&q=refersto%3Arecid%3A1870498"
   ]
  },
  {
   "cell_type": "markdown",
   "metadata": {},
   "source": [
    "Conclusions, complete, make into package, use to make educational notebooks"
   ]
  },
  {
   "cell_type": "markdown",
   "metadata": {},
   "source": []
  }
 ],
 "metadata": {
  "language_info": {
   "name": "python"
  }
 },
 "nbformat": 4,
 "nbformat_minor": 2
}
