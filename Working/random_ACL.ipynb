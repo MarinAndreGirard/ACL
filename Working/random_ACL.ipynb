{
 "cells": [
  {
   "cell_type": "code",
   "execution_count": 1,
   "metadata": {},
   "outputs": [],
   "source": [
    "import sys\n",
    "import os\n",
    "\n",
    "# modify syspath directory to sys.path\n",
    "\n",
    "package_path = os.path.abspath(os.path.join('..','core'))\n",
    "if package_path not in sys.path:\n",
    "    sys.path.append(package_path)\n",
    "\n",
    "package_path = os.path.abspath(os.path.join('..','utils'))\n",
    "if package_path not in sys.path:\n",
    "    sys.path.append(package_path)\n",
    "\n",
    "package_path = os.path.abspath(os.path.join('..'))\n",
    "if package_path not in sys.path:\n",
    "    sys.path.append(package_path)\n",
    "\n",
    "import numpy as np\n",
    "import qutip as qt\n",
    "import math\n",
    "import matplotlib.pyplot as plt\n",
    "\n",
    "from IPython.display import HTML # both needed to disply gifs\n",
    "from PIL import Image\n",
    "\n",
    "# Import modules from the package\n",
    "from core import create_hamiltonian as ch\n",
    "from core import create_state as cs\n",
    "from core import create_coherent_state\n",
    "from core import time_evo\n",
    "from core import time_evo_new\n",
    "from core import time_evo_from_state\n",
    "from core import load_param\n",
    "from core import load_H_list\n",
    "from core import load_result\n",
    "from core import load_tlist\n",
    "from core import operators\n",
    "from core.schmidt_solve import compute_schmidt_states_all_time\n",
    "from core.eigen_ener_states import eigen_ener_states as eig\n",
    "from core import annihilation_operator\n",
    "from utils.entropy import compute_VN, plot_VN, compute_VN_time\n",
    "from utils import collapse_gif\n",
    "from utils.collapse_gif import collapse_gif\n",
    "from utils.display_gif import display_gif\n",
    "from utils.distribution_gif import gif_distribution_eig_total\n",
    "from utils.distribution_gif import prob_gif\n",
    "from utils.distribution_gif import gif_distrib_H_s_int\n",
    "from utils.distribution_gif import gif_distrib_system_first_eig\n",
    "from utils.plot import plot_basic\n",
    "from utils.plot import plot_with_binning\n",
    "from utils.basic_functions import state_distribution_eig_tot\n",
    "from utils.basic_functions import random_dephasing\n",
    "from utils.basic_functions import get_state_probabilities\n",
    "from utils.basic_functions import position\n",
    "from utils.basic_functions import copy_cat\n",
    "from utils.basic_functions import plot_einselection\n",
    "from utils.overlap import overlap\n",
    "from utils.overlap import gif_schmidt_overlap\n",
    "from utils.interference import interference_plot\n",
    "from utils.expectations import exp_val_time\n",
    "from utils.plot_hamiltonians import plot_hamiltonians\n",
    "\n",
    "plt.rcParams['font.family'] = 'serif'\n",
    "plt.rcParams['font.serif'] = ['Times New Roman']\n",
    "plt.rcParams['axes.titlesize'] = 16             # Title font size\n",
    "plt.rcParams['axes.titleweight'] = 'bold'       # Title font weight\n",
    "plt.rcParams['axes.labelsize'] = 14             # X and Y label font size\n",
    "plt.rcParams['axes.labelweight'] = 'bold'       # X and Y label font weight\n",
    "#plt.rcParams['axes.grid'] = True                # Enable grid\n",
    "#plt.rcParams['grid.alpha'] = 0.7                # Grid transparency\n",
    "#plt.rcParams['grid.linestyle'] = '--'           # Grid line style\n",
    "#plt.rcParams['grid.color'] = 'gray'             # Grid color\n",
    "\n",
    "# Tick settings\n",
    "plt.rcParams['xtick.labelsize'] = 12            # X tick label size\n",
    "plt.rcParams['ytick.labelsize'] = 12            # Y tick label size\n",
    "plt.rcParams['xtick.direction'] = 'in'          # X tick direction\n",
    "plt.rcParams['ytick.direction'] = 'in'          # Y tick direction\n",
    "plt.rcParams['xtick.major.size'] = 6            # X major tick size\n",
    "plt.rcParams['ytick.major.size'] = 6            # Y major tick size\n",
    "\n",
    "# Legend settings\n",
    "plt.rcParams['legend.fontsize'] = 12            # Legend font size\n",
    "plt.rcParams['legend.frameon'] = True           # Enable legend frame\n",
    "plt.rcParams['legend.framealpha'] = 0.9         # Legend frame transparency\n",
    "plt.rcParams['legend.loc'] = 'best'             # Legend location\n",
    "\n",
    "# Line and marker settings\n",
    "plt.rcParams['lines.linewidth'] = 2             # Line width\n",
    "plt.rcParams['lines.markersize'] = 6            # Marker size\n",
    "\n",
    "custom_colors = ['#1c4587', '#e6194B', '#2ca02c', '#d62728', '#9467bd', \n",
    "                 '#8c564b', '#e377c2', '#7f7f7f', '#bcbd22', '#17becf']\n",
    "\n",
    "plt.rcParams['axes.prop_cycle'] = plt.cycler(color=custom_colors)\n"
   ]
  },
  {
   "cell_type": "markdown",
   "metadata": {},
   "source": [
    "<h1>The goal here is to try construct the functions necessary for working with a new slightly generalized ACL model. "
   ]
  },
  {
   "cell_type": "markdown",
   "metadata": {},
   "source": [
    "We first define it:\n",
    "\n",
    "\\begin{equation}\n",
    "    H=\\alpha_s H_s\\otimes1+(\\alpha_{i,sep} H_s^{(I)}\\otimes H_e^{(I)}+\\alpha_{i,insep} H_{se}^{(I)})+\\alpha_e1\\otimes H_e\n",
    "\\end{equation}"
   ]
  },
  {
   "cell_type": "markdown",
   "metadata": {},
   "source": [
    "Now we adapt or create new functions for working with it."
   ]
  },
  {
   "cell_type": "markdown",
   "metadata": {},
   "source": [
    "Next we will look at characterizing the model. Does it undergo decoherence?"
   ]
  },
  {
   "cell_type": "code",
   "execution_count": null,
   "metadata": {},
   "outputs": [],
   "source": []
  },
  {
   "cell_type": "code",
   "execution_count": null,
   "metadata": {},
   "outputs": [],
   "source": []
  },
  {
   "cell_type": "code",
   "execution_count": null,
   "metadata": {},
   "outputs": [],
   "source": []
  },
  {
   "cell_type": "code",
   "execution_count": null,
   "metadata": {},
   "outputs": [],
   "source": []
  },
  {
   "cell_type": "code",
   "execution_count": null,
   "metadata": {},
   "outputs": [],
   "source": []
  },
  {
   "cell_type": "code",
   "execution_count": null,
   "metadata": {},
   "outputs": [],
   "source": []
  },
  {
   "cell_type": "code",
   "execution_count": null,
   "metadata": {},
   "outputs": [],
   "source": []
  },
  {
   "cell_type": "code",
   "execution_count": null,
   "metadata": {},
   "outputs": [],
   "source": []
  },
  {
   "cell_type": "code",
   "execution_count": null,
   "metadata": {},
   "outputs": [],
   "source": []
  }
 ],
 "metadata": {
  "kernelspec": {
   "display_name": "ACL_env",
   "language": "python",
   "name": "python3"
  },
  "language_info": {
   "codemirror_mode": {
    "name": "ipython",
    "version": 3
   },
   "file_extension": ".py",
   "mimetype": "text/x-python",
   "name": "python",
   "nbconvert_exporter": "python",
   "pygments_lexer": "ipython3",
   "version": "3.12.2"
  }
 },
 "nbformat": 4,
 "nbformat_minor": 2
}
