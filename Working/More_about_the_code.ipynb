{
 "cells": [
  {
   "cell_type": "markdown",
   "metadata": {},
   "source": [
    "<img src=\"outputs/temp/unitary_fund_logo.png\" width=\"500\"> <img src=\"outputs/temp/ACL.png\" width=\"361\">"
   ]
  },
  {
   "cell_type": "code",
   "execution_count": null,
   "metadata": {},
   "outputs": [],
   "source": []
  },
  {
   "cell_type": "markdown",
   "metadata": {},
   "source": [
    "Architechture.\n",
    "\n",
    "saves simulation. \n",
    "Has all the tools in functions necessary to recover simulation data. \n",
    "Has separate functions for calculating useful stuff: returns eigenstates and eigenvalues, schmdirt decomposition, ...\n",
    "\n",
    "List of utility funcionts\n",
    "\n",
    "List of core functions\n",
    "\n",
    "Functions are structured to take data in the same order all the time. you just give them the general outputs, such as H_list and it extracts from it what is needed."
   ]
  }
 ],
 "metadata": {
  "language_info": {
   "name": "python"
  }
 },
 "nbformat": 4,
 "nbformat_minor": 2
}
