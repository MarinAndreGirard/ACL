{
 "cells": [
  {
   "cell_type": "markdown",
   "metadata": {},
   "source": [
    "<img src=\"outputs/temp/unitary_fund_logo.png\" width=\"500\"> <img src=\"outputs/temp/ACL.png\" width=\"361\">"
   ]
  },
  {
   "cell_type": "markdown",
   "metadata": {},
   "source": [
    "Specifically in the code, with parameter in green, the model takes the following form, INCORECT HAS BEEN CHANGED NOW!!!\n",
    "$$H = H_s + H_{int} + H_e = H_{s\\_ self} \\otimes id + H_{int\\_ s} \\otimes H_{int\\_ e} + id \\otimes H_{e\\_ self}$$\n",
    "$$ = [{\\color{ForestGreen}E_s} \\otimes diag(i)\\otimes id(d_2) + {\\color{ForestGreen}E_{s2}} \\otimes id(d_1)\\otimes id(d_2) ] + [{\\color{ForestGreen}(E_{int\\_ s}} \\otimes offdiag(\\sqrt{i}) + {\\color{ForestGreen}E_{int\\_ s2}} \\otimes diag(i)) \\otimes ({\\color{ForestGreen}E_{int\\_ e}} \\otimes rd(d_2) + {\\color{ForestGreen}E_{int\\_ e2}} \\otimes id(d_2))] + [id(d_1) \\otimes ({\\color{ForestGreen}E_e} \\otimes H_{e\\_ self} + {\\color{ForestGreen}E_{e2}} \\otimes id(d_2))]$$\n",
    "\n",
    "Finally this leaves us with the following parameters defining the model. \n",
    "E_e and E_I are c numbers responsible for the relative strenght between system-env interaction, systyem self interaction and environment self interaction.\n",
    "E^0_e and E^0_I are real numbers responsible for energy scale of the environment and interaction Hamiltonian.\n",
    "\n",
    "BLock diagonal stuff\n",
    "\n",
    "Taking the eigenstates of $H_q$ to be $\\{|q_i\\rangle\\}\\forall$, there is a basis like $\\{|q_i\\rangle|k(q_i)\\rangle\\}$, such that $H_{tot}$, $H_e$ and $H_I$ take the a block diagonal form. $i\\in[0,d_1-1],j\\in [0,d_2-1]$, $d_1$ and $d_2$ the dimensions of the system and environment respectively, giving a total dimension $d=d_1*d_2$."
   ]
  },
  {
   "cell_type": "code",
   "execution_count": null,
   "metadata": {},
   "outputs": [],
   "source": []
  },
  {
   "cell_type": "markdown",
   "metadata": {},
   "source": [
    "Architechture.\n",
    "\n",
    "saves simulation. \n",
    "Has all the tools in functions necessary to recover simulation data. \n",
    "Has separate functions for calculating useful stuff: returns eigenstates and eigenvalues, schmdirt decomposition, ...\n",
    "\n",
    "List of utility funcionts\n",
    "\n",
    "List of core functions\n",
    "\n",
    "Functions are structured to take data in the same order all the time. you just give them the general outputs, such as H_list and it extracts from it what is needed."
   ]
  }
 ],
 "metadata": {
  "language_info": {
   "name": "python"
  }
 },
 "nbformat": 4,
 "nbformat_minor": 2
}
