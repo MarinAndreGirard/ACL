{
 "cells": [
  {
   "cell_type": "code",
   "execution_count": 1,
   "metadata": {},
   "outputs": [],
   "source": [
    "import numpy as np\n",
    "import qutip as qt\n",
    "import math\n",
    "import matplotlib.pyplot as plt"
   ]
  },
  {
   "cell_type": "code",
   "execution_count": 2,
   "metadata": {},
   "outputs": [],
   "source": [
    "#from ACL.core.create_hamiltonian import create_hamiltonian\n",
    "from time_evo import time_evo\n",
    "#from core.create_hamiltonian import create_hamiltonian\n",
    "#from ACL.core import create_state\n",
    "#from ACL.core import time_evo"
   ]
  },
  {
   "cell_type": "code",
   "execution_count": 3,
   "metadata": {},
   "outputs": [
    {
     "ename": "ValueError",
     "evalue": "All basis indices must be `offset <= n < dimension+offset`.",
     "output_type": "error",
     "traceback": [
      "\u001b[0;31m---------------------------------------------------------------------------\u001b[0m",
      "\u001b[0;31mValueError\u001b[0m                                Traceback (most recent call last)",
      "Cell \u001b[0;32mIn[3], line 5\u001b[0m\n\u001b[1;32m      1\u001b[0m \u001b[38;5;66;03m# Setting parameters for simulation TODO make a config file for this.\u001b[39;00m\n\u001b[1;32m      3\u001b[0m d1 \u001b[38;5;241m=\u001b[39m \u001b[38;5;241m2\u001b[39m; d2 \u001b[38;5;241m=\u001b[39m \u001b[38;5;241m200\u001b[39m; E_spacing \u001b[38;5;241m=\u001b[39m \u001b[38;5;241m1.0\u001b[39m; E_int \u001b[38;5;241m=\u001b[39m \u001b[38;5;241m0.03\u001b[39m; E_int2 \u001b[38;5;241m=\u001b[39m \u001b[38;5;241m0\u001b[39m; E_env \u001b[38;5;241m=\u001b[39m \u001b[38;5;241m1\u001b[39m; E_env2 \u001b[38;5;241m=\u001b[39m \u001b[38;5;241m0\u001b[39m; w \u001b[38;5;241m=\u001b[39m [\u001b[38;5;241m0.3\u001b[39m]; tmax \u001b[38;5;241m=\u001b[39m \u001b[38;5;241m10\u001b[39m; ind_nb \u001b[38;5;241m=\u001b[39m \u001b[38;5;241m100\u001b[39m; log \u001b[38;5;241m=\u001b[39m \u001b[38;5;241m0\u001b[39m\n\u001b[0;32m----> 5\u001b[0m result, tlist, H_list, ket_list \u001b[38;5;241m=\u001b[39m \u001b[43mtime_evo\u001b[49m\u001b[43m(\u001b[49m\u001b[43md1\u001b[49m\u001b[43m,\u001b[49m\u001b[43md2\u001b[49m\u001b[43m,\u001b[49m\u001b[43mE_spacing\u001b[49m\u001b[43m,\u001b[49m\u001b[43m \u001b[49m\u001b[43mE_int\u001b[49m\u001b[43m,\u001b[49m\u001b[43m \u001b[49m\u001b[43mE_int2\u001b[49m\u001b[43m,\u001b[49m\u001b[43m \u001b[49m\u001b[43mE_env\u001b[49m\u001b[43m,\u001b[49m\u001b[43m \u001b[49m\u001b[43mE_env2\u001b[49m\u001b[43m,\u001b[49m\u001b[43mw\u001b[49m\u001b[43m,\u001b[49m\u001b[43m \u001b[49m\u001b[43mtmax\u001b[49m\u001b[43m,\u001b[49m\u001b[43m \u001b[49m\u001b[43mind_nb\u001b[49m\u001b[43m,\u001b[49m\u001b[43mlog\u001b[49m\u001b[43m)\u001b[49m\n",
      "File \u001b[0;32m~/Dev/ACL/core/time_evo.py:14\u001b[0m, in \u001b[0;36mtime_evo\u001b[0;34m(d1, d2, E_spacing, E_int, E_int2, E_env, E_env2, w, tmax, ind_nb, log)\u001b[0m\n\u001b[1;32m     12\u001b[0m H_list \u001b[38;5;241m=\u001b[39m ch\u001b[38;5;241m.\u001b[39mcreate_H(d1,d2,E_spacing, E_int, E_int2, E_env, E_env2)\n\u001b[1;32m     13\u001b[0m H\u001b[38;5;241m=\u001b[39mH_list[\u001b[38;5;241m1\u001b[39m]\n\u001b[0;32m---> 14\u001b[0m state_list \u001b[38;5;241m=\u001b[39m \u001b[43mcs\u001b[49m\u001b[38;5;241;43m.\u001b[39;49m\u001b[43mcreate_state\u001b[49m\u001b[43m(\u001b[49m\u001b[43md1\u001b[49m\u001b[43m,\u001b[49m\u001b[43md2\u001b[49m\u001b[43m,\u001b[49m\u001b[43mH_list\u001b[49m\u001b[43m[\u001b[49m\u001b[38;5;241;43m8\u001b[39;49m\u001b[43m]\u001b[49m\u001b[43m,\u001b[49m\u001b[43mw\u001b[49m\u001b[43m)\u001b[49m \n\u001b[1;32m     16\u001b[0m tlist \u001b[38;5;241m=\u001b[39m np\u001b[38;5;241m.\u001b[39mlinspace(\u001b[38;5;241m0\u001b[39m, tmax, ind_nb) \u001b[38;5;66;03m# Linear spacing\u001b[39;00m\n\u001b[1;32m     17\u001b[0m \u001b[38;5;28;01mif\u001b[39;00m log \u001b[38;5;241m==\u001b[39m \u001b[38;5;241m0\u001b[39m:\n",
      "File \u001b[0;32m~/Dev/ACL/core/create_state.py:16\u001b[0m, in \u001b[0;36mcreate_state\u001b[0;34m(d1, d2, H_e_self, w)\u001b[0m\n\u001b[1;32m      5\u001b[0m \u001b[38;5;28;01mdef\u001b[39;00m \u001b[38;5;21mcreate_state\u001b[39m(d1,d2, H_e_self,w):\n\u001b[1;32m      6\u001b[0m     \n\u001b[1;32m      7\u001b[0m     \u001b[38;5;66;03m#We give the choice of how which state superposition to use. and how many (not more than d1)\u001b[39;00m\n\u001b[0;32m   (...)\u001b[0m\n\u001b[1;32m     13\u001b[0m     \u001b[38;5;66;03m#d1 = 10,d2 = 200,w = 0.3, E_spacing = 1.0, Int_strength = 0.03, tmax= 10, ind_nb = 100,log=0,envi=[1,2]\u001b[39;00m\n\u001b[1;32m     14\u001b[0m     \u001b[38;5;66;03m#TODO use these things above to make the function more general. ie, go see the other generate_result in the q_solve.py.\u001b[39;00m\n\u001b[0;32m---> 16\u001b[0m     ket_0 \u001b[38;5;241m=\u001b[39m \u001b[43mqt\u001b[49m\u001b[38;5;241;43m.\u001b[39;49m\u001b[43mbasis\u001b[49m\u001b[43m(\u001b[49m\u001b[43md1\u001b[49m\u001b[43m,\u001b[49m\u001b[43m \u001b[49m\u001b[38;5;241;43m3\u001b[39;49m\u001b[43m)\u001b[49m \u001b[38;5;66;03m#qt.basis(d1, round(d1*1/4))  # |0> state\u001b[39;00m\n\u001b[1;32m     17\u001b[0m     ket_1 \u001b[38;5;241m=\u001b[39m qt\u001b[38;5;241m.\u001b[39mbasis(d1, \u001b[38;5;241m7\u001b[39m) \u001b[38;5;66;03m#qt.basis(d1, round(d1*3/4))  # |2> state, int(dim_system_1/2)\u001b[39;00m\n\u001b[1;32m     18\u001b[0m     ket_list \u001b[38;5;241m=\u001b[39m [ket_0, ket_1]\n",
      "File \u001b[0;32m/usr/local/lib/python3.11/site-packages/qutip/states.py:112\u001b[0m, in \u001b[0;36mbasis\u001b[0;34m(dimensions, n, offset)\u001b[0m\n\u001b[1;32m    110\u001b[0m     \u001b[38;5;28;01mraise\u001b[39;00m \u001b[38;5;167;01mValueError\u001b[39;00m(\u001b[38;5;124m\"\u001b[39m\u001b[38;5;124mAll dimensions must be >= 0.\u001b[39m\u001b[38;5;124m\"\u001b[39m)\n\u001b[1;32m    111\u001b[0m \u001b[38;5;28;01mif\u001b[39;00m \u001b[38;5;129;01mnot\u001b[39;00m \u001b[38;5;28mall\u001b[39m(\u001b[38;5;241m0\u001b[39m \u001b[38;5;241m<\u001b[39m\u001b[38;5;241m=\u001b[39m n \u001b[38;5;241m<\u001b[39m dimension \u001b[38;5;28;01mfor\u001b[39;00m n, dimension \u001b[38;5;129;01min\u001b[39;00m \u001b[38;5;28mzip\u001b[39m(ns, dimensions)):\n\u001b[0;32m--> 112\u001b[0m     \u001b[38;5;28;01mraise\u001b[39;00m \u001b[38;5;167;01mValueError\u001b[39;00m(\u001b[38;5;124m\"\u001b[39m\u001b[38;5;124mAll basis indices must be \u001b[39m\u001b[38;5;124m\"\u001b[39m\n\u001b[1;32m    113\u001b[0m                      \u001b[38;5;124m\"\u001b[39m\u001b[38;5;124m`offset <= n < dimension+offset`.\u001b[39m\u001b[38;5;124m\"\u001b[39m)\n\u001b[1;32m    114\u001b[0m location, size \u001b[38;5;241m=\u001b[39m \u001b[38;5;241m0\u001b[39m, \u001b[38;5;241m1\u001b[39m\n\u001b[1;32m    115\u001b[0m \u001b[38;5;28;01mfor\u001b[39;00m m, dimension \u001b[38;5;129;01min\u001b[39;00m \u001b[38;5;28mzip\u001b[39m(\u001b[38;5;28mreversed\u001b[39m(ns), \u001b[38;5;28mreversed\u001b[39m(dimensions)):\n",
      "\u001b[0;31mValueError\u001b[0m: All basis indices must be `offset <= n < dimension+offset`."
     ]
    }
   ],
   "source": [
    "# Setting parameters for simulation TODO make a config file for this.\n",
    "\n",
    "d1 = 10; d2 = 200; E_spacing = 1.0; E_int = 0.03; E_int2 = 0; E_env = 1; E_env2 = 0; w = [0.3]; tmax = 10; ind_nb = 100; log = 0\n",
    "\n",
    "result, tlist, H_list, ket_list = time_evo(d1,d2,E_spacing, E_int, E_int2, E_env, E_env2,w, tmax, ind_nb,log)\n"
   ]
  },
  {
   "cell_type": "code",
   "execution_count": null,
   "metadata": {},
   "outputs": [],
   "source": [
    "\n",
    " #defining all quantities used in the simulation\n",
    "    d1, d2 = 10, 200\n",
    "    w = 0.3# smallest weight of the 2 eingestates, set btw 0 and 1\n",
    "    E_spacing = 1.0\n",
    "    Int_strength = 0.03\n",
    "    # Define the time settings for the simulation\n",
    "    tmax= 10\n",
    "    ind_nb = 100\n",
    "    #using all above to obtain QM qtts\n",
    "    result, tlist, H_q, H_system_2, H_system_1_ext, H_system_2_ext, H_interaction, H_total, ket_0, ket_1, initial_state_system_2 = generate_result(d1,d2,w, E_spacing, Int_strength, tmax, ind_nb,1)\n",
    "    \n",
    "    # Eigenstates and eigenenergies \n",
    "    eigenenergies_system_2, eigenstates_system_2 = H_system_2.eigenstates() \n",
    "    eigenenergies_system_total, eigenstates_system_total = H_total.eigenstates() \n",
    "    eigenenergies_system_1, eigenstates_system_1 = H_q.eigenstates() \n",
    "    # Create a 2x2 grid of plots\n",
    "    fig, axes = plt.subplots(2, 2, figsize=(15, 10))\n",
    "    v2 = compute_VN_time(result,tlist)\n",
    "    \n",
    "    # Plot 1: VN entropy over time\n",
    "    axes[0, 0].plot(tlist, v2)\n",
    "    axes[0, 0].set_title(\"VN entropy over time\")\n",
    "    axes[0, 0].set_xlabel(\"time index\")\n",
    "    axes[0, 0].set_ylabel(\"VN entropy\")\n",
    "    \n",
    "    # Plot 2: Distribution of the Environment state over the environment energy eigenstates\n",
    "    time_index = 0  # Define the time index\n",
    "    s0 = compute_schmidt_states(result, time_index, 1)[0]\n",
    "    schmidt_coefficients0 = [abs(np.vdot(s0, eigenstate)) ** 2 for eigenstate in eigenstates_system_2]\n",
    "    axes[0, 1].plot(eigenenergies_system_2, schmidt_coefficients0, marker='o', label=f'Energy {eigenenergies_system_2}')\n",
    "    axes[0, 1].set_title(\"Distribution of the Environment state over the environment energy eigenstates\")\n",
    "    axes[0, 1].set_xlabel(\"Energy Eigenstates\")\n",
    "    axes[0, 1].set_ylabel(\"Schmidt Coefficients\")\n",
    "    \n",
    "    \n",
    "    \n",
    "    # Plot 3: Distribution of the System state over the system energy eigenstates\n",
    "    s0 = compute_schmidt_states(result, time_index, 0)[0]\n",
    "    schmidt_coefficients0 = [abs(np.vdot(s0, eigenstate)) ** 2 for eigenstate in eigenstates_system_1]\n",
    "    axes[1, 0].plot(eigenenergies_system_1, schmidt_coefficients0, marker='o', label=f'Energy {eigenenergies_system_1}')\n",
    "    axes[1, 0].set_title(\"Distribution of the System state over the system energy eigenstates\")\n",
    "    axes[1, 0].set_xlabel(\"Energy Eigenstates\")\n",
    "    axes[1, 0].set_ylabel(\"Schmidt Coefficients\")\n",
    "    \n",
    "    # Plot 4: Distribution of the state over the energy eigenstates\n",
    "    s0 = result.states[0]\n",
    "    schmidt_coefficients0 = [abs(np.vdot(s0, eigenstate)) ** 2 for eigenstate in eigenstates_system_total]\n",
    "    axes[1, 1].plot(eigenenergies_system_total, schmidt_coefficients0, marker='o', label=f'Energy {eigenenergies_system_total}')\n",
    "    axes[1, 1].set_title(\"Distribution of the state over the energy eigenstates\")\n",
    "    axes[1, 1].set_xlabel(\"Energy Eigenstates\")\n",
    "    axes[1, 1].set_ylabel(\"Schmidt Coefficients\")\n",
    "    \n",
    "    plt.tight_layout()  # Adjust spacing between subplots\n",
    "    plt.show()"
   ]
  },
  {
   "cell_type": "code",
   "execution_count": null,
   "metadata": {},
   "outputs": [],
   "source": []
  },
  {
   "cell_type": "code",
   "execution_count": null,
   "metadata": {},
   "outputs": [],
   "source": []
  },
  {
   "cell_type": "code",
   "execution_count": null,
   "metadata": {},
   "outputs": [],
   "source": []
  }
 ],
 "metadata": {
  "kernelspec": {
   "display_name": "Python 3",
   "language": "python",
   "name": "python3"
  },
  "language_info": {
   "codemirror_mode": {
    "name": "ipython",
    "version": 3
   },
   "file_extension": ".py",
   "mimetype": "text/x-python",
   "name": "python",
   "nbconvert_exporter": "python",
   "pygments_lexer": "ipython3",
   "version": "3.11.7"
  }
 },
 "nbformat": 4,
 "nbformat_minor": 2
}
