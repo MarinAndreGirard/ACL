{
 "cells": [
  {
   "cell_type": "markdown",
   "metadata": {},
   "source": [
    "<h1/>The ACL model<h1/>"
   ]
  },
  {
   "cell_type": "markdown",
   "metadata": {},
   "source": [
    "The ACL model is model of **decoherence**, adapted from the Caldeira-Leggett model. It simplifies it by keeping the strict minimum to achieve decoherence while making it numerically practical. \n",
    "The ACL model, models a Hamiltonian, of the form \n",
    "\\begin{equation}    \n",
    "    H_{tot}=H_s+H_e+H_I\n",
    "\\end{equation}\n",
    "in a Hilbert space composed of a system $\\mathcal{S}$ and an environment $\\mathcal{E}$. <br>\n",
    "\n",
    "The system is a truncated simple harmonic oscillator (SHO), who's self Hamiltonian is defined by $H_s=H_{SHO}\\otimes\\mathbb{1}$, with $H_{SHO}$ the Hamiltonian of a simple truncated simple harmonic oscillator.\n",
    "The interaction term is given by $H_I=X\\otimes H^e_I$ with $H^e_I=E_IH_r+E^0_I$ and $X$ the position operator and $H_r$ is a random matrix. This makes the interaction strenght dependant on the position, and various positions get entangled with different environment states. The environment self Hamiltonian is given by $H_e=E_eH_r'+E^0_e$, with $H_r$ another random matrix. The total Hamiltonian is constant during the whole time evolution. \n",
    "\n",
    "He and HeI are independant random matrices to decohere with maximal efficiency, shortening the simulation time needed to get results. (In the CL model the environment is a boson bath.)\n",
    "\n"
   ]
  },
  {
   "cell_type": "markdown",
   "metadata": {},
   "source": [
    "Why the ACL model? \n",
    "\n",
    "\n",
    "Caldeira-Leggett (CL) model is a toy model describing a particle which moves in its own potential and is also coupled to an environment\n",
    "The environment is usually treated as an infinite set of harmonic oscillators, and the particle is often taken to move in a harmonic potential as well.\n",
    "\n",
    "The adaptsations reproduce the essential features of the CL model within a finit Hilbert space. This allows for numerical exploration outside of the markovian limit (where we treat the system using a master equation.). We thus obtain results for unitary QM.\n",
    "\n",
    "one thing we cant get with a master equation is a fully fluctuating equilibrium state. important in studying AoT and einselection relationship.\n",
    "\n",
    "paper introducting the ACL model: \n",
    "\n",
    "\n",
    "Coherent states are the classical equivalent of states of an oscillator. not the energy eigenstates. So i need to show that coherent states are the pointer states/show collapse for my simulation.\n",
    "\n",
    "\n"
   ]
  },
  {
   "cell_type": "markdown",
   "metadata": {},
   "source": [
    "Specifically in the code, with parameter in green, the model takes the following form,\n",
    "$$H = H_s + H_{int} + H_e = H_{s\\_ self} \\otimes id + H_{int\\_ s} \\otimes H_{int\\_ e} + id \\otimes H_{e\\_ self}$$\n",
    "$$ = [{\\color{ForestGreen}E_s} \\otimes diag(i)\\otimes id(d_2) + {\\color{ForestGreen}E_{s2}} \\otimes id(d_1)\\otimes id(d_2) ] + [{\\color{ForestGreen}(E_{int\\_ s}} \\otimes offdiag(\\sqrt{i}) + {\\color{ForestGreen}E_{int\\_ s2}} \\otimes diag(i)) \\otimes ({\\color{ForestGreen}E_{int\\_ e}} \\otimes rd(d_2) + {\\color{ForestGreen}E_{int\\_ e2}} \\otimes id(d_2))] + [id(d_1) \\otimes ({\\color{ForestGreen}E_e} \\otimes H_{e\\_ self} + {\\color{ForestGreen}E_{e2}} \\otimes id(d_2))]$$\n"
   ]
  },
  {
   "cell_type": "markdown",
   "metadata": {},
   "source": [
    "Finally this leaves us with the following parameters defining the model. \n",
    "E_e and E_I are c numbers responsible for the relative strenght between system-env interaction, systyem self interaction and environment self interaction.\n",
    "E^0_e and E^0_I are real numbers responsible for energy scale of the environment and interaction Hamiltonian.\n"
   ]
  },
  {
   "cell_type": "markdown",
   "metadata": {},
   "source": [
    "Done here: \n",
    "we demonstrate the ACL model reproduces decoherence: simple deco results/visualization SHO\n",
    "\n",
    "We demonstrate the possibility of re-deriving known results using the ACL model. ACL paper. Thermalization paper. cosmo paper.\n",
    "\n",
    "We demonstrate its usefulness in exploring new avenues of research: my various new research directions from it, ie splitting. energy conservation in branches.\n",
    "\n",
    "We demonstrate its flexibility in simulating a host of simple decoherence model, taylored for every needs. Show differences between the various models.\n",
    "\n",
    "Based on subsystems paper, recover the 3 regimes of the ACL model described in there.\n",
    "\n",
    "Usefulness of studying decoherence: studying/better understanding noise. Arrow of time. Cosmology .... add references for this. use the references to justify the work, but also the need for various options I am adding."
   ]
  },
  {
   "cell_type": "markdown",
   "metadata": {},
   "source": [
    "BLock diagonal stuff\n",
    "\n",
    "Taking the eigenstates of $H_q$ to be $\\{|q_i\\rangle\\}\\forall$, there is a basis like $\\{|q_i\\rangle|k(q_i)\\rangle\\}$, such that $H_{tot}$, $H_e$ and $H_I$ take the a block diagonal form. $i\\in[0,d_1-1],j\\in [0,d_2-1]$, $d_1$ and $d_2$ the dimensions of the system and environment respectively, giving a total dimension $d=d_1*d_2$."
   ]
  },
  {
   "cell_type": "code",
   "execution_count": null,
   "metadata": {},
   "outputs": [],
   "source": []
  },
  {
   "cell_type": "code",
   "execution_count": null,
   "metadata": {},
   "outputs": [],
   "source": [
    "\n",
    "eigenenergies_system_2, eigenstates_system_2 = H_list[7].eigenstates() \n",
    "eigenenergies_system_total, eigenstates_system_total = H_list[1].eigenstates() \n",
    "eigenenergies_system_1, eigenstates_system_1 = H_list[6].eigenstates() \n",
    "\n",
    "# Plot 2: Distribution of the Environment state over the environment energy eigenstates\n",
    "time_index = 10  # Define the time index\n",
    "s0 = compute_schmidt_states(result, time_index, 1)[0]\n",
    "schmidt_coefficients0 = [abs(np.vdot(s0, eigenstate)) ** 2 for eigenstate in eigenstates_system_2]\n",
    "plt.plot(eigenenergies_system_2, schmidt_coefficients0, marker='o', label=f'Energy {eigenenergies_system_2}')\n",
    "\n",
    "    \n"
   ]
  },
  {
   "cell_type": "code",
   "execution_count": null,
   "metadata": {},
   "outputs": [],
   "source": [
    "    # Plot 3: Distribution of the System state over the system energy eigenstates\n",
    "    s0 = compute_schmidt_states(result, time_index, 0)[0]\n",
    "    schmidt_coefficients0 = [abs(np.vdot(s0, eigenstate)) ** 2 for eigenstate in eigenstates_system_1]\n",
    "    plt.plot(eigenenergies_system_1, schmidt_coefficients0, marker='o', label=f'Energy {eigenenergies_system_1}')\n",
    "    #axes[1, 0].set_title(\"Distribution of the System state over the system energy eigenstates\")\n",
    "    #axes[1, 0].set_xlabel(\"Energy Eigenstates\")\n",
    "    #axes[1, 0].set_ylabel(\"Schmidt Coefficients\")\n",
    "    plt.show()\n",
    "    # Plot 4: Distribution of the state over the energy eigenstates\n",
    "    s0 = result.states[0]\n",
    "    schmidt_coefficients0 = [abs(np.vdot(s0, eigenstate)) ** 2 for eigenstate in eigenstates_system_total]\n",
    "    plt.plot(eigenenergies_system_total, schmidt_coefficients0, marker='o', label=f'Energy {eigenenergies_system_total}')\n",
    "    #axes[1, 1].set_title(\"Distribution of the state over the energy eigenstates\")\n",
    "    #axes[1, 1].set_xlabel(\"Energy Eigenstates\")\n",
    "    #axes[1, 1].set_ylabel(\"Schmidt Coefficients\")\n",
    "    \n",
    "    plt.tight_layout()  # Adjust spacing between subplots\n",
    "    plt.show()"
   ]
  },
  {
   "cell_type": "code",
   "execution_count": null,
   "metadata": {},
   "outputs": [],
   "source": []
  },
  {
   "cell_type": "markdown",
   "metadata": {},
   "source": [
    "<h1>The various models</h1>"
   ]
  },
  {
   "cell_type": "markdown",
   "metadata": {},
   "source": [
    "We start with the simplest possible decoherence model, which as we see in the gif displays apparent collapse"
   ]
  },
  {
   "cell_type": "code",
   "execution_count": null,
   "metadata": {},
   "outputs": [],
   "source": [
    "#To get a very clear collapse, we choose the following parameters.\n",
    "#Essentially, weare making the system interactio a diagonal matrix, ie interaction depends on coherent states.\n",
    "#H = [(E_s x diag(i) + E_s2 x id)x id ] + [(E_int_s x off_diag_sqrt(i) + E_int_s2 x id) x (E_int_e x rd_mat1 + E_int_e2 x id)] + [id x (E_e x H_e_self + E_e2 x id)]\n",
    "d1=10;d2=200;E_s=1; E_s2=0; E_int_s=0; E_int_e=1;E_int_s2=0.06;E_int_e2=0; E_e=1; E_e2=0;w=[0,0,0,np.sqrt(0.3),0,0,0,np.sqrt(0.7),0,0];envi=[0]; tmax= 10; ind_nb = 100;log=0\n",
    "\n",
    "# Running the simulation and running the core functions\n",
    "\n",
    "result, tlist, H_list, ket_list, info = time_evo_new(d1,d2,E_s,E_s2,E_int_s,E_int_e,E_int_s2,E_int_e2,E_e,E_e2,w,envi,tmax,ind_nb,log)\n",
    "eigen = eig(H_list)\n",
    "s_list = compute_schmidt_states_all_time(result, ind_nb)\n",
    "ss_list = s_list[0]\n",
    "se_list= s_list[1]\n",
    "sv_list = s_list[2]\n",
    "s_full_list=s_list[3]\n",
    "plot_hamiltonians(H_list)\n",
    "gif_path = collapse_gif(eigen, s_list, info)\n",
    "display_gif(gif_path)\n"
   ]
  },
  {
   "cell_type": "code",
   "execution_count": null,
   "metadata": {},
   "outputs": [],
   "source": []
  },
  {
   "cell_type": "code",
   "execution_count": null,
   "metadata": {},
   "outputs": [],
   "source": []
  },
  {
   "cell_type": "code",
   "execution_count": null,
   "metadata": {},
   "outputs": [],
   "source": []
  },
  {
   "cell_type": "code",
   "execution_count": null,
   "metadata": {},
   "outputs": [],
   "source": []
  },
  {
   "cell_type": "code",
   "execution_count": null,
   "metadata": {},
   "outputs": [],
   "source": []
  },
  {
   "cell_type": "code",
   "execution_count": null,
   "metadata": {},
   "outputs": [],
   "source": []
  },
  {
   "cell_type": "code",
   "execution_count": null,
   "metadata": {},
   "outputs": [],
   "source": []
  },
  {
   "cell_type": "code",
   "execution_count": null,
   "metadata": {},
   "outputs": [],
   "source": []
  }
 ],
 "metadata": {
  "language_info": {
   "name": "python"
  }
 },
 "nbformat": 4,
 "nbformat_minor": 2
}
