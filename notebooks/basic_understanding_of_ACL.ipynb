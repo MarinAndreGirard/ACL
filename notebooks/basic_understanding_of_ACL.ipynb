{
 "cells": [
  {
   "cell_type": "code",
   "execution_count": null,
   "metadata": {},
   "outputs": [],
   "source": []
  },
  {
   "cell_type": "markdown",
   "metadata": {},
   "source": [
    "The ACL model is model of decoherence, adapted from the Caldeira-Leggett model, hence the acronym. It simplifies it by keeping the strict minimum to achieve decoherence while making it numerically practical. \n",
    "The ACL model, models a Hamiltonian, of the form \n",
    "\\begin{equation}    \n",
    "    H_{tot}=H_s+H_e+H_I\n",
    "\\end{equation}\n",
    "in a Hilbert space composed of a system $\\mathcal{S}$ and an environment $\\mathcal{E}$. \n",
    "The system is a truncated simple harmonic oscillator (SHO), who's self Hamiltonian is defined by $H_s=H_{SHO}\\otimes\\mathbb{1}$, with $H_{SHO}$ the Hamiltonian of a simple truncated simple harmonic oscillator. The interaction term is given by $H_I=X\\otimes H^e_I$ with $H^e_I=E_IH_r+E^0_I$ and $X$ the position operator and $H_r$ is a random matrix. this makes the interaction strenght dependant on the position. The environment self Hamiltonian is given by $H_e=E_eH_r'+E^0_e$, with $H_r$ another random matrix. These random matrices are fixed at the beginning with two seed for re-running a similar simulation and are importantly independantly selected. The total Hamiltonian is constant during the whole time evolution. \n",
    "\n"
   ]
  },
  {
   "cell_type": "markdown",
   "metadata": {},
   "source": [
    "Finally this leaves us with the following parameters defining the model. \n",
    "E_e and E_I are c numbers responsible for the relative strenght between system-env interaction, systyem self interaction and environment self interaction.\n",
    "E^0_e and E^0_I are real numbers responsible for energy scale of the environment and interaction Hamiltonian.\n"
   ]
  },
  {
   "cell_type": "markdown",
   "metadata": {},
   "source": [
    "Done here: \n",
    "we demonstrate the ACL model reproduces decoherence: simple deco results/visualization SHO\n",
    "\n",
    "We demonstrate the possibility of re-deriving known results using the ACL model. ACL paper. Thermalization paper. cosmo paper.\n",
    "\n",
    "We demonstrate its usefulness in exploring new avenues of research: my various new research directions from it, ie splitting.\n",
    "\n",
    "We demonstrate its flexibility in simulating a host of simple decoherence model, taylored for every needs. Show differences between the various models.\n",
    "\n",
    "\n",
    "Usefulness of studying decoherence: studying/better understanding noise. Arrow of time. Cosmology .... add references for this."
   ]
  },
  {
   "cell_type": "markdown",
   "metadata": {},
   "source": [
    "BLock diagonal stuff\n",
    "\n",
    "Taking the eigenstates of $H_q$ to be $\\{|q_i\\rangle\\}\\forall$, there is a basis like $\\{|q_i\\rangle|k(q_i)\\rangle\\}$, such that $H_{tot}$, $H_e$ and $H_I$ take the a block diagonal form. $i\\in[0,d_1-1],j\\in [0,d_2-1]$, $d_1$ and $d_2$ the dimensions of the system and environment respectively, giving a total dimension $d=d_1*d_2$."
   ]
  },
  {
   "cell_type": "code",
   "execution_count": null,
   "metadata": {},
   "outputs": [],
   "source": []
  },
  {
   "cell_type": "code",
   "execution_count": null,
   "metadata": {},
   "outputs": [],
   "source": [
    "\n",
    "eigenenergies_system_2, eigenstates_system_2 = H_list[7].eigenstates() \n",
    "eigenenergies_system_total, eigenstates_system_total = H_list[1].eigenstates() \n",
    "eigenenergies_system_1, eigenstates_system_1 = H_list[6].eigenstates() \n",
    "\n",
    "# Plot 2: Distribution of the Environment state over the environment energy eigenstates\n",
    "time_index = 10  # Define the time index\n",
    "s0 = compute_schmidt_states(result, time_index, 1)[0]\n",
    "schmidt_coefficients0 = [abs(np.vdot(s0, eigenstate)) ** 2 for eigenstate in eigenstates_system_2]\n",
    "plt.plot(eigenenergies_system_2, schmidt_coefficients0, marker='o', label=f'Energy {eigenenergies_system_2}')\n",
    "\n",
    "    \n"
   ]
  },
  {
   "cell_type": "code",
   "execution_count": null,
   "metadata": {},
   "outputs": [],
   "source": [
    "    # Plot 3: Distribution of the System state over the system energy eigenstates\n",
    "    s0 = compute_schmidt_states(result, time_index, 0)[0]\n",
    "    schmidt_coefficients0 = [abs(np.vdot(s0, eigenstate)) ** 2 for eigenstate in eigenstates_system_1]\n",
    "    plt.plot(eigenenergies_system_1, schmidt_coefficients0, marker='o', label=f'Energy {eigenenergies_system_1}')\n",
    "    #axes[1, 0].set_title(\"Distribution of the System state over the system energy eigenstates\")\n",
    "    #axes[1, 0].set_xlabel(\"Energy Eigenstates\")\n",
    "    #axes[1, 0].set_ylabel(\"Schmidt Coefficients\")\n",
    "    plt.show()\n",
    "    # Plot 4: Distribution of the state over the energy eigenstates\n",
    "    s0 = result.states[0]\n",
    "    schmidt_coefficients0 = [abs(np.vdot(s0, eigenstate)) ** 2 for eigenstate in eigenstates_system_total]\n",
    "    plt.plot(eigenenergies_system_total, schmidt_coefficients0, marker='o', label=f'Energy {eigenenergies_system_total}')\n",
    "    #axes[1, 1].set_title(\"Distribution of the state over the energy eigenstates\")\n",
    "    #axes[1, 1].set_xlabel(\"Energy Eigenstates\")\n",
    "    #axes[1, 1].set_ylabel(\"Schmidt Coefficients\")\n",
    "    \n",
    "    plt.tight_layout()  # Adjust spacing between subplots\n",
    "    plt.show()"
   ]
  },
  {
   "cell_type": "code",
   "execution_count": null,
   "metadata": {},
   "outputs": [],
   "source": []
  },
  {
   "cell_type": "code",
   "execution_count": null,
   "metadata": {},
   "outputs": [],
   "source": []
  }
 ],
 "metadata": {
  "language_info": {
   "name": "python"
  }
 },
 "nbformat": 4,
 "nbformat_minor": 2
}
