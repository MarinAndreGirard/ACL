{
 "cells": [
  {
   "cell_type": "code",
   "execution_count": null,
   "metadata": {},
   "outputs": [],
   "source": []
  },
  {
   "cell_type": "code",
   "execution_count": null,
   "metadata": {},
   "outputs": [],
   "source": []
  },
  {
   "cell_type": "code",
   "execution_count": null,
   "metadata": {},
   "outputs": [],
   "source": [
    "\n",
    "eigenenergies_system_2, eigenstates_system_2 = H_list[7].eigenstates() \n",
    "eigenenergies_system_total, eigenstates_system_total = H_list[1].eigenstates() \n",
    "eigenenergies_system_1, eigenstates_system_1 = H_list[6].eigenstates() \n",
    "\n",
    "# Plot 2: Distribution of the Environment state over the environment energy eigenstates\n",
    "time_index = 10  # Define the time index\n",
    "s0 = compute_schmidt_states(result, time_index, 1)[0]\n",
    "schmidt_coefficients0 = [abs(np.vdot(s0, eigenstate)) ** 2 for eigenstate in eigenstates_system_2]\n",
    "plt.plot(eigenenergies_system_2, schmidt_coefficients0, marker='o', label=f'Energy {eigenenergies_system_2}')\n",
    "\n",
    "    \n"
   ]
  },
  {
   "cell_type": "code",
   "execution_count": null,
   "metadata": {},
   "outputs": [],
   "source": [
    "    # Plot 3: Distribution of the System state over the system energy eigenstates\n",
    "    s0 = compute_schmidt_states(result, time_index, 0)[0]\n",
    "    schmidt_coefficients0 = [abs(np.vdot(s0, eigenstate)) ** 2 for eigenstate in eigenstates_system_1]\n",
    "    plt.plot(eigenenergies_system_1, schmidt_coefficients0, marker='o', label=f'Energy {eigenenergies_system_1}')\n",
    "    #axes[1, 0].set_title(\"Distribution of the System state over the system energy eigenstates\")\n",
    "    #axes[1, 0].set_xlabel(\"Energy Eigenstates\")\n",
    "    #axes[1, 0].set_ylabel(\"Schmidt Coefficients\")\n",
    "    plt.show()\n",
    "    # Plot 4: Distribution of the state over the energy eigenstates\n",
    "    s0 = result.states[0]\n",
    "    schmidt_coefficients0 = [abs(np.vdot(s0, eigenstate)) ** 2 for eigenstate in eigenstates_system_total]\n",
    "    plt.plot(eigenenergies_system_total, schmidt_coefficients0, marker='o', label=f'Energy {eigenenergies_system_total}')\n",
    "    #axes[1, 1].set_title(\"Distribution of the state over the energy eigenstates\")\n",
    "    #axes[1, 1].set_xlabel(\"Energy Eigenstates\")\n",
    "    #axes[1, 1].set_ylabel(\"Schmidt Coefficients\")\n",
    "    \n",
    "    plt.tight_layout()  # Adjust spacing between subplots\n",
    "    plt.show()"
   ]
  },
  {
   "cell_type": "code",
   "execution_count": null,
   "metadata": {},
   "outputs": [],
   "source": []
  },
  {
   "cell_type": "code",
   "execution_count": null,
   "metadata": {},
   "outputs": [],
   "source": []
  }
 ],
 "metadata": {
  "language_info": {
   "name": "python"
  }
 },
 "nbformat": 4,
 "nbformat_minor": 2
}
